{
  "cells": [
    {
      "cell_type": "markdown",
      "metadata": {
        "id": "view-in-github",
        "colab_type": "text"
      },
      "source": [
        "<a href=\"https://colab.research.google.com/github/promckkon/bearing-deep-learning-study-/blob/main/For_Denny_%2B%2BNEW_CWRU_MK_DCNN_HSPSO_CatBoost_05172025.ipynb\" target=\"_parent\"><img src=\"https://colab.research.google.com/assets/colab-badge.svg\" alt=\"Open In Colab\"/></a>"
      ]
    },
    {
      "cell_type": "code",
      "source": [
        "from google.colab import drive\n",
        "drive.mount('/content/drive')"
      ],
      "metadata": {
        "colab": {
          "base_uri": "https://localhost:8080/"
        },
        "id": "_JTcgOD9s-GR",
        "outputId": "48a949ac-9ab5-44eb-c33e-a56f1cc10eae"
      },
      "id": "_JTcgOD9s-GR",
      "execution_count": 2,
      "outputs": [
        {
          "output_type": "stream",
          "name": "stdout",
          "text": [
            "Drive already mounted at /content/drive; to attempt to forcibly remount, call drive.mount(\"/content/drive\", force_remount=True).\n"
          ]
        }
      ]
    },
    {
      "cell_type": "code",
      "execution_count": null,
      "id": "1132b641",
      "metadata": {
        "id": "1132b641"
      },
      "outputs": [],
      "source": [
        "import scipy.io\n",
        "import seaborn as sns\n",
        "import numpy as np\n",
        "import pandas as pd\n",
        "import os\n",
        "import matplotlib.pyplot as plt"
      ]
    },
    {
      "cell_type": "markdown",
      "source": [
        "Dataset Input"
      ],
      "metadata": {
        "id": "2haV_hKQQOg-"
      },
      "id": "2haV_hKQQOg-"
    },
    {
      "cell_type": "code",
      "source": [
        "df=pd.DataFrame(columns=['DE_data','fault']) # upload the dataset on googledrive\n",
        "\n",
        "for root, dirs, files in os.walk(\"/content/drive/MyDrive/CWRU_with_NOISE/CWRU_2\", topdown=False):\n",
        "    for file_name in files:\n",
        "        path = os.path.join(root, file_name)\n",
        "        print(path)\n",
        "\n",
        "        mat = scipy.io.loadmat(path)\n",
        "\n",
        "        key_name = list(mat.keys())[3]\n",
        "        DE_data = mat.get(key_name)\n",
        "        fault = np.full((len(DE_data), 1), file_name[:-4])\n",
        "\n",
        "        df_temp = pd.DataFrame({'DE_data':np.ravel(DE_data) , 'fault':np.ravel(fault)})\n",
        "\n",
        "        df = pd.concat([df,df_temp],axis=0)\n",
        "        print(df['fault'].unique())\n",
        "\n",
        "df.to_csv('/content/drive/MyDrive/MK-DCNN CWRU/NOISE_0_faults.csv',index=False)"
      ],
      "metadata": {
        "colab": {
          "base_uri": "https://localhost:8080/"
        },
        "id": "sXzSVyy_ylsF",
        "outputId": "39ba3c92-f463-4423-d78f-b206338180f0"
      },
      "id": "sXzSVyy_ylsF",
      "execution_count": null,
      "outputs": [
        {
          "output_type": "stream",
          "name": "stdout",
          "text": [
            "/content/drive/MyDrive/CWRU_with_NOISE/CWRU_2/240.mat\n"
          ]
        },
        {
          "output_type": "stream",
          "name": "stderr",
          "text": [
            "<ipython-input-44-4247073321>:16: FutureWarning: The behavior of DataFrame concatenation with empty or all-NA entries is deprecated. In a future version, this will no longer exclude empty or all-NA columns when determining the result dtypes. To retain the old behavior, exclude the relevant entries before the concat operation.\n",
            "  df = pd.concat([df,df_temp],axis=0)\n"
          ]
        },
        {
          "output_type": "stream",
          "name": "stdout",
          "text": [
            "['240']\n",
            "/content/drive/MyDrive/CWRU_with_NOISE/CWRU_2/99.mat\n",
            "['240' '99']\n",
            "/content/drive/MyDrive/CWRU_with_NOISE/CWRU_2/215.mat\n",
            "['240' '99' '215']\n",
            "/content/drive/MyDrive/CWRU_with_NOISE/CWRU_2/191.mat\n",
            "['240' '99' '215' '191']\n",
            "/content/drive/MyDrive/CWRU_with_NOISE/CWRU_2/111.mat\n",
            "['240' '99' '215' '191' '111']\n",
            "/content/drive/MyDrive/CWRU_with_NOISE/CWRU_2/203.mat\n",
            "['240' '99' '215' '191' '111' '203']\n",
            "/content/drive/MyDrive/CWRU_with_NOISE/CWRU_2/137.mat\n",
            "['240' '99' '215' '191' '111' '203' '137']\n",
            "/content/drive/MyDrive/CWRU_with_NOISE/CWRU_2/124.mat\n",
            "['240' '99' '215' '191' '111' '203' '137' '124']\n",
            "/content/drive/MyDrive/CWRU_with_NOISE/CWRU_2/228.mat\n",
            "['240' '99' '215' '191' '111' '203' '137' '124' '228']\n",
            "/content/drive/MyDrive/CWRU_with_NOISE/CWRU_2/176.mat\n",
            "['240' '99' '215' '191' '111' '203' '137' '124' '228' '176']\n"
          ]
        }
      ]
    },
    {
      "cell_type": "markdown",
      "source": [
        "# Multi-Kernel Deep 1D-CNN"
      ],
      "metadata": {
        "id": "2d0arbB2knS8"
      },
      "id": "2d0arbB2knS8"
    },
    {
      "cell_type": "code",
      "source": [
        "pip install tensorflow"
      ],
      "metadata": {
        "colab": {
          "base_uri": "https://localhost:8080/"
        },
        "id": "-dsJA9B5YVAW",
        "outputId": "f54e3153-3326-4a21-baa0-832982bb3dfc"
      },
      "id": "-dsJA9B5YVAW",
      "execution_count": null,
      "outputs": [
        {
          "output_type": "stream",
          "name": "stdout",
          "text": [
            "Requirement already satisfied: tensorflow in /usr/local/lib/python3.11/dist-packages (2.18.0)\n",
            "Requirement already satisfied: absl-py>=1.0.0 in /usr/local/lib/python3.11/dist-packages (from tensorflow) (1.4.0)\n",
            "Requirement already satisfied: astunparse>=1.6.0 in /usr/local/lib/python3.11/dist-packages (from tensorflow) (1.6.3)\n",
            "Requirement already satisfied: flatbuffers>=24.3.25 in /usr/local/lib/python3.11/dist-packages (from tensorflow) (25.2.10)\n",
            "Requirement already satisfied: gast!=0.5.0,!=0.5.1,!=0.5.2,>=0.2.1 in /usr/local/lib/python3.11/dist-packages (from tensorflow) (0.6.0)\n",
            "Requirement already satisfied: google-pasta>=0.1.1 in /usr/local/lib/python3.11/dist-packages (from tensorflow) (0.2.0)\n",
            "Requirement already satisfied: libclang>=13.0.0 in /usr/local/lib/python3.11/dist-packages (from tensorflow) (18.1.1)\n",
            "Requirement already satisfied: opt-einsum>=2.3.2 in /usr/local/lib/python3.11/dist-packages (from tensorflow) (3.4.0)\n",
            "Requirement already satisfied: packaging in /usr/local/lib/python3.11/dist-packages (from tensorflow) (24.2)\n",
            "Requirement already satisfied: protobuf!=4.21.0,!=4.21.1,!=4.21.2,!=4.21.3,!=4.21.4,!=4.21.5,<6.0.0dev,>=3.20.3 in /usr/local/lib/python3.11/dist-packages (from tensorflow) (5.29.5)\n",
            "Requirement already satisfied: requests<3,>=2.21.0 in /usr/local/lib/python3.11/dist-packages (from tensorflow) (2.32.3)\n",
            "Requirement already satisfied: setuptools in /usr/local/lib/python3.11/dist-packages (from tensorflow) (75.2.0)\n",
            "Requirement already satisfied: six>=1.12.0 in /usr/local/lib/python3.11/dist-packages (from tensorflow) (1.17.0)\n",
            "Requirement already satisfied: termcolor>=1.1.0 in /usr/local/lib/python3.11/dist-packages (from tensorflow) (3.1.0)\n",
            "Requirement already satisfied: typing-extensions>=3.6.6 in /usr/local/lib/python3.11/dist-packages (from tensorflow) (4.14.0)\n",
            "Requirement already satisfied: wrapt>=1.11.0 in /usr/local/lib/python3.11/dist-packages (from tensorflow) (1.17.2)\n",
            "Requirement already satisfied: grpcio<2.0,>=1.24.3 in /usr/local/lib/python3.11/dist-packages (from tensorflow) (1.72.1)\n",
            "Requirement already satisfied: tensorboard<2.19,>=2.18 in /usr/local/lib/python3.11/dist-packages (from tensorflow) (2.18.0)\n",
            "Requirement already satisfied: keras>=3.5.0 in /usr/local/lib/python3.11/dist-packages (from tensorflow) (3.8.0)\n",
            "Requirement already satisfied: numpy<2.1.0,>=1.26.0 in /usr/local/lib/python3.11/dist-packages (from tensorflow) (2.0.2)\n",
            "Requirement already satisfied: h5py>=3.11.0 in /usr/local/lib/python3.11/dist-packages (from tensorflow) (3.13.0)\n",
            "Requirement already satisfied: ml-dtypes<0.5.0,>=0.4.0 in /usr/local/lib/python3.11/dist-packages (from tensorflow) (0.4.1)\n",
            "Requirement already satisfied: tensorflow-io-gcs-filesystem>=0.23.1 in /usr/local/lib/python3.11/dist-packages (from tensorflow) (0.37.1)\n",
            "Requirement already satisfied: wheel<1.0,>=0.23.0 in /usr/local/lib/python3.11/dist-packages (from astunparse>=1.6.0->tensorflow) (0.45.1)\n",
            "Requirement already satisfied: rich in /usr/local/lib/python3.11/dist-packages (from keras>=3.5.0->tensorflow) (13.9.4)\n",
            "Requirement already satisfied: namex in /usr/local/lib/python3.11/dist-packages (from keras>=3.5.0->tensorflow) (0.1.0)\n",
            "Requirement already satisfied: optree in /usr/local/lib/python3.11/dist-packages (from keras>=3.5.0->tensorflow) (0.16.0)\n",
            "Requirement already satisfied: charset-normalizer<4,>=2 in /usr/local/lib/python3.11/dist-packages (from requests<3,>=2.21.0->tensorflow) (3.4.2)\n",
            "Requirement already satisfied: idna<4,>=2.5 in /usr/local/lib/python3.11/dist-packages (from requests<3,>=2.21.0->tensorflow) (3.10)\n",
            "Requirement already satisfied: urllib3<3,>=1.21.1 in /usr/local/lib/python3.11/dist-packages (from requests<3,>=2.21.0->tensorflow) (2.4.0)\n",
            "Requirement already satisfied: certifi>=2017.4.17 in /usr/local/lib/python3.11/dist-packages (from requests<3,>=2.21.0->tensorflow) (2025.4.26)\n",
            "Requirement already satisfied: markdown>=2.6.8 in /usr/local/lib/python3.11/dist-packages (from tensorboard<2.19,>=2.18->tensorflow) (3.8)\n",
            "Requirement already satisfied: tensorboard-data-server<0.8.0,>=0.7.0 in /usr/local/lib/python3.11/dist-packages (from tensorboard<2.19,>=2.18->tensorflow) (0.7.2)\n",
            "Requirement already satisfied: werkzeug>=1.0.1 in /usr/local/lib/python3.11/dist-packages (from tensorboard<2.19,>=2.18->tensorflow) (3.1.3)\n",
            "Requirement already satisfied: MarkupSafe>=2.1.1 in /usr/local/lib/python3.11/dist-packages (from werkzeug>=1.0.1->tensorboard<2.19,>=2.18->tensorflow) (3.0.2)\n",
            "Requirement already satisfied: markdown-it-py>=2.2.0 in /usr/local/lib/python3.11/dist-packages (from rich->keras>=3.5.0->tensorflow) (3.0.0)\n",
            "Requirement already satisfied: pygments<3.0.0,>=2.13.0 in /usr/local/lib/python3.11/dist-packages (from rich->keras>=3.5.0->tensorflow) (2.19.1)\n",
            "Requirement already satisfied: mdurl~=0.1 in /usr/local/lib/python3.11/dist-packages (from markdown-it-py>=2.2.0->rich->keras>=3.5.0->tensorflow) (0.1.2)\n"
          ]
        },
        {
          "output_type": "stream",
          "name": "stderr",
          "text": [
            "[0] model (Particle Swarm Optimization):   2%|\u001b[33m          \u001b[0m| 1/40 [08:56<5:48:43, 536.51s/it, best_iter=0, best_pos=None, best_score=-inf]\n",
            "[0] model (Particle Swarm Optimization):   0%|\u001b[33m          \u001b[0m| 0/40 [08:20<?, ?it/s]\n",
            "[0] model (Particle Swarm Optimization):   0%|\u001b[33m          \u001b[0m| 0/40 [08:17<?, ?it/s]\n"
          ]
        }
      ]
    },
    {
      "cell_type": "code",
      "source": [
        "from sklearn.preprocessing import LabelEncoder\n",
        "from tensorflow.keras.utils import to_categorical\n",
        "\n",
        "\n",
        "# Total target rows\n",
        "TARGET_ROWS = 1800\n",
        "\n",
        "# Estimate the total number of samples across all fault types\n",
        "total_samples = sum(len(df[df['fault'] == f]) for f in df['fault'].unique())\n",
        "\n",
        "# Calculate suitable window size and stride\n",
        "num_faults = 9\n",
        "average_samples_per_fault = total_samples / num_faults\n",
        "approx_windows_per_fault = TARGET_ROWS / num_faults\n",
        "stride_ratio = 0.8  # Initial stride/window ratio\n",
        "\n",
        "win_len = int(average_samples_per_fault / approx_windows_per_fault)\n",
        "stride = int(win_len * stride_ratio)\n",
        "\n",
        "X=[]\n",
        "Y=[]\n",
        "\n",
        "\n",
        "for k in df['fault'].unique():\n",
        "\n",
        "    df_temp_2 = df[df['fault']==k]\n",
        "\n",
        "    for i in np.arange(0,len(df_temp_2)-(win_len),stride):\n",
        "        temp = df_temp_2.iloc[i:i+win_len,:-1].values\n",
        "        temp = temp.reshape((1,-1))\n",
        "        X.append(temp)\n",
        "        Y.append(df_temp_2.iloc[i+win_len,-1])\n",
        "\n",
        "X=np.array(X)\n",
        "X=X.reshape((X.shape[0],-1,1))\n",
        "#X = np.repeat(X, 3, axis=3) # To repeat into 3 chanel format\n",
        "\n",
        "\n",
        "Y=np.array(Y)\n",
        "encoder= LabelEncoder()\n",
        "encoder.fit(Y)\n",
        "encoded_Y = encoder.transform(Y)\n",
        "OHE_Y = to_categorical(encoded_Y)"
      ],
      "metadata": {
        "id": "5s5vUXrUM2BH"
      },
      "id": "5s5vUXrUM2BH",
      "execution_count": null,
      "outputs": []
    },
    {
      "cell_type": "code",
      "source": [
        "from sklearn.model_selection import train_test_split\n",
        "X_train,X_test,y_train,y_test = train_test_split(X,OHE_Y,test_size=0.3,shuffle=True)"
      ],
      "metadata": {
        "id": "PreHyG2yMkTA"
      },
      "id": "PreHyG2yMkTA",
      "execution_count": null,
      "outputs": []
    },
    {
      "cell_type": "code",
      "source": [
        "import tensorflow as tf\n",
        "from tensorflow.keras.models import Model\n",
        "from tensorflow.keras.layers import Input, Dense, Dropout, Flatten, Conv1D, MaxPooling1D, concatenate\n",
        "from tensorflow.keras import backend as K\n",
        "\n",
        "# --- Custom Physics-Informed Loss Function ---\n",
        "def custom_loss(y_true, y_pred):\n",
        "    # Standard categorical crossentropy\n",
        "    loss = K.categorical_crossentropy(y_true, y_pred)\n",
        "\n",
        "    # Physics-Informed Term: penalize rapid class probability changes\n",
        "    # Ensure y_pred is at least 2D for slicing\n",
        "    if K.ndim(y_pred) < 2:\n",
        "        y_pred = K.expand_dims(y_pred, axis=-1)\n",
        "\n",
        "    # Ensure y_pred has more than one class dimension to compute diff\n",
        "    if K.int_shape(y_pred)[-1] > 1:\n",
        "        diff = y_pred[:, 1:] - y_pred[:, :-1]\n",
        "        squared_diff = tf.square(diff)\n",
        "        physics_term = tf.reduce_mean(squared_diff)\n",
        "    else:\n",
        "        physics_term = 0.0 # No physics term if only one class\n",
        "\n",
        "\n",
        "    # Total loss = classification loss + regularization term\n",
        "    total_loss = loss + 0.01 * physics_term  # 0.01 is tunable\n",
        "\n",
        "    return total_loss\n",
        "\n",
        "# --- Model Definition ---\n",
        "# no_classes = len(df['fault'].unique()) # Original line that caused 10 classes\n",
        "no_classes = len(encoder.classes_) # Use the encoder to get the correct number of classes\n",
        "print(f\"Number of output classes (no_classes): {no_classes}\") # Add print statement to verify\n",
        "\n",
        "input_shape = (X.shape[1], X.shape[2])  # Example: (784, 1)\n",
        "\n",
        "# Head 1\n",
        "inputs1 = Input(shape=input_shape)\n",
        "conv1 = Conv1D(filters=64, kernel_size=200, activation='relu')(inputs1)\n",
        "drop1 = Dropout(0.5)(conv1)\n",
        "pool1 = MaxPooling1D(pool_size=20)(drop1)\n",
        "flat1 = Flatten()(pool1)\n",
        "\n",
        "# Head 2\n",
        "inputs2 = Input(shape=input_shape)\n",
        "conv2 = Conv1D(filters=64, kernel_size=100, activation='relu')(inputs2)\n",
        "drop2 = Dropout(0.5)(conv2)\n",
        "pool2 = MaxPooling1D(pool_size=10)(drop2)\n",
        "flat2 = Flatten()(pool2)\n",
        "\n",
        "# Head 3\n",
        "inputs3 = Input(shape=input_shape)\n",
        "conv3 = Conv1D(filters=64, kernel_size=50, activation='relu')(inputs3)\n",
        "drop3 = Dropout(0.5)(conv3)\n",
        "pool3 = MaxPooling1D(pool_size=5)(drop3)\n",
        "flat3 = Flatten()(pool3)\n",
        "\n",
        "# Merge all feature paths\n",
        "merged = concatenate([flat1, flat2, flat3])\n",
        "\n",
        "# Fully connected interpretation\n",
        "dense1 = Dense(100, activation='relu')(merged)\n",
        "outputs = Dense(no_classes, activation='softmax')(dense1)\n",
        "\n",
        "# Build and compile model with custom loss\n",
        "cnn_model = Model(inputs=[inputs1, inputs2, inputs3], outputs=outputs)\n",
        "cnn_model.compile(optimizer='adam', loss=custom_loss, metrics=['accuracy'])\n",
        "\n",
        "# Model summary\n",
        "cnn_model.summary()"
      ],
      "metadata": {
        "colab": {
          "base_uri": "https://localhost:8080/",
          "height": 935
        },
        "id": "kB3uGh-8J7no",
        "outputId": "0f437e24-c43e-41bc-8bd8-65c7509a7a58"
      },
      "id": "kB3uGh-8J7no",
      "execution_count": null,
      "outputs": [
        {
          "output_type": "stream",
          "name": "stdout",
          "text": [
            "Number of output classes (no_classes): 9\n"
          ]
        },
        {
          "output_type": "display_data",
          "data": {
            "text/plain": [
              "\u001b[1mModel: \"functional_4\"\u001b[0m\n"
            ],
            "text/html": [
              "<pre style=\"white-space:pre;overflow-x:auto;line-height:normal;font-family:Menlo,'DejaVu Sans Mono',consolas,'Courier New',monospace\"><span style=\"font-weight: bold\">Model: \"functional_4\"</span>\n",
              "</pre>\n"
            ]
          },
          "metadata": {}
        },
        {
          "output_type": "display_data",
          "data": {
            "text/plain": [
              "┏━━━━━━━━━━━━━━━━━━━━━┳━━━━━━━━━━━━━━━━━━━┳━━━━━━━━━━━━┳━━━━━━━━━━━━━━━━━━━┓\n",
              "┃\u001b[1m \u001b[0m\u001b[1mLayer (type)       \u001b[0m\u001b[1m \u001b[0m┃\u001b[1m \u001b[0m\u001b[1mOutput Shape     \u001b[0m\u001b[1m \u001b[0m┃\u001b[1m \u001b[0m\u001b[1m   Param #\u001b[0m\u001b[1m \u001b[0m┃\u001b[1m \u001b[0m\u001b[1mConnected to     \u001b[0m\u001b[1m \u001b[0m┃\n",
              "┡━━━━━━━━━━━━━━━━━━━━━╇━━━━━━━━━━━━━━━━━━━╇━━━━━━━━━━━━╇━━━━━━━━━━━━━━━━━━━┩\n",
              "│ input_layer_9       │ (\u001b[38;5;45mNone\u001b[0m, \u001b[38;5;34m2437\u001b[0m, \u001b[38;5;34m1\u001b[0m)   │          \u001b[38;5;34m0\u001b[0m │ -                 │\n",
              "│ (\u001b[38;5;33mInputLayer\u001b[0m)        │                   │            │                   │\n",
              "├─────────────────────┼───────────────────┼────────────┼───────────────────┤\n",
              "│ input_layer_10      │ (\u001b[38;5;45mNone\u001b[0m, \u001b[38;5;34m2437\u001b[0m, \u001b[38;5;34m1\u001b[0m)   │          \u001b[38;5;34m0\u001b[0m │ -                 │\n",
              "│ (\u001b[38;5;33mInputLayer\u001b[0m)        │                   │            │                   │\n",
              "├─────────────────────┼───────────────────┼────────────┼───────────────────┤\n",
              "│ input_layer_11      │ (\u001b[38;5;45mNone\u001b[0m, \u001b[38;5;34m2437\u001b[0m, \u001b[38;5;34m1\u001b[0m)   │          \u001b[38;5;34m0\u001b[0m │ -                 │\n",
              "│ (\u001b[38;5;33mInputLayer\u001b[0m)        │                   │            │                   │\n",
              "├─────────────────────┼───────────────────┼────────────┼───────────────────┤\n",
              "│ conv1d_9 (\u001b[38;5;33mConv1D\u001b[0m)   │ (\u001b[38;5;45mNone\u001b[0m, \u001b[38;5;34m2238\u001b[0m, \u001b[38;5;34m64\u001b[0m)  │     \u001b[38;5;34m12,864\u001b[0m │ input_layer_9[\u001b[38;5;34m0\u001b[0m]… │\n",
              "├─────────────────────┼───────────────────┼────────────┼───────────────────┤\n",
              "│ conv1d_10 (\u001b[38;5;33mConv1D\u001b[0m)  │ (\u001b[38;5;45mNone\u001b[0m, \u001b[38;5;34m2338\u001b[0m, \u001b[38;5;34m64\u001b[0m)  │      \u001b[38;5;34m6,464\u001b[0m │ input_layer_10[\u001b[38;5;34m0\u001b[0m… │\n",
              "├─────────────────────┼───────────────────┼────────────┼───────────────────┤\n",
              "│ conv1d_11 (\u001b[38;5;33mConv1D\u001b[0m)  │ (\u001b[38;5;45mNone\u001b[0m, \u001b[38;5;34m2388\u001b[0m, \u001b[38;5;34m64\u001b[0m)  │      \u001b[38;5;34m3,264\u001b[0m │ input_layer_11[\u001b[38;5;34m0\u001b[0m… │\n",
              "├─────────────────────┼───────────────────┼────────────┼───────────────────┤\n",
              "│ dropout_9 (\u001b[38;5;33mDropout\u001b[0m) │ (\u001b[38;5;45mNone\u001b[0m, \u001b[38;5;34m2238\u001b[0m, \u001b[38;5;34m64\u001b[0m)  │          \u001b[38;5;34m0\u001b[0m │ conv1d_9[\u001b[38;5;34m0\u001b[0m][\u001b[38;5;34m0\u001b[0m]    │\n",
              "├─────────────────────┼───────────────────┼────────────┼───────────────────┤\n",
              "│ dropout_10          │ (\u001b[38;5;45mNone\u001b[0m, \u001b[38;5;34m2338\u001b[0m, \u001b[38;5;34m64\u001b[0m)  │          \u001b[38;5;34m0\u001b[0m │ conv1d_10[\u001b[38;5;34m0\u001b[0m][\u001b[38;5;34m0\u001b[0m]   │\n",
              "│ (\u001b[38;5;33mDropout\u001b[0m)           │                   │            │                   │\n",
              "├─────────────────────┼───────────────────┼────────────┼───────────────────┤\n",
              "│ dropout_11          │ (\u001b[38;5;45mNone\u001b[0m, \u001b[38;5;34m2388\u001b[0m, \u001b[38;5;34m64\u001b[0m)  │          \u001b[38;5;34m0\u001b[0m │ conv1d_11[\u001b[38;5;34m0\u001b[0m][\u001b[38;5;34m0\u001b[0m]   │\n",
              "│ (\u001b[38;5;33mDropout\u001b[0m)           │                   │            │                   │\n",
              "├─────────────────────┼───────────────────┼────────────┼───────────────────┤\n",
              "│ max_pooling1d_9     │ (\u001b[38;5;45mNone\u001b[0m, \u001b[38;5;34m111\u001b[0m, \u001b[38;5;34m64\u001b[0m)   │          \u001b[38;5;34m0\u001b[0m │ dropout_9[\u001b[38;5;34m0\u001b[0m][\u001b[38;5;34m0\u001b[0m]   │\n",
              "│ (\u001b[38;5;33mMaxPooling1D\u001b[0m)      │                   │            │                   │\n",
              "├─────────────────────┼───────────────────┼────────────┼───────────────────┤\n",
              "│ max_pooling1d_10    │ (\u001b[38;5;45mNone\u001b[0m, \u001b[38;5;34m233\u001b[0m, \u001b[38;5;34m64\u001b[0m)   │          \u001b[38;5;34m0\u001b[0m │ dropout_10[\u001b[38;5;34m0\u001b[0m][\u001b[38;5;34m0\u001b[0m]  │\n",
              "│ (\u001b[38;5;33mMaxPooling1D\u001b[0m)      │                   │            │                   │\n",
              "├─────────────────────┼───────────────────┼────────────┼───────────────────┤\n",
              "│ max_pooling1d_11    │ (\u001b[38;5;45mNone\u001b[0m, \u001b[38;5;34m477\u001b[0m, \u001b[38;5;34m64\u001b[0m)   │          \u001b[38;5;34m0\u001b[0m │ dropout_11[\u001b[38;5;34m0\u001b[0m][\u001b[38;5;34m0\u001b[0m]  │\n",
              "│ (\u001b[38;5;33mMaxPooling1D\u001b[0m)      │                   │            │                   │\n",
              "├─────────────────────┼───────────────────┼────────────┼───────────────────┤\n",
              "│ flatten_9 (\u001b[38;5;33mFlatten\u001b[0m) │ (\u001b[38;5;45mNone\u001b[0m, \u001b[38;5;34m7104\u001b[0m)      │          \u001b[38;5;34m0\u001b[0m │ max_pooling1d_9[\u001b[38;5;34m…\u001b[0m │\n",
              "├─────────────────────┼───────────────────┼────────────┼───────────────────┤\n",
              "│ flatten_10          │ (\u001b[38;5;45mNone\u001b[0m, \u001b[38;5;34m14912\u001b[0m)     │          \u001b[38;5;34m0\u001b[0m │ max_pooling1d_10… │\n",
              "│ (\u001b[38;5;33mFlatten\u001b[0m)           │                   │            │                   │\n",
              "├─────────────────────┼───────────────────┼────────────┼───────────────────┤\n",
              "│ flatten_11          │ (\u001b[38;5;45mNone\u001b[0m, \u001b[38;5;34m30528\u001b[0m)     │          \u001b[38;5;34m0\u001b[0m │ max_pooling1d_11… │\n",
              "│ (\u001b[38;5;33mFlatten\u001b[0m)           │                   │            │                   │\n",
              "├─────────────────────┼───────────────────┼────────────┼───────────────────┤\n",
              "│ concatenate_3       │ (\u001b[38;5;45mNone\u001b[0m, \u001b[38;5;34m52544\u001b[0m)     │          \u001b[38;5;34m0\u001b[0m │ flatten_9[\u001b[38;5;34m0\u001b[0m][\u001b[38;5;34m0\u001b[0m],  │\n",
              "│ (\u001b[38;5;33mConcatenate\u001b[0m)       │                   │            │ flatten_10[\u001b[38;5;34m0\u001b[0m][\u001b[38;5;34m0\u001b[0m], │\n",
              "│                     │                   │            │ flatten_11[\u001b[38;5;34m0\u001b[0m][\u001b[38;5;34m0\u001b[0m]  │\n",
              "├─────────────────────┼───────────────────┼────────────┼───────────────────┤\n",
              "│ dense_6 (\u001b[38;5;33mDense\u001b[0m)     │ (\u001b[38;5;45mNone\u001b[0m, \u001b[38;5;34m100\u001b[0m)       │  \u001b[38;5;34m5,254,500\u001b[0m │ concatenate_3[\u001b[38;5;34m0\u001b[0m]… │\n",
              "├─────────────────────┼───────────────────┼────────────┼───────────────────┤\n",
              "│ dense_7 (\u001b[38;5;33mDense\u001b[0m)     │ (\u001b[38;5;45mNone\u001b[0m, \u001b[38;5;34m9\u001b[0m)         │        \u001b[38;5;34m909\u001b[0m │ dense_6[\u001b[38;5;34m0\u001b[0m][\u001b[38;5;34m0\u001b[0m]     │\n",
              "└─────────────────────┴───────────────────┴────────────┴───────────────────┘\n"
            ],
            "text/html": [
              "<pre style=\"white-space:pre;overflow-x:auto;line-height:normal;font-family:Menlo,'DejaVu Sans Mono',consolas,'Courier New',monospace\">┏━━━━━━━━━━━━━━━━━━━━━┳━━━━━━━━━━━━━━━━━━━┳━━━━━━━━━━━━┳━━━━━━━━━━━━━━━━━━━┓\n",
              "┃<span style=\"font-weight: bold\"> Layer (type)        </span>┃<span style=\"font-weight: bold\"> Output Shape      </span>┃<span style=\"font-weight: bold\">    Param # </span>┃<span style=\"font-weight: bold\"> Connected to      </span>┃\n",
              "┡━━━━━━━━━━━━━━━━━━━━━╇━━━━━━━━━━━━━━━━━━━╇━━━━━━━━━━━━╇━━━━━━━━━━━━━━━━━━━┩\n",
              "│ input_layer_9       │ (<span style=\"color: #00d7ff; text-decoration-color: #00d7ff\">None</span>, <span style=\"color: #00af00; text-decoration-color: #00af00\">2437</span>, <span style=\"color: #00af00; text-decoration-color: #00af00\">1</span>)   │          <span style=\"color: #00af00; text-decoration-color: #00af00\">0</span> │ -                 │\n",
              "│ (<span style=\"color: #0087ff; text-decoration-color: #0087ff\">InputLayer</span>)        │                   │            │                   │\n",
              "├─────────────────────┼───────────────────┼────────────┼───────────────────┤\n",
              "│ input_layer_10      │ (<span style=\"color: #00d7ff; text-decoration-color: #00d7ff\">None</span>, <span style=\"color: #00af00; text-decoration-color: #00af00\">2437</span>, <span style=\"color: #00af00; text-decoration-color: #00af00\">1</span>)   │          <span style=\"color: #00af00; text-decoration-color: #00af00\">0</span> │ -                 │\n",
              "│ (<span style=\"color: #0087ff; text-decoration-color: #0087ff\">InputLayer</span>)        │                   │            │                   │\n",
              "├─────────────────────┼───────────────────┼────────────┼───────────────────┤\n",
              "│ input_layer_11      │ (<span style=\"color: #00d7ff; text-decoration-color: #00d7ff\">None</span>, <span style=\"color: #00af00; text-decoration-color: #00af00\">2437</span>, <span style=\"color: #00af00; text-decoration-color: #00af00\">1</span>)   │          <span style=\"color: #00af00; text-decoration-color: #00af00\">0</span> │ -                 │\n",
              "│ (<span style=\"color: #0087ff; text-decoration-color: #0087ff\">InputLayer</span>)        │                   │            │                   │\n",
              "├─────────────────────┼───────────────────┼────────────┼───────────────────┤\n",
              "│ conv1d_9 (<span style=\"color: #0087ff; text-decoration-color: #0087ff\">Conv1D</span>)   │ (<span style=\"color: #00d7ff; text-decoration-color: #00d7ff\">None</span>, <span style=\"color: #00af00; text-decoration-color: #00af00\">2238</span>, <span style=\"color: #00af00; text-decoration-color: #00af00\">64</span>)  │     <span style=\"color: #00af00; text-decoration-color: #00af00\">12,864</span> │ input_layer_9[<span style=\"color: #00af00; text-decoration-color: #00af00\">0</span>]… │\n",
              "├─────────────────────┼───────────────────┼────────────┼───────────────────┤\n",
              "│ conv1d_10 (<span style=\"color: #0087ff; text-decoration-color: #0087ff\">Conv1D</span>)  │ (<span style=\"color: #00d7ff; text-decoration-color: #00d7ff\">None</span>, <span style=\"color: #00af00; text-decoration-color: #00af00\">2338</span>, <span style=\"color: #00af00; text-decoration-color: #00af00\">64</span>)  │      <span style=\"color: #00af00; text-decoration-color: #00af00\">6,464</span> │ input_layer_10[<span style=\"color: #00af00; text-decoration-color: #00af00\">0</span>… │\n",
              "├─────────────────────┼───────────────────┼────────────┼───────────────────┤\n",
              "│ conv1d_11 (<span style=\"color: #0087ff; text-decoration-color: #0087ff\">Conv1D</span>)  │ (<span style=\"color: #00d7ff; text-decoration-color: #00d7ff\">None</span>, <span style=\"color: #00af00; text-decoration-color: #00af00\">2388</span>, <span style=\"color: #00af00; text-decoration-color: #00af00\">64</span>)  │      <span style=\"color: #00af00; text-decoration-color: #00af00\">3,264</span> │ input_layer_11[<span style=\"color: #00af00; text-decoration-color: #00af00\">0</span>… │\n",
              "├─────────────────────┼───────────────────┼────────────┼───────────────────┤\n",
              "│ dropout_9 (<span style=\"color: #0087ff; text-decoration-color: #0087ff\">Dropout</span>) │ (<span style=\"color: #00d7ff; text-decoration-color: #00d7ff\">None</span>, <span style=\"color: #00af00; text-decoration-color: #00af00\">2238</span>, <span style=\"color: #00af00; text-decoration-color: #00af00\">64</span>)  │          <span style=\"color: #00af00; text-decoration-color: #00af00\">0</span> │ conv1d_9[<span style=\"color: #00af00; text-decoration-color: #00af00\">0</span>][<span style=\"color: #00af00; text-decoration-color: #00af00\">0</span>]    │\n",
              "├─────────────────────┼───────────────────┼────────────┼───────────────────┤\n",
              "│ dropout_10          │ (<span style=\"color: #00d7ff; text-decoration-color: #00d7ff\">None</span>, <span style=\"color: #00af00; text-decoration-color: #00af00\">2338</span>, <span style=\"color: #00af00; text-decoration-color: #00af00\">64</span>)  │          <span style=\"color: #00af00; text-decoration-color: #00af00\">0</span> │ conv1d_10[<span style=\"color: #00af00; text-decoration-color: #00af00\">0</span>][<span style=\"color: #00af00; text-decoration-color: #00af00\">0</span>]   │\n",
              "│ (<span style=\"color: #0087ff; text-decoration-color: #0087ff\">Dropout</span>)           │                   │            │                   │\n",
              "├─────────────────────┼───────────────────┼────────────┼───────────────────┤\n",
              "│ dropout_11          │ (<span style=\"color: #00d7ff; text-decoration-color: #00d7ff\">None</span>, <span style=\"color: #00af00; text-decoration-color: #00af00\">2388</span>, <span style=\"color: #00af00; text-decoration-color: #00af00\">64</span>)  │          <span style=\"color: #00af00; text-decoration-color: #00af00\">0</span> │ conv1d_11[<span style=\"color: #00af00; text-decoration-color: #00af00\">0</span>][<span style=\"color: #00af00; text-decoration-color: #00af00\">0</span>]   │\n",
              "│ (<span style=\"color: #0087ff; text-decoration-color: #0087ff\">Dropout</span>)           │                   │            │                   │\n",
              "├─────────────────────┼───────────────────┼────────────┼───────────────────┤\n",
              "│ max_pooling1d_9     │ (<span style=\"color: #00d7ff; text-decoration-color: #00d7ff\">None</span>, <span style=\"color: #00af00; text-decoration-color: #00af00\">111</span>, <span style=\"color: #00af00; text-decoration-color: #00af00\">64</span>)   │          <span style=\"color: #00af00; text-decoration-color: #00af00\">0</span> │ dropout_9[<span style=\"color: #00af00; text-decoration-color: #00af00\">0</span>][<span style=\"color: #00af00; text-decoration-color: #00af00\">0</span>]   │\n",
              "│ (<span style=\"color: #0087ff; text-decoration-color: #0087ff\">MaxPooling1D</span>)      │                   │            │                   │\n",
              "├─────────────────────┼───────────────────┼────────────┼───────────────────┤\n",
              "│ max_pooling1d_10    │ (<span style=\"color: #00d7ff; text-decoration-color: #00d7ff\">None</span>, <span style=\"color: #00af00; text-decoration-color: #00af00\">233</span>, <span style=\"color: #00af00; text-decoration-color: #00af00\">64</span>)   │          <span style=\"color: #00af00; text-decoration-color: #00af00\">0</span> │ dropout_10[<span style=\"color: #00af00; text-decoration-color: #00af00\">0</span>][<span style=\"color: #00af00; text-decoration-color: #00af00\">0</span>]  │\n",
              "│ (<span style=\"color: #0087ff; text-decoration-color: #0087ff\">MaxPooling1D</span>)      │                   │            │                   │\n",
              "├─────────────────────┼───────────────────┼────────────┼───────────────────┤\n",
              "│ max_pooling1d_11    │ (<span style=\"color: #00d7ff; text-decoration-color: #00d7ff\">None</span>, <span style=\"color: #00af00; text-decoration-color: #00af00\">477</span>, <span style=\"color: #00af00; text-decoration-color: #00af00\">64</span>)   │          <span style=\"color: #00af00; text-decoration-color: #00af00\">0</span> │ dropout_11[<span style=\"color: #00af00; text-decoration-color: #00af00\">0</span>][<span style=\"color: #00af00; text-decoration-color: #00af00\">0</span>]  │\n",
              "│ (<span style=\"color: #0087ff; text-decoration-color: #0087ff\">MaxPooling1D</span>)      │                   │            │                   │\n",
              "├─────────────────────┼───────────────────┼────────────┼───────────────────┤\n",
              "│ flatten_9 (<span style=\"color: #0087ff; text-decoration-color: #0087ff\">Flatten</span>) │ (<span style=\"color: #00d7ff; text-decoration-color: #00d7ff\">None</span>, <span style=\"color: #00af00; text-decoration-color: #00af00\">7104</span>)      │          <span style=\"color: #00af00; text-decoration-color: #00af00\">0</span> │ max_pooling1d_9[<span style=\"color: #00af00; text-decoration-color: #00af00\">…</span> │\n",
              "├─────────────────────┼───────────────────┼────────────┼───────────────────┤\n",
              "│ flatten_10          │ (<span style=\"color: #00d7ff; text-decoration-color: #00d7ff\">None</span>, <span style=\"color: #00af00; text-decoration-color: #00af00\">14912</span>)     │          <span style=\"color: #00af00; text-decoration-color: #00af00\">0</span> │ max_pooling1d_10… │\n",
              "│ (<span style=\"color: #0087ff; text-decoration-color: #0087ff\">Flatten</span>)           │                   │            │                   │\n",
              "├─────────────────────┼───────────────────┼────────────┼───────────────────┤\n",
              "│ flatten_11          │ (<span style=\"color: #00d7ff; text-decoration-color: #00d7ff\">None</span>, <span style=\"color: #00af00; text-decoration-color: #00af00\">30528</span>)     │          <span style=\"color: #00af00; text-decoration-color: #00af00\">0</span> │ max_pooling1d_11… │\n",
              "│ (<span style=\"color: #0087ff; text-decoration-color: #0087ff\">Flatten</span>)           │                   │            │                   │\n",
              "├─────────────────────┼───────────────────┼────────────┼───────────────────┤\n",
              "│ concatenate_3       │ (<span style=\"color: #00d7ff; text-decoration-color: #00d7ff\">None</span>, <span style=\"color: #00af00; text-decoration-color: #00af00\">52544</span>)     │          <span style=\"color: #00af00; text-decoration-color: #00af00\">0</span> │ flatten_9[<span style=\"color: #00af00; text-decoration-color: #00af00\">0</span>][<span style=\"color: #00af00; text-decoration-color: #00af00\">0</span>],  │\n",
              "│ (<span style=\"color: #0087ff; text-decoration-color: #0087ff\">Concatenate</span>)       │                   │            │ flatten_10[<span style=\"color: #00af00; text-decoration-color: #00af00\">0</span>][<span style=\"color: #00af00; text-decoration-color: #00af00\">0</span>], │\n",
              "│                     │                   │            │ flatten_11[<span style=\"color: #00af00; text-decoration-color: #00af00\">0</span>][<span style=\"color: #00af00; text-decoration-color: #00af00\">0</span>]  │\n",
              "├─────────────────────┼───────────────────┼────────────┼───────────────────┤\n",
              "│ dense_6 (<span style=\"color: #0087ff; text-decoration-color: #0087ff\">Dense</span>)     │ (<span style=\"color: #00d7ff; text-decoration-color: #00d7ff\">None</span>, <span style=\"color: #00af00; text-decoration-color: #00af00\">100</span>)       │  <span style=\"color: #00af00; text-decoration-color: #00af00\">5,254,500</span> │ concatenate_3[<span style=\"color: #00af00; text-decoration-color: #00af00\">0</span>]… │\n",
              "├─────────────────────┼───────────────────┼────────────┼───────────────────┤\n",
              "│ dense_7 (<span style=\"color: #0087ff; text-decoration-color: #0087ff\">Dense</span>)     │ (<span style=\"color: #00d7ff; text-decoration-color: #00d7ff\">None</span>, <span style=\"color: #00af00; text-decoration-color: #00af00\">9</span>)         │        <span style=\"color: #00af00; text-decoration-color: #00af00\">909</span> │ dense_6[<span style=\"color: #00af00; text-decoration-color: #00af00\">0</span>][<span style=\"color: #00af00; text-decoration-color: #00af00\">0</span>]     │\n",
              "└─────────────────────┴───────────────────┴────────────┴───────────────────┘\n",
              "</pre>\n"
            ]
          },
          "metadata": {}
        },
        {
          "output_type": "display_data",
          "data": {
            "text/plain": [
              "\u001b[1m Total params: \u001b[0m\u001b[38;5;34m5,278,001\u001b[0m (20.13 MB)\n"
            ],
            "text/html": [
              "<pre style=\"white-space:pre;overflow-x:auto;line-height:normal;font-family:Menlo,'DejaVu Sans Mono',consolas,'Courier New',monospace\"><span style=\"font-weight: bold\"> Total params: </span><span style=\"color: #00af00; text-decoration-color: #00af00\">5,278,001</span> (20.13 MB)\n",
              "</pre>\n"
            ]
          },
          "metadata": {}
        },
        {
          "output_type": "display_data",
          "data": {
            "text/plain": [
              "\u001b[1m Trainable params: \u001b[0m\u001b[38;5;34m5,278,001\u001b[0m (20.13 MB)\n"
            ],
            "text/html": [
              "<pre style=\"white-space:pre;overflow-x:auto;line-height:normal;font-family:Menlo,'DejaVu Sans Mono',consolas,'Courier New',monospace\"><span style=\"font-weight: bold\"> Trainable params: </span><span style=\"color: #00af00; text-decoration-color: #00af00\">5,278,001</span> (20.13 MB)\n",
              "</pre>\n"
            ]
          },
          "metadata": {}
        },
        {
          "output_type": "display_data",
          "data": {
            "text/plain": [
              "\u001b[1m Non-trainable params: \u001b[0m\u001b[38;5;34m0\u001b[0m (0.00 B)\n"
            ],
            "text/html": [
              "<pre style=\"white-space:pre;overflow-x:auto;line-height:normal;font-family:Menlo,'DejaVu Sans Mono',consolas,'Courier New',monospace\"><span style=\"font-weight: bold\"> Non-trainable params: </span><span style=\"color: #00af00; text-decoration-color: #00af00\">0</span> (0.00 B)\n",
              "</pre>\n"
            ]
          },
          "metadata": {}
        }
      ]
    },
    {
      "cell_type": "code",
      "source": [
        "batch_size =100\n",
        "epochs = 20\n",
        "history = cnn_model.fit([X_train,X_train,X_train], y_train, batch_size=batch_size,epochs=epochs,verbose=1,validation_data=([X_test,X_test,X_test],y_test),shuffle=True)"
      ],
      "metadata": {
        "colab": {
          "base_uri": "https://localhost:8080/"
        },
        "id": "2Lxm-qvKM3oN",
        "outputId": "a7efad8c-02e1-4569-a813-b872f90d5360"
      },
      "id": "2Lxm-qvKM3oN",
      "execution_count": null,
      "outputs": [
        {
          "output_type": "stream",
          "name": "stdout",
          "text": [
            "Epoch 1/20\n",
            "\u001b[1m16/16\u001b[0m \u001b[32m━━━━━━━━━━━━━━━━━━━━\u001b[0m\u001b[37m\u001b[0m \u001b[1m15s\u001b[0m 397ms/step - accuracy: 0.1645 - loss: 3.7374 - val_accuracy: 0.3501 - val_loss: 3.2616\n",
            "Epoch 2/20\n",
            "\u001b[1m16/16\u001b[0m \u001b[32m━━━━━━━━━━━━━━━━━━━━\u001b[0m\u001b[37m\u001b[0m \u001b[1m1s\u001b[0m 35ms/step - accuracy: 0.4401 - loss: 2.9240 - val_accuracy: 0.5623 - val_loss: 3.0355\n",
            "Epoch 3/20\n",
            "\u001b[1m16/16\u001b[0m \u001b[32m━━━━━━━━━━━━━━━━━━━━\u001b[0m\u001b[37m\u001b[0m \u001b[1m1s\u001b[0m 42ms/step - accuracy: 0.6050 - loss: 2.5322 - val_accuracy: 0.5979 - val_loss: 2.8360\n",
            "Epoch 4/20\n",
            "\u001b[1m16/16\u001b[0m \u001b[32m━━━━━━━━━━━━━━━━━━━━\u001b[0m\u001b[37m\u001b[0m \u001b[1m1s\u001b[0m 32ms/step - accuracy: 0.7595 - loss: 2.0204 - val_accuracy: 0.7389 - val_loss: 2.5338\n",
            "Epoch 5/20\n",
            "\u001b[1m16/16\u001b[0m \u001b[32m━━━━━━━━━━━━━━━━━━━━\u001b[0m\u001b[37m\u001b[0m \u001b[1m1s\u001b[0m 43ms/step - accuracy: 0.8292 - loss: 2.0342 - val_accuracy: 0.7478 - val_loss: 2.3837\n",
            "Epoch 6/20\n",
            "\u001b[1m16/16\u001b[0m \u001b[32m━━━━━━━━━━━━━━━━━━━━\u001b[0m\u001b[37m\u001b[0m \u001b[1m1s\u001b[0m 48ms/step - accuracy: 0.8297 - loss: 2.0132 - val_accuracy: 0.7864 - val_loss: 2.2718\n",
            "Epoch 7/20\n",
            "\u001b[1m16/16\u001b[0m \u001b[32m━━━━━━━━━━━━━━━━━━━━\u001b[0m\u001b[37m\u001b[0m \u001b[1m1s\u001b[0m 36ms/step - accuracy: 0.8692 - loss: 1.7720 - val_accuracy: 0.8042 - val_loss: 2.2536\n",
            "Epoch 8/20\n",
            "\u001b[1m16/16\u001b[0m \u001b[32m━━━━━━━━━━━━━━━━━━━━\u001b[0m\u001b[37m\u001b[0m \u001b[1m1s\u001b[0m 39ms/step - accuracy: 0.8759 - loss: 1.8881 - val_accuracy: 0.8145 - val_loss: 2.2202\n",
            "Epoch 9/20\n",
            "\u001b[1m16/16\u001b[0m \u001b[32m━━━━━━━━━━━━━━━━━━━━\u001b[0m\u001b[37m\u001b[0m \u001b[1m1s\u001b[0m 40ms/step - accuracy: 0.8864 - loss: 1.7511 - val_accuracy: 0.7893 - val_loss: 2.2519\n",
            "Epoch 10/20\n",
            "\u001b[1m16/16\u001b[0m \u001b[32m━━━━━━━━━━━━━━━━━━━━\u001b[0m\u001b[37m\u001b[0m \u001b[1m1s\u001b[0m 32ms/step - accuracy: 0.8898 - loss: 1.7313 - val_accuracy: 0.8042 - val_loss: 2.2152\n",
            "Epoch 11/20\n",
            "\u001b[1m16/16\u001b[0m \u001b[32m━━━━━━━━━━━━━━━━━━━━\u001b[0m\u001b[37m\u001b[0m \u001b[1m1s\u001b[0m 33ms/step - accuracy: 0.8777 - loss: 1.9333 - val_accuracy: 0.8160 - val_loss: 2.2109\n",
            "Epoch 12/20\n",
            "\u001b[1m16/16\u001b[0m \u001b[32m━━━━━━━━━━━━━━━━━━━━\u001b[0m\u001b[37m\u001b[0m \u001b[1m1s\u001b[0m 47ms/step - accuracy: 0.8894 - loss: 1.7252 - val_accuracy: 0.8412 - val_loss: 2.1543\n",
            "Epoch 13/20\n",
            "\u001b[1m16/16\u001b[0m \u001b[32m━━━━━━━━━━━━━━━━━━━━\u001b[0m\u001b[37m\u001b[0m \u001b[1m1s\u001b[0m 32ms/step - accuracy: 0.9039 - loss: 1.5336 - val_accuracy: 0.8398 - val_loss: 2.1432\n",
            "Epoch 14/20\n",
            "\u001b[1m16/16\u001b[0m \u001b[32m━━━━━━━━━━━━━━━━━━━━\u001b[0m\u001b[37m\u001b[0m \u001b[1m1s\u001b[0m 42ms/step - accuracy: 0.8910 - loss: 1.7687 - val_accuracy: 0.8101 - val_loss: 2.1702\n",
            "Epoch 15/20\n",
            "\u001b[1m16/16\u001b[0m \u001b[32m━━━━━━━━━━━━━━━━━━━━\u001b[0m\u001b[37m\u001b[0m \u001b[1m1s\u001b[0m 42ms/step - accuracy: 0.8794 - loss: 1.8864 - val_accuracy: 0.8427 - val_loss: 2.1106\n",
            "Epoch 16/20\n",
            "\u001b[1m16/16\u001b[0m \u001b[32m━━━━━━━━━━━━━━━━━━━━\u001b[0m\u001b[37m\u001b[0m \u001b[1m1s\u001b[0m 41ms/step - accuracy: 0.8896 - loss: 1.7896 - val_accuracy: 0.8368 - val_loss: 2.1256\n",
            "Epoch 17/20\n",
            "\u001b[1m16/16\u001b[0m \u001b[32m━━━━━━━━━━━━━━━━━━━━\u001b[0m\u001b[37m\u001b[0m \u001b[1m1s\u001b[0m 38ms/step - accuracy: 0.8960 - loss: 1.6856 - val_accuracy: 0.8279 - val_loss: 2.1113\n",
            "Epoch 18/20\n",
            "\u001b[1m16/16\u001b[0m \u001b[32m━━━━━━━━━━━━━━━━━━━━\u001b[0m\u001b[37m\u001b[0m \u001b[1m1s\u001b[0m 42ms/step - accuracy: 0.8919 - loss: 1.7497 - val_accuracy: 0.8398 - val_loss: 2.1034\n",
            "Epoch 19/20\n",
            "\u001b[1m16/16\u001b[0m \u001b[32m━━━━━━━━━━━━━━━━━━━━\u001b[0m\u001b[37m\u001b[0m \u001b[1m1s\u001b[0m 42ms/step - accuracy: 0.8954 - loss: 1.6925 - val_accuracy: 0.8353 - val_loss: 2.1008\n",
            "Epoch 20/20\n",
            "\u001b[1m16/16\u001b[0m \u001b[32m━━━━━━━━━━━━━━━━━━━━\u001b[0m\u001b[37m\u001b[0m \u001b[1m1s\u001b[0m 32ms/step - accuracy: 0.8898 - loss: 1.7818 - val_accuracy: 0.8383 - val_loss: 2.0979\n"
          ]
        }
      ]
    },
    {
      "cell_type": "code",
      "source": [
        "def inv_Transform_result(y_pred):\n",
        "    y_pred = y_pred.argmax(axis=1)\n",
        "    y_pred = encoder.inverse_transform(y_pred)\n",
        "    return y_pred\n",
        "\n",
        "\n",
        "\n",
        "y_pred=cnn_model.predict([X_test,X_test,X_test])\n",
        "\n",
        "\n",
        "Y_pred=inv_Transform_result(y_pred)\n",
        "Y_test = inv_Transform_result(y_test)\n",
        "\n",
        "\n",
        "\n",
        "\n",
        "from sklearn.metrics import confusion_matrix\n",
        "\n",
        "\n",
        "plt.figure(figsize=(10,10))\n",
        "cm = confusion_matrix(Y_test, Y_pred,normalize='true')\n",
        "f = sns.heatmap(cm, annot=True,xticklabels=encoder.classes_,yticklabels=encoder.classes_)"
      ],
      "metadata": {
        "colab": {
          "base_uri": "https://localhost:8080/",
          "height": 854
        },
        "id": "pbBmkBjlM5ks",
        "outputId": "c5a5c8e3-33e4-4ecf-dcde-8df33971b330"
      },
      "id": "pbBmkBjlM5ks",
      "execution_count": null,
      "outputs": [
        {
          "output_type": "stream",
          "name": "stdout",
          "text": [
            "\u001b[1m22/22\u001b[0m \u001b[32m━━━━━━━━━━━━━━━━━━━━\u001b[0m\u001b[37m\u001b[0m \u001b[1m1s\u001b[0m 27ms/step\n"
          ]
        },
        {
          "output_type": "display_data",
          "data": {
            "text/plain": [
              "<Figure size 1000x1000 with 2 Axes>"
            ],
            "image/png": "[encoded data removed]"
          },
          "metadata": {}
        }
      ]
    },
    {
      "cell_type": "code",
      "source": [
        "dummy_cnn = Model(inputs=cnn_model.input,outputs=cnn_model.layers[16].output)\n",
        "y_viz = dummy_cnn.predict([X_train,X_train,X_train])"
      ],
      "metadata": {
        "colab": {
          "base_uri": "https://localhost:8080/"
        },
        "id": "3tgRx2TxM-GS",
        "outputId": "8a226a2b-c45d-44e3-fa76-0db101d4b9cf"
      },
      "id": "3tgRx2TxM-GS",
      "execution_count": null,
      "outputs": [
        {
          "output_type": "stream",
          "name": "stdout",
          "text": [
            "\u001b[1m50/50\u001b[0m \u001b[32m━━━━━━━━━━━━━━━━━━━━\u001b[0m\u001b[37m\u001b[0m \u001b[1m1s\u001b[0m 17ms/step\n"
          ]
        }
      ]
    },
    {
      "cell_type": "code",
      "source": [
        "import pandas as pd\n",
        "import seaborn as sns\n",
        "import matplotlib.pyplot as plt\n",
        "from sklearn.manifold import TSNE\n",
        "\n",
        "# Apply t-SNE transformation\n",
        "X_t_sne = TSNE(\n",
        "    n_components=2,\n",
        "    learning_rate='auto',\n",
        "    verbose=2,  # Increase verbosity for more detailed feedback\n",
        "    perplexity=40,\n",
        "    n_iter=500  # Slightly increased number of iterations for convergence\n",
        ").fit_transform(y_viz)\n",
        "\n",
        "# Create DataFrame for t-SNE components\n",
        "tSNEdf = pd.DataFrame(data=X_t_sne, columns=['T-SNE component 1', 'T-SNE component 2'])\n",
        "\n",
        "# Assuming `inv_Transform_result` transforms `y_train` to get the Fault labels\n",
        "tSNEdf['Fault'] = inv_Transform_result(y_train)\n",
        "\n",
        "# Save the t-SNE DataFrame as a CSV file\n",
        "tSNEdf.to_csv('/content/drive/MyDrive/MK-DCNN CWRU/NNOISE_0_tSNE_results.csv', index=True)\n",
        "print(\"t-SNE results saved as '/content/drive/MyDrive/MK-DCNN CWRU/NNOISE_0_tSNE_results.csv'.\")\n",
        "\n",
        "# # Plot the t-SNE results with Fault as hue\n",
        "# plt.figure(figsize=(12, 12))  # Larger figure for clarity\n",
        "# sns.scatterplot(\n",
        "#     x='T-SNE component 1',\n",
        "#     y='T-SNE component 2',\n",
        "#     hue='Fault',\n",
        "#     palette=sns.color_palette(\"husl\", as_cmap=False),  # Vivid color palette\n",
        "#     data=tSNEdf,\n",
        "#     legend=\"full\",\n",
        "#     alpha=0.7,  # Increased transparency for better overlap clarity\n",
        "#     s=100  # Larger marker size\n",
        "# )\n",
        "\n",
        "# # Add gridlines for better visualization\n",
        "# plt.grid\n",
        "\n",
        "\n",
        "# Optional: Visualization of t-SNE representation\n",
        "plt.figure(figsize=(8, 6))\n",
        "for label in tSNEdf['Fault'].unique():\n",
        "    subset = tSNEdf[tSNEdf['Fault'] == label]\n",
        "    plt.scatter(subset['T-SNE component 1'], subset['T-SNE component 2'], label=f'Fault {label}', alpha=0.7)\n",
        "\n",
        "plt.title('t-SNE Representation of Motor Fault Dataset')\n",
        "plt.xlabel('t-SNE 1')\n",
        "plt.ylabel('t-SNE 2')\n",
        "plt.legend()\n",
        "plt.show()"
      ],
      "metadata": {
        "colab": {
          "base_uri": "https://localhost:8080/",
          "height": 966
        },
        "id": "uic9AVV2NBah",
        "outputId": "eb2cf56d-a5fc-4a2d-9b70-087c3c02e722"
      },
      "id": "uic9AVV2NBah",
      "execution_count": null,
      "outputs": [
        {
          "output_type": "stream",
          "name": "stderr",
          "text": [
            "/usr/local/lib/python3.11/dist-packages/sklearn/manifold/_t_sne.py:1164: FutureWarning: 'n_iter' was renamed to 'max_iter' in version 1.5 and will be removed in 1.7.\n",
            "  warnings.warn(\n"
          ]
        },
        {
          "output_type": "stream",
          "name": "stdout",
          "text": [
            "[t-SNE] Computing 121 nearest neighbors...\n",
            "[t-SNE] Indexed 1570 samples in 0.002s...\n",
            "[t-SNE] Computed neighbors for 1570 samples in 0.196s...\n",
            "[t-SNE] Computed conditional probabilities for sample 1000 / 1570\n",
            "[t-SNE] Computed conditional probabilities for sample 1570 / 1570\n",
            "[t-SNE] Mean sigma: 3.347486\n",
            "[t-SNE] Computed conditional probabilities in 0.097s\n",
            "[t-SNE] Iteration 50: error = 58.0996017, gradient norm = 0.0413846 (50 iterations in 0.852s)\n",
            "[t-SNE] Iteration 100: error = 53.4974060, gradient norm = 0.0129865 (50 iterations in 0.440s)\n",
            "[t-SNE] Iteration 150: error = 52.5188141, gradient norm = 0.0072308 (50 iterations in 0.448s)\n",
            "[t-SNE] Iteration 200: error = 52.0719833, gradient norm = 0.0049739 (50 iterations in 0.424s)\n",
            "[t-SNE] Iteration 250: error = 51.8098640, gradient norm = 0.0042144 (50 iterations in 0.441s)\n",
            "[t-SNE] KL divergence after 250 iterations with early exaggeration: 51.809864\n",
            "[t-SNE] Iteration 300: error = 0.9317075, gradient norm = 0.0168322 (50 iterations in 0.435s)\n",
            "[t-SNE] Iteration 350: error = 0.6834536, gradient norm = 0.0140233 (50 iterations in 0.439s)\n",
            "[t-SNE] Iteration 400: error = 0.5908685, gradient norm = 0.0115958 (50 iterations in 0.575s)\n",
            "[t-SNE] Iteration 450: error = 0.5448906, gradient norm = 0.0103657 (50 iterations in 0.438s)\n",
            "[t-SNE] Iteration 500: error = 0.5192307, gradient norm = 0.0087496 (50 iterations in 0.427s)\n",
            "[t-SNE] KL divergence after 500 iterations: 0.519231\n",
            "t-SNE results saved as '/content/drive/MyDrive/MK-DCNN CWRU/NNOISE_0_tSNE_results.csv'.\n"
          ]
        },
        {
          "output_type": "display_data",
          "data": {
            "text/plain": [
              "<Figure size 800x600 with 1 Axes>"
            ],
            "image/png": "[encoded data removed]"
          },
          "metadata": {}
        }
      ]
    },
    {
      "cell_type": "markdown",
      "source": [
        "Statistical Features"
      ],
      "metadata": {
        "id": "PRuXPOIH6cTH"
      },
      "id": "PRuXPOIH6cTH"
    },
    {
      "cell_type": "code",
      "source": [
        "import numpy as np\n",
        "from scipy.stats import skew, kurtosis\n",
        "import pandas as pd\n",
        "import matplotlib.pyplot as plt\n",
        "\n",
        "# Total target rows\n",
        "TARGET_ROWS = 1800\n",
        "\n",
        "# Estimate the total number of samples across all fault types\n",
        "total_samples = sum(len(df[df['fault'] == f]) for f in df['fault'].unique())\n",
        "\n",
        "# Calculate suitable window size and stride\n",
        "num_faults = 9\n",
        "average_samples_per_fault = total_samples / num_faults\n",
        "approx_windows_per_fault = TARGET_ROWS / num_faults\n",
        "stride_ratio = 0.8  # Initial stride/window ratio\n",
        "\n",
        "WINDOW_SIZE = int(average_samples_per_fault / approx_windows_per_fault)\n",
        "STRIDE = int(WINDOW_SIZE * stride_ratio)\n",
        "\n",
        "print(f\"Calculated WINDOW_SIZE: {WINDOW_SIZE}, STRIDE: {STRIDE}\")\n",
        "\n",
        "# Initialize a list to store statistical features\n",
        "statistical_features = []\n",
        "\n",
        "# Loop through each fault type\n",
        "for f in df['fault'].unique():\n",
        "    # Extract data for the current fault type\n",
        "    fault_data = df[df['fault'] == f].iloc[:, 0].values  # Convert to NumPy array for efficiency\n",
        "\n",
        "    # Compute windows using sliding window approach\n",
        "    num_windows = (len(fault_data) - WINDOW_SIZE) // STRIDE + 1\n",
        "    for i in range(num_windows):\n",
        "        start = i * STRIDE\n",
        "        end = start + WINDOW_SIZE\n",
        "        window = fault_data[start:end]\n",
        "\n",
        "        # Compute statistical features for the current window\n",
        "        mean_val = np.mean(window)\n",
        "        std_val = np.std(window)\n",
        "        rms_val = np.sqrt(np.mean(np.square(window)))\n",
        "        max_val = np.max(window)\n",
        "        min_val = np.min(window)\n",
        "        skewness_val = skew(window)\n",
        "        kurtosis_val = kurtosis(window)\n",
        "\n",
        "        # Additional statistical features\n",
        "        mean_abs_val = np.mean(np.abs(window))\n",
        "        form_factor = rms_val / mean_abs_val if mean_abs_val != 0 else 0\n",
        "        crest_factor = max_val / rms_val if rms_val != 0 else 0\n",
        "\n",
        "        # Store the features in a dictionary\n",
        "        statistical_features.append({\n",
        "            'fault': f,\n",
        "            'window': i + 1,\n",
        "            'mean': mean_val,\n",
        "            'std': std_val,\n",
        "            'rms': rms_val,\n",
        "            'max': max_val,\n",
        "            'min': min_val,\n",
        "            'skewness': skewness_val,\n",
        "            'kurtosis': kurtosis_val,\n",
        "            'form_factor': form_factor,\n",
        "            'crest_factor': crest_factor\n",
        "        })\n",
        "\n",
        "# Convert statistical features into a DataFrame\n",
        "stat_features_df = pd.DataFrame(statistical_features)\n",
        "\n",
        "# Display the extracted features and count of rows\n",
        "print(f\"Extracted {len(stat_features_df)} rows (target: {TARGET_ROWS})\")\n",
        "print(stat_features_df)\n",
        "\n",
        "# Save the extracted features to a CSV file\n",
        "output_file = \"/content/drive/MyDrive/MK-DCNN CWRU/NNOISE_0_statistical_features_with_form_and_crest_factors.csv\"\n",
        "stat_features_df.to_csv(output_file, index=False)\n",
        "print(f\"Statistical features saved to '{output_file}'.\")\n"
      ],
      "metadata": {
        "colab": {
          "base_uri": "https://localhost:8080/"
        },
        "id": "HRTIq9cYQgjC",
        "outputId": "8c4cf5ac-9524-4c6b-f642-8d47c8c301ed"
      },
      "id": "HRTIq9cYQgjC",
      "execution_count": null,
      "outputs": [
        {
          "output_type": "stream",
          "name": "stdout",
          "text": [
            "Calculated WINDOW_SIZE: 2437, STRIDE: 1949\n",
            "Extracted 2244 rows (target: 1800)\n",
            "     fault  window      mean       std       rms       max       min  \\\n",
            "0      240       1  0.015607  0.492382  0.492629  3.210128 -3.966336   \n",
            "1      240       2  0.015350  0.646707  0.646889  4.917856 -4.585659   \n",
            "2      240       3  0.014072  0.669473  0.669621  3.917091 -4.262643   \n",
            "3      240       4  0.014014  0.701110  0.701250  3.917091 -4.262643   \n",
            "4      240       5  0.014971  0.529179  0.529391  3.437992 -4.165821   \n",
            "...    ...     ...       ...       ...       ...       ...       ...   \n",
            "2239   176     246  0.013869  0.293245  0.293573  1.901788 -1.770328   \n",
            "2240   176     247  0.015376  0.296763  0.297161  1.901788 -1.770328   \n",
            "2241   176     248  0.016397  0.318915  0.319336  2.213536 -2.146763   \n",
            "2242   176     249  0.018091  0.123074  0.124397  0.709049 -0.772901   \n",
            "2243   176     250  0.016510  0.203745  0.204413  1.365097 -1.342979   \n",
            "\n",
            "      skewness   kurtosis  form_factor  crest_factor  \n",
            "0    -1.024670  20.379434     1.994239      6.516321  \n",
            "1    -0.025571  14.954581     1.872416      7.602318  \n",
            "2    -0.215939  13.337181     2.107288      5.849716  \n",
            "3    -0.271317  10.581490     1.825579      5.585872  \n",
            "4    -1.005422  17.717815     1.879134      6.494240  \n",
            "...        ...        ...          ...           ...  \n",
            "2239  0.141625  14.008768     1.860841      6.478080  \n",
            "2240  0.128582  13.226968     1.774145      6.399856  \n",
            "2241  0.037235  16.766016     2.019464      6.931675  \n",
            "2242 -0.080210   5.981819     1.429797      5.699900  \n",
            "2243 -0.045542  11.556805     1.642859      6.678127  \n",
            "\n",
            "[2244 rows x 11 columns]\n",
            "Statistical features saved to '/content/drive/MyDrive/MK-DCNN CWRU/NNOISE_0_statistical_features_with_form_and_crest_factors.csv'.\n"
          ]
        }
      ]
    },
    {
      "cell_type": "code",
      "source": [
        "import pandas as pd\n",
        "from sklearn.utils import resample\n",
        "\n",
        "# Load your dataset (replace 'your_dataset.csv' with your actual file)\n",
        "df = pd.read_csv('/content/drive/MyDrive/MK-DCNN CWRU/NNOISE_0_statistical_features_with_form_and_crest_factors.csv')\n",
        "\n",
        "# Display initial class distribution\n",
        "print(\"Initial class distribution:\")\n",
        "print(df['fault'].value_counts())\n",
        "\n",
        "# Target size for undersampling/resampling\n",
        "TARGET_ROWS = 1570\n",
        "\n",
        "# Separate all fault types\n",
        "fault_classes = df['fault'].value_counts()\n",
        "\n",
        "# Determine the number of classes\n",
        "num_classes = len(fault_classes)\n",
        "\n",
        "# Calculate how many samples to take from each class\n",
        "samples_per_class = TARGET_ROWS // num_classes\n",
        "\n",
        "# Initialize a list to store resampled data\n",
        "resampled_data = []\n",
        "\n",
        "# Loop over each class to resample them\n",
        "for fault_class in fault_classes.index:\n",
        "    class_data = df[df['fault'] == fault_class]\n",
        "    if len(class_data) > samples_per_class:\n",
        "        # Undersample\n",
        "        class_data_resampled = resample(class_data, replace=False, n_samples=samples_per_class, random_state=42)\n",
        "    else:\n",
        "        # Upsample\n",
        "        class_data_resampled = resample(class_data, replace=True, n_samples=samples_per_class, random_state=42)\n",
        "\n",
        "    resampled_data.append(class_data_resampled)\n",
        "\n",
        "# Concatenate the resampled data into a single DataFrame\n",
        "balanced_df = pd.concat(resampled_data)\n",
        "\n",
        "# Check if we have the exact number of rows\n",
        "current_rows = len(balanced_df)\n",
        "print(f\"Current rows after equal resampling: {current_rows}\")\n",
        "\n",
        "# If the current rows don't match the target rows, adjust by trimming or adding rows\n",
        "if current_rows > TARGET_ROWS:\n",
        "    # Trim extra rows (if more than target)\n",
        "    balanced_df = balanced_df.head(TARGET_ROWS)\n",
        "elif current_rows < TARGET_ROWS:\n",
        "    # Add rows if fewer than target, by sampling from existing data\n",
        "    remaining_rows = TARGET_ROWS - current_rows\n",
        "    additional_data = balanced_df.sample(n=remaining_rows, replace=True, random_state=42)\n",
        "    balanced_df = pd.concat([balanced_df, additional_data])\n",
        "\n",
        "# Shuffle the final dataset\n",
        "balanced_df = balanced_df.sample(frac=1, random_state=42).reset_index(drop=True)\n",
        "\n",
        "# Display new class distribution\n",
        "print(\"New class distribution:\")\n",
        "print(balanced_df['fault'].value_counts())\n",
        "\n",
        "# Display final row count\n",
        "print(f\"Final row count: {len(balanced_df)}\")\n",
        "\n",
        "# Save the balanced dataset to a CSV file\n",
        "balanced_df.to_csv(\"/content/drive/MyDrive/MK-DCNN CWRU/NNOISE_0_balanced_dataset_equal_resampling_exact_1570.csv\", index=False)\n",
        "print(\"Balanced dataset saved as '/content/drive/MyDrive/MK-DCNN CWRU/NNOISE_0_balanced_dataset_equal_resampling_exact_1570.csv'\")\n"
      ],
      "metadata": {
        "id": "0-DLTbJL0tc6",
        "colab": {
          "base_uri": "https://localhost:8080/"
        },
        "outputId": "025177ab-9d90-43db-b029-77a4d00817f1"
      },
      "id": "0-DLTbJL0tc6",
      "execution_count": null,
      "outputs": [
        {
          "output_type": "stream",
          "name": "stdout",
          "text": [
            "Initial class distribution:\n",
            "fault\n",
            "215    251\n",
            "240    250\n",
            "176    250\n",
            "203    249\n",
            "191    249\n",
            "124    249\n",
            "137    249\n",
            "228    249\n",
            "111    248\n",
            "Name: count, dtype: int64\n",
            "Current rows after equal resampling: 1566\n",
            "New class distribution:\n",
            "fault\n",
            "111    175\n",
            "137    175\n",
            "228    175\n",
            "191    175\n",
            "124    174\n",
            "203    174\n",
            "176    174\n",
            "240    174\n",
            "215    174\n",
            "Name: count, dtype: int64\n",
            "Final row count: 1570\n",
            "Balanced dataset saved as '/content/drive/MyDrive/MK-DCNN CWRU/NNOISE_0_balanced_dataset_equal_resampling_exact_1570.csv'\n"
          ]
        }
      ]
    },
    {
      "cell_type": "code",
      "source": [
        "balanced_df.shape"
      ],
      "metadata": {
        "id": "NQ3f_WOt7Dld",
        "colab": {
          "base_uri": "https://localhost:8080/"
        },
        "outputId": "1d86a8f8-063d-48c2-ebba-8964f076e9e6"
      },
      "id": "NQ3f_WOt7Dld",
      "execution_count": null,
      "outputs": [
        {
          "output_type": "execute_result",
          "data": {
            "text/plain": [
              "(1570, 11)"
            ]
          },
          "metadata": {},
          "execution_count": 59
        }
      ]
    },
    {
      "cell_type": "code",
      "source": [
        "balanced_df=balanced_df.sort_values(by='fault')"
      ],
      "metadata": {
        "id": "JP_zDzu6_Zkt"
      },
      "id": "JP_zDzu6_Zkt",
      "execution_count": null,
      "outputs": []
    },
    {
      "cell_type": "code",
      "source": [
        "balanced_df"
      ],
      "metadata": {
        "id": "eq6MhY1CAvgD",
        "colab": {
          "base_uri": "https://localhost:8080/",
          "height": 423
        },
        "outputId": "1fa6983c-1c5d-4c5c-f784-0ffca7a5d9d6"
      },
      "id": "eq6MhY1CAvgD",
      "execution_count": null,
      "outputs": [
        {
          "output_type": "execute_result",
          "data": {
            "text/plain": [
              "      fault  window      mean       std       rms       max       min  \\\n",
              "0       111     142  0.017201  0.284272  0.284792  1.543128 -1.460308   \n",
              "1568    111     128  0.012351  0.265459  0.265746  1.291121 -1.453215   \n",
              "18      111     145  0.015398  0.271972  0.272407  1.323665 -1.400644   \n",
              "21      111     143  0.018047  0.277313  0.277900  1.337850 -1.421088   \n",
              "22      111      42  0.016326  0.281090  0.281563  1.602583 -1.485967   \n",
              "...     ...     ...       ...       ...       ...       ...       ...   \n",
              "1529    240     225  0.012007  0.696202  0.696305  5.077277 -4.677472   \n",
              "396     240      70  0.017594  0.674714  0.674943  3.487237 -3.793560   \n",
              "400     240     143  0.010312  0.664277  0.664357  5.367741 -4.869445   \n",
              "372     240       6  0.013105  0.556761  0.556915  3.684219 -3.484733   \n",
              "373     240      71  0.018764  0.534298  0.534627  3.378731 -3.277736   \n",
              "\n",
              "      skewness   kurtosis  form_factor  crest_factor  \n",
              "0    -0.043963   4.067017     1.429144      5.418441  \n",
              "1568 -0.045666   3.941706     1.416071      4.858474  \n",
              "18   -0.076045   4.380229     1.444713      4.859138  \n",
              "21   -0.327077   4.401103     1.441073      4.814150  \n",
              "22    0.042184   4.774533     1.451022      5.691731  \n",
              "...        ...        ...          ...           ...  \n",
              "1529  0.053641  12.936972     1.898078      7.291740  \n",
              "396  -0.333754   8.114633     1.824358      5.166711  \n",
              "400   0.066936  18.298399     1.908957      8.079600  \n",
              "372  -0.161449  12.306056     1.782975      6.615403  \n",
              "373  -0.443695   9.628761     1.779096      6.319789  \n",
              "\n",
              "[1570 rows x 11 columns]"
            ],
            "text/html": [
              "\n",
              "  <div id=\"df-0b1c3956-8b34-473b-a4a9-464799037d73\" class=\"colab-df-container\">\n",
              "    <div>\n",
              "<style scoped>\n",
              "    .dataframe tbody tr th:only-of-type {\n",
              "        vertical-align: middle;\n",
              "    }\n",
              "\n",
              "    .dataframe tbody tr th {\n",
              "        vertical-align: top;\n",
              "    }\n",
              "\n",
              "    .dataframe thead th {\n",
              "        text-align: right;\n",
              "    }\n",
              "</style>\n",
              "<table border=\"1\" class=\"dataframe\">\n",
              "  <thead>\n",
              "    <tr style=\"text-align: right;\">\n",
              "      <th></th>\n",
              "      <th>fault</th>\n",
              "      <th>window</th>\n",
              "      <th>mean</th>\n",
              "      <th>std</th>\n",
              "      <th>rms</th>\n",
              "      <th>max</th>\n",
              "      <th>min</th>\n",
              "      <th>skewness</th>\n",
              "      <th>kurtosis</th>\n",
              "      <th>form_factor</th>\n",
              "      <th>crest_factor</th>\n",
              "    </tr>\n",
              "  </thead>\n",
              "  <tbody>\n",
              "    <tr>\n",
              "      <th>0</th>\n",
              "      <td>111</td>\n",
              "      <td>142</td>\n",
              "      <td>0.017201</td>\n",
              "      <td>0.284272</td>\n",
              "      <td>0.284792</td>\n",
              "      <td>1.543128</td>\n",
              "      <td>-1.460308</td>\n",
              "      <td>-0.043963</td>\n",
              "      <td>4.067017</td>\n",
              "      <td>1.429144</td>\n",
              "      <td>5.418441</td>\n",
              "    </tr>\n",
              "    <tr>\n",
              "      <th>1568</th>\n",
              "      <td>111</td>\n",
              "      <td>128</td>\n",
              "      <td>0.012351</td>\n",
              "      <td>0.265459</td>\n",
              "      <td>0.265746</td>\n",
              "      <td>1.291121</td>\n",
              "      <td>-1.453215</td>\n",
              "      <td>-0.045666</td>\n",
              "      <td>3.941706</td>\n",
              "      <td>1.416071</td>\n",
              "      <td>4.858474</td>\n",
              "    </tr>\n",
              "    <tr>\n",
              "      <th>18</th>\n",
              "      <td>111</td>\n",
              "      <td>145</td>\n",
              "      <td>0.015398</td>\n",
              "      <td>0.271972</td>\n",
              "      <td>0.272407</td>\n",
              "      <td>1.323665</td>\n",
              "      <td>-1.400644</td>\n",
              "      <td>-0.076045</td>\n",
              "      <td>4.380229</td>\n",
              "      <td>1.444713</td>\n",
              "      <td>4.859138</td>\n",
              "    </tr>\n",
              "    <tr>\n",
              "      <th>21</th>\n",
              "      <td>111</td>\n",
              "      <td>143</td>\n",
              "      <td>0.018047</td>\n",
              "      <td>0.277313</td>\n",
              "      <td>0.277900</td>\n",
              "      <td>1.337850</td>\n",
              "      <td>-1.421088</td>\n",
              "      <td>-0.327077</td>\n",
              "      <td>4.401103</td>\n",
              "      <td>1.441073</td>\n",
              "      <td>4.814150</td>\n",
              "    </tr>\n",
              "    <tr>\n",
              "      <th>22</th>\n",
              "      <td>111</td>\n",
              "      <td>42</td>\n",
              "      <td>0.016326</td>\n",
              "      <td>0.281090</td>\n",
              "      <td>0.281563</td>\n",
              "      <td>1.602583</td>\n",
              "      <td>-1.485967</td>\n",
              "      <td>0.042184</td>\n",
              "      <td>4.774533</td>\n",
              "      <td>1.451022</td>\n",
              "      <td>5.691731</td>\n",
              "    </tr>\n",
              "    <tr>\n",
              "      <th>...</th>\n",
              "      <td>...</td>\n",
              "      <td>...</td>\n",
              "      <td>...</td>\n",
              "      <td>...</td>\n",
              "      <td>...</td>\n",
              "      <td>...</td>\n",
              "      <td>...</td>\n",
              "      <td>...</td>\n",
              "      <td>...</td>\n",
              "      <td>...</td>\n",
              "      <td>...</td>\n",
              "    </tr>\n",
              "    <tr>\n",
              "      <th>1529</th>\n",
              "      <td>240</td>\n",
              "      <td>225</td>\n",
              "      <td>0.012007</td>\n",
              "      <td>0.696202</td>\n",
              "      <td>0.696305</td>\n",
              "      <td>5.077277</td>\n",
              "      <td>-4.677472</td>\n",
              "      <td>0.053641</td>\n",
              "      <td>12.936972</td>\n",
              "      <td>1.898078</td>\n",
              "      <td>7.291740</td>\n",
              "    </tr>\n",
              "    <tr>\n",
              "      <th>396</th>\n",
              "      <td>240</td>\n",
              "      <td>70</td>\n",
              "      <td>0.017594</td>\n",
              "      <td>0.674714</td>\n",
              "      <td>0.674943</td>\n",
              "      <td>3.487237</td>\n",
              "      <td>-3.793560</td>\n",
              "      <td>-0.333754</td>\n",
              "      <td>8.114633</td>\n",
              "      <td>1.824358</td>\n",
              "      <td>5.166711</td>\n",
              "    </tr>\n",
              "    <tr>\n",
              "      <th>400</th>\n",
              "      <td>240</td>\n",
              "      <td>143</td>\n",
              "      <td>0.010312</td>\n",
              "      <td>0.664277</td>\n",
              "      <td>0.664357</td>\n",
              "      <td>5.367741</td>\n",
              "      <td>-4.869445</td>\n",
              "      <td>0.066936</td>\n",
              "      <td>18.298399</td>\n",
              "      <td>1.908957</td>\n",
              "      <td>8.079600</td>\n",
              "    </tr>\n",
              "    <tr>\n",
              "      <th>372</th>\n",
              "      <td>240</td>\n",
              "      <td>6</td>\n",
              "      <td>0.013105</td>\n",
              "      <td>0.556761</td>\n",
              "      <td>0.556915</td>\n",
              "      <td>3.684219</td>\n",
              "      <td>-3.484733</td>\n",
              "      <td>-0.161449</td>\n",
              "      <td>12.306056</td>\n",
              "      <td>1.782975</td>\n",
              "      <td>6.615403</td>\n",
              "    </tr>\n",
              "    <tr>\n",
              "      <th>373</th>\n",
              "      <td>240</td>\n",
              "      <td>71</td>\n",
              "      <td>0.018764</td>\n",
              "      <td>0.534298</td>\n",
              "      <td>0.534627</td>\n",
              "      <td>3.378731</td>\n",
              "      <td>-3.277736</td>\n",
              "      <td>-0.443695</td>\n",
              "      <td>9.628761</td>\n",
              "      <td>1.779096</td>\n",
              "      <td>6.319789</td>\n",
              "    </tr>\n",
              "  </tbody>\n",
              "</table>\n",
              "<p>1570 rows × 11 columns</p>\n",
              "</div>\n",
              "    <div class=\"colab-df-buttons\">\n",
              "\n",
              "  <div class=\"colab-df-container\">\n",
              "    <button class=\"colab-df-convert\" onclick=\"convertToInteractive('df-0b1c3956-8b34-473b-a4a9-464799037d73')\"\n",
              "            title=\"Convert this dataframe to an interactive table.\"\n",
              "            style=\"display:none;\">\n",
              "\n",
              "  <svg xmlns=\"http://www.w3.org/2000/svg\" height=\"24px\" viewBox=\"0 -960 960 960\">\n",
              "    <path d=\"M120-120v-720h720v720H120Zm60-500h600v-160H180v160Zm220 220h160v-160H400v160Zm0 220h160v-160H400v160ZM180-400h160v-160H180v160Zm440 0h160v-160H620v160ZM180-180h160v-160H180v160Zm440 0h160v-160H620v160Z\"/>\n",
              "  </svg>\n",
              "    </button>\n",
              "\n",
              "  <style>\n",
              "    .colab-df-container {\n",
              "      display:flex;\n",
              "      gap: 12px;\n",
              "    }\n",
              "\n",
              "    .colab-df-convert {\n",
              "      background-color: #E8F0FE;\n",
              "      border: none;\n",
              "      border-radius: 50%;\n",
              "      cursor: pointer;\n",
              "      display: none;\n",
              "      fill: #1967D2;\n",
              "      height: 32px;\n",
              "      padding: 0 0 0 0;\n",
              "      width: 32px;\n",
              "    }\n",
              "\n",
              "    .colab-df-convert:hover {\n",
              "      background-color: #E2EBFA;\n",
              "      box-shadow: 0px 1px 2px rgba(60, 64, 67, 0.3), 0px 1px 3px 1px rgba(60, 64, 67, 0.15);\n",
              "      fill: #174EA6;\n",
              "    }\n",
              "\n",
              "    .colab-df-buttons div {\n",
              "      margin-bottom: 4px;\n",
              "    }\n",
              "\n",
              "    [theme=dark] .colab-df-convert {\n",
              "      background-color: #3B4455;\n",
              "      fill: #D2E3FC;\n",
              "    }\n",
              "\n",
              "    [theme=dark] .colab-df-convert:hover {\n",
              "      background-color: #434B5C;\n",
              "      box-shadow: 0px 1px 3px 1px rgba(0, 0, 0, 0.15);\n",
              "      filter: drop-shadow(0px 1px 2px rgba(0, 0, 0, 0.3));\n",
              "      fill: #FFFFFF;\n",
              "    }\n",
              "  </style>\n",
              "\n",
              "    <script>\n",
              "      const buttonEl =\n",
              "        document.querySelector('#df-0b1c3956-8b34-473b-a4a9-464799037d73 button.colab-df-convert');\n",
              "      buttonEl.style.display =\n",
              "        google.colab.kernel.accessAllowed ? 'block' : 'none';\n",
              "\n",
              "      async function convertToInteractive(key) {\n",
              "        const element = document.querySelector('#df-0b1c3956-8b34-473b-a4a9-464799037d73');\n",
              "        const dataTable =\n",
              "          await google.colab.kernel.invokeFunction('convertToInteractive',\n",
              "                                                    [key], {});\n",
              "        if (!dataTable) return;\n",
              "\n",
              "        const docLinkHtml = 'Like what you see? Visit the ' +\n",
              "          '<a target=\"_blank\" href=https://colab.research.google.com/notebooks/data_table.ipynb>data table notebook</a>'\n",
              "          + ' to learn more about interactive tables.';\n",
              "        element.innerHTML = '';\n",
              "        dataTable['output_type'] = 'display_data';\n",
              "        await google.colab.output.renderOutput(dataTable, element);\n",
              "        const docLink = document.createElement('div');\n",
              "        docLink.innerHTML = docLinkHtml;\n",
              "        element.appendChild(docLink);\n",
              "      }\n",
              "    </script>\n",
              "  </div>\n",
              "\n",
              "\n",
              "    <div id=\"df-bf5429c6-5b27-4d2c-9cec-d369dab1fe4f\">\n",
              "      <button class=\"colab-df-quickchart\" onclick=\"quickchart('df-bf5429c6-5b27-4d2c-9cec-d369dab1fe4f')\"\n",
              "                title=\"Suggest charts\"\n",
              "                style=\"display:none;\">\n",
              "\n",
              "<svg xmlns=\"http://www.w3.org/2000/svg\" height=\"24px\"viewBox=\"0 0 24 24\"\n",
              "     width=\"24px\">\n",
              "    <g>\n",
              "        <path d=\"M19 3H5c-1.1 0-2 .9-2 2v14c0 1.1.9 2 2 2h14c1.1 0 2-.9 2-2V5c0-1.1-.9-2-2-2zM9 17H7v-7h2v7zm4 0h-2V7h2v10zm4 0h-2v-4h2v4z\"/>\n",
              "    </g>\n",
              "</svg>\n",
              "      </button>\n",
              "\n",
              "<style>\n",
              "  .colab-df-quickchart {\n",
              "      --bg-color: #E8F0FE;\n",
              "      --fill-color: #1967D2;\n",
              "      --hover-bg-color: #E2EBFA;\n",
              "      --hover-fill-color: #174EA6;\n",
              "      --disabled-fill-color: #AAA;\n",
              "      --disabled-bg-color: #DDD;\n",
              "  }\n",
              "\n",
              "  [theme=dark] .colab-df-quickchart {\n",
              "      --bg-color: #3B4455;\n",
              "      --fill-color: #D2E3FC;\n",
              "      --hover-bg-color: #434B5C;\n",
              "      --hover-fill-color: #FFFFFF;\n",
              "      --disabled-bg-color: #3B4455;\n",
              "      --disabled-fill-color: #666;\n",
              "  }\n",
              "\n",
              "  .colab-df-quickchart {\n",
              "    background-color: var(--bg-color);\n",
              "    border: none;\n",
              "    border-radius: 50%;\n",
              "    cursor: pointer;\n",
              "    display: none;\n",
              "    fill: var(--fill-color);\n",
              "    height: 32px;\n",
              "    padding: 0;\n",
              "    width: 32px;\n",
              "  }\n",
              "\n",
              "  .colab-df-quickchart:hover {\n",
              "    background-color: var(--hover-bg-color);\n",
              "    box-shadow: 0 1px 2px rgba(60, 64, 67, 0.3), 0 1px 3px 1px rgba(60, 64, 67, 0.15);\n",
              "    fill: var(--button-hover-fill-color);\n",
              "  }\n",
              "\n",
              "  .colab-df-quickchart-complete:disabled,\n",
              "  .colab-df-quickchart-complete:disabled:hover {\n",
              "    background-color: var(--disabled-bg-color);\n",
              "    fill: var(--disabled-fill-color);\n",
              "    box-shadow: none;\n",
              "  }\n",
              "\n",
              "  .colab-df-spinner {\n",
              "    border: 2px solid var(--fill-color);\n",
              "    border-color: transparent;\n",
              "    border-bottom-color: var(--fill-color);\n",
              "    animation:\n",
              "      spin 1s steps(1) infinite;\n",
              "  }\n",
              "\n",
              "  @keyframes spin {\n",
              "    0% {\n",
              "      border-color: transparent;\n",
              "      border-bottom-color: var(--fill-color);\n",
              "      border-left-color: var(--fill-color);\n",
              "    }\n",
              "    20% {\n",
              "      border-color: transparent;\n",
              "      border-left-color: var(--fill-color);\n",
              "      border-top-color: var(--fill-color);\n",
              "    }\n",
              "    30% {\n",
              "      border-color: transparent;\n",
              "      border-left-color: var(--fill-color);\n",
              "      border-top-color: var(--fill-color);\n",
              "      border-right-color: var(--fill-color);\n",
              "    }\n",
              "    40% {\n",
              "      border-color: transparent;\n",
              "      border-right-color: var(--fill-color);\n",
              "      border-top-color: var(--fill-color);\n",
              "    }\n",
              "    60% {\n",
              "      border-color: transparent;\n",
              "      border-right-color: var(--fill-color);\n",
              "    }\n",
              "    80% {\n",
              "      border-color: transparent;\n",
              "      border-right-color: var(--fill-color);\n",
              "      border-bottom-color: var(--fill-color);\n",
              "    }\n",
              "    90% {\n",
              "      border-color: transparent;\n",
              "      border-bottom-color: var(--fill-color);\n",
              "    }\n",
              "  }\n",
              "</style>\n",
              "\n",
              "      <script>\n",
              "        async function quickchart(key) {\n",
              "          const quickchartButtonEl =\n",
              "            document.querySelector('#' + key + ' button');\n",
              "          quickchartButtonEl.disabled = true;  // To prevent multiple clicks.\n",
              "          quickchartButtonEl.classList.add('colab-df-spinner');\n",
              "          try {\n",
              "            const charts = await google.colab.kernel.invokeFunction(\n",
              "                'suggestCharts', [key], {});\n",
              "          } catch (error) {\n",
              "            console.error('Error during call to suggestCharts:', error);\n",
              "          }\n",
              "          quickchartButtonEl.classList.remove('colab-df-spinner');\n",
              "          quickchartButtonEl.classList.add('colab-df-quickchart-complete');\n",
              "        }\n",
              "        (() => {\n",
              "          let quickchartButtonEl =\n",
              "            document.querySelector('#df-bf5429c6-5b27-4d2c-9cec-d369dab1fe4f button');\n",
              "          quickchartButtonEl.style.display =\n",
              "            google.colab.kernel.accessAllowed ? 'block' : 'none';\n",
              "        })();\n",
              "      </script>\n",
              "    </div>\n",
              "\n",
              "  <div id=\"id_0f8434ad-3caa-42c7-9a95-1e50b3bf6d57\">\n",
              "    <style>\n",
              "      .colab-df-generate {\n",
              "        background-color: #E8F0FE;\n",
              "        border: none;\n",
              "        border-radius: 50%;\n",
              "        cursor: pointer;\n",
              "        display: none;\n",
              "        fill: #1967D2;\n",
              "        height: 32px;\n",
              "        padding: 0 0 0 0;\n",
              "        width: 32px;\n",
              "      }\n",
              "\n",
              "      .colab-df-generate:hover {\n",
              "        background-color: #E2EBFA;\n",
              "        box-shadow: 0px 1px 2px rgba(60, 64, 67, 0.3), 0px 1px 3px 1px rgba(60, 64, 67, 0.15);\n",
              "        fill: #174EA6;\n",
              "      }\n",
              "\n",
              "      [theme=dark] .colab-df-generate {\n",
              "        background-color: #3B4455;\n",
              "        fill: #D2E3FC;\n",
              "      }\n",
              "\n",
              "      [theme=dark] .colab-df-generate:hover {\n",
              "        background-color: #434B5C;\n",
              "        box-shadow: 0px 1px 3px 1px rgba(0, 0, 0, 0.15);\n",
              "        filter: drop-shadow(0px 1px 2px rgba(0, 0, 0, 0.3));\n",
              "        fill: #FFFFFF;\n",
              "      }\n",
              "    </style>\n",
              "    <button class=\"colab-df-generate\" onclick=\"generateWithVariable('balanced_df')\"\n",
              "            title=\"Generate code using this dataframe.\"\n",
              "            style=\"display:none;\">\n",
              "\n",
              "  <svg xmlns=\"http://www.w3.org/2000/svg\" height=\"24px\"viewBox=\"0 0 24 24\"\n",
              "       width=\"24px\">\n",
              "    <path d=\"M7,19H8.4L18.45,9,17,7.55,7,17.6ZM5,21V16.75L18.45,3.32a2,2,0,0,1,2.83,0l1.4,1.43a1.91,1.91,0,0,1,.58,1.4,1.91,1.91,0,0,1-.58,1.4L9.25,21ZM18.45,9,17,7.55Zm-12,3A5.31,5.31,0,0,0,4.9,8.1,5.31,5.31,0,0,0,1,6.5,5.31,5.31,0,0,0,4.9,4.9,5.31,5.31,0,0,0,6.5,1,5.31,5.31,0,0,0,8.1,4.9,5.31,5.31,0,0,0,12,6.5,5.46,5.46,0,0,0,6.5,12Z\"/>\n",
              "  </svg>\n",
              "    </button>\n",
              "    <script>\n",
              "      (() => {\n",
              "      const buttonEl =\n",
              "        document.querySelector('#id_0f8434ad-3caa-42c7-9a95-1e50b3bf6d57 button.colab-df-generate');\n",
              "      buttonEl.style.display =\n",
              "        google.colab.kernel.accessAllowed ? 'block' : 'none';\n",
              "\n",
              "      buttonEl.onclick = () => {\n",
              "        google.colab.notebook.generateWithVariable('balanced_df');\n",
              "      }\n",
              "      })();\n",
              "    </script>\n",
              "  </div>\n",
              "\n",
              "    </div>\n",
              "  </div>\n"
            ],
            "application/vnd.google.colaboratory.intrinsic+json": {
              "type": "dataframe",
              "variable_name": "balanced_df",
              "summary": "{\n  \"name\": \"balanced_df\",\n  \"rows\": 1570,\n  \"fields\": [\n    {\n      \"column\": \"fault\",\n      \"properties\": {\n        \"dtype\": \"number\",\n        \"std\": 44,\n        \"min\": 111,\n        \"max\": 240,\n        \"num_unique_values\": 9,\n        \"samples\": [\n          228,\n          124,\n          203\n        ],\n        \"semantic_type\": \"\",\n        \"description\": \"\"\n      }\n    },\n    {\n      \"column\": \"window\",\n      \"properties\": {\n        \"dtype\": \"number\",\n        \"std\": 71,\n        \"min\": 1,\n        \"max\": 250,\n        \"num_unique_values\": 190,\n        \"samples\": [\n          219,\n          245,\n          52\n        ],\n        \"semantic_type\": \"\",\n        \"description\": \"\"\n      }\n    },\n    {\n      \"column\": \"mean\",\n      \"properties\": {\n        \"dtype\": \"number\",\n        \"std\": 0.003203939960584341,\n        \"min\": 0.004926999316099,\n        \"max\": 0.0239915396609955,\n        \"num_unique_values\": 1561,\n        \"samples\": [\n          0.0150829095882916,\n          0.0123405801584545,\n          0.0108645378197237\n        ],\n        \"semantic_type\": \"\",\n        \"description\": \"\"\n      }\n    },\n    {\n      \"column\": \"std\",\n      \"properties\": {\n        \"dtype\": \"number\",\n        \"std\": 0.3091527492930426,\n        \"min\": 0.0788515965546335,\n        \"max\": 1.178302815410755,\n        \"num_unique_values\": 1566,\n        \"samples\": [\n          0.2762630795235214,\n          0.1534669353341329,\n          0.5468192093765907\n        ],\n        \"semantic_type\": \"\",\n        \"description\": \"\"\n      }\n    },\n    {\n      \"column\": \"rms\",\n      \"properties\": {\n        \"dtype\": \"number\",\n        \"std\": 0.3089305415592144,\n        \"min\": 0.079508764379051,\n        \"max\": 1.1783847497403548,\n        \"num_unique_values\": 1566,\n        \"samples\": [\n          0.2765831179338625,\n          0.1543051621484478,\n          0.5469137639805225\n        ],\n        \"semantic_type\": \"\",\n        \"description\": \"\"\n      }\n    },\n    {\n      \"column\": \"max\",\n      \"properties\": {\n        \"dtype\": \"number\",\n        \"std\": 1.5830178529879446,\n        \"min\": 0.2682793846153846,\n        \"max\": 7.323365333333333,\n        \"num_unique_values\": 1301,\n        \"samples\": [\n          1.1747933333333334,\n          0.5033889230769231,\n          4.715866666666667\n        ],\n        \"semantic_type\": \"\",\n        \"description\": \"\"\n      }\n    },\n    {\n      \"column\": \"min\",\n      \"properties\": {\n        \"dtype\": \"number\",\n        \"std\": 1.5961042715447957,\n        \"min\": -6.686514666666666,\n        \"max\": -0.1831643076923076,\n        \"num_unique_values\": 1319,\n        \"samples\": [\n          -0.473556923076923,\n          -2.376546461538461,\n          -0.9850818461538462\n        ],\n        \"semantic_type\": \"\",\n        \"description\": \"\"\n      }\n    },\n    {\n      \"column\": \"skewness\",\n      \"properties\": {\n        \"dtype\": \"number\",\n        \"std\": 0.2039702126675109,\n        \"min\": -1.1111534281744555,\n        \"max\": 1.016284851233214,\n        \"num_unique_values\": 1566,\n        \"samples\": [\n          0.0067675082306277,\n          -0.0436410948924813,\n          0.0964031143328143\n        ],\n        \"semantic_type\": \"\",\n        \"description\": \"\"\n      }\n    },\n    {\n      \"column\": \"kurtosis\",\n      \"properties\": {\n        \"dtype\": \"number\",\n        \"std\": 5.521057057079511,\n        \"min\": -0.5317262574087676,\n        \"max\": 29.03618654586804,\n        \"num_unique_values\": 1566,\n        \"samples\": [\n          7.2176534460776125,\n          0.2269454025158293,\n          13.195672187475996\n        ],\n        \"semantic_type\": \"\",\n        \"description\": \"\"\n      }\n    },\n    {\n      \"column\": \"form_factor\",\n      \"properties\": {\n        \"dtype\": \"number\",\n        \"std\": 0.2308901345230065,\n        \"min\": 1.211982438898609,\n        \"max\": 2.314423114971896,\n        \"num_unique_values\": 1566,\n        \"samples\": [\n          1.661442796111302,\n          1.2766066660832571,\n          1.818657711696128\n        ],\n        \"semantic_type\": \"\",\n        \"description\": \"\"\n      }\n    },\n    {\n      \"column\": \"crest_factor\",\n      \"properties\": {\n        \"dtype\": \"number\",\n        \"std\": 1.3627506511293666,\n        \"min\": 2.6021400437271827,\n        \"max\": 10.01980277025321,\n        \"num_unique_values\": 1566,\n        \"samples\": [\n          5.460670718501657,\n          3.343412747640443,\n          7.220165700822681\n        ],\n        \"semantic_type\": \"\",\n        \"description\": \"\"\n      }\n    }\n  ]\n}"
            }
          },
          "metadata": {},
          "execution_count": 61
        }
      ]
    },
    {
      "cell_type": "code",
      "source": [
        "import pandas as pd\n",
        "from sklearn.preprocessing import StandardScaler\n",
        "from sklearn.manifold import TSNE\n",
        "import matplotlib.pyplot as plt\n",
        "\n",
        "\n",
        "# Sort the dataset by the 'Fault' column\n",
        "balanced_df = balanced_df.sort_values(by='fault')\n",
        "\n",
        "# Separate features and target variable\n",
        "X = balanced_df.drop(columns=['fault'])  # Replace 'Fault' with actual target column name\n",
        "y = balanced_df['fault']\n",
        "\n",
        "# Normalize the feature columns using StandardScaler\n",
        "scaler = StandardScaler()\n",
        "X_normalized = pd.DataFrame(scaler.fit_transform(X), columns=X.columns)\n",
        "\n",
        "# Concatenate the normalized features with the target variable\n",
        "STAT_Motor_Fault_dataset_normalized = pd.concat([X_normalized, y.reset_index(drop=True)], axis=1)\n",
        "\n",
        "# Sort the normalized dataset by 'Fault' column\n",
        "STAT_Motor_Fault_dataset_normalized = STAT_Motor_Fault_dataset_normalized.sort_values(by='fault')\n",
        "\n",
        "# Apply t-SNE for dimensionality reduction\n",
        "tsne = TSNE(n_components=2, random_state=42)  # 2D t-SNE\n",
        "X_tsne = tsne.fit_transform(X_normalized)\n",
        "\n",
        "# Create a DataFrame for t-SNE results\n",
        "tSNE_representation = pd.DataFrame(X_tsne, columns=['t-SNE 1', 't-SNE 2'])\n",
        "tSNE_representation['fault'] = y.reset_index(drop=True)\n",
        "\n",
        "# Display the t-SNE representation\n",
        "print(tSNE_representation.head())\n",
        "\n",
        "# Optional: Visualization of t-SNE representation\n",
        "plt.figure(figsize=(8, 6))\n",
        "for label in tSNE_representation['fault'].unique():\n",
        "    subset = tSNE_representation[tSNE_representation['fault'] == label]\n",
        "    plt.scatter(subset['t-SNE 1'], subset['t-SNE 2'], label=f'fault {label}', alpha=0.7)\n",
        "\n",
        "plt.title('t-SNE Representation of Motor Fault Dataset')\n",
        "plt.xlabel('t-SNE 1')\n",
        "plt.ylabel('t-SNE 2')\n",
        "plt.legend()\n",
        "plt.show()\n"
      ],
      "metadata": {
        "id": "tV7aspjE3R4f",
        "colab": {
          "base_uri": "https://localhost:8080/",
          "height": 674
        },
        "outputId": "6a343279-c98d-4e41-a928-efa99e05845f"
      },
      "id": "tV7aspjE3R4f",
      "execution_count": null,
      "outputs": [
        {
          "output_type": "stream",
          "name": "stdout",
          "text": [
            "    t-SNE 1    t-SNE 2  fault\n",
            "0 -3.433824  19.954775    111\n",
            "1  6.116961   7.854236    111\n",
            "2 -6.421768  24.169874    111\n",
            "3 -9.905504  21.922029    111\n",
            "4 -8.095685  31.121874    111\n"
          ]
        },
        {
          "output_type": "display_data",
          "data": {
            "text/plain": [
              "<Figure size 800x600 with 1 Axes>"
            ],
            "image/png": "[encoded data removed]"
          },
          "metadata": {}
        }
      ]
    },
    {
      "cell_type": "code",
      "source": [
        "tSNE_representation"
      ],
      "metadata": {
        "id": "QMwOLwssDgHU",
        "colab": {
          "base_uri": "https://localhost:8080/",
          "height": 423
        },
        "outputId": "6488f080-6915-4703-913d-4929fe5494a1"
      },
      "id": "QMwOLwssDgHU",
      "execution_count": null,
      "outputs": [
        {
          "output_type": "execute_result",
          "data": {
            "text/plain": [
              "        t-SNE 1    t-SNE 2  fault\n",
              "0     -3.433824  19.954775    111\n",
              "1      6.116961   7.854236    111\n",
              "2     -6.421768  24.169874    111\n",
              "3     -9.905504  21.922029    111\n",
              "4     -8.095685  31.121874    111\n",
              "...         ...        ...    ...\n",
              "1565 -33.388966  15.770740    240\n",
              "1566 -37.854988   8.523334    240\n",
              "1567 -31.204195  10.999398    240\n",
              "1568 -36.115154  18.974964    240\n",
              "1569 -36.740067  19.218025    240\n",
              "\n",
              "[1570 rows x 3 columns]"
            ],
            "text/html": [
              "\n",
              "  <div id=\"df-b437472e-ec6b-43e3-94e3-af7a7364a51a\" class=\"colab-df-container\">\n",
              "    <div>\n",
              "<style scoped>\n",
              "    .dataframe tbody tr th:only-of-type {\n",
              "        vertical-align: middle;\n",
              "    }\n",
              "\n",
              "    .dataframe tbody tr th {\n",
              "        vertical-align: top;\n",
              "    }\n",
              "\n",
              "    .dataframe thead th {\n",
              "        text-align: right;\n",
              "    }\n",
              "</style>\n",
              "<table border=\"1\" class=\"dataframe\">\n",
              "  <thead>\n",
              "    <tr style=\"text-align: right;\">\n",
              "      <th></th>\n",
              "      <th>t-SNE 1</th>\n",
              "      <th>t-SNE 2</th>\n",
              "      <th>fault</th>\n",
              "    </tr>\n",
              "  </thead>\n",
              "  <tbody>\n",
              "    <tr>\n",
              "      <th>0</th>\n",
              "      <td>-3.433824</td>\n",
              "      <td>19.954775</td>\n",
              "      <td>111</td>\n",
              "    </tr>\n",
              "    <tr>\n",
              "      <th>1</th>\n",
              "      <td>6.116961</td>\n",
              "      <td>7.854236</td>\n",
              "      <td>111</td>\n",
              "    </tr>\n",
              "    <tr>\n",
              "      <th>2</th>\n",
              "      <td>-6.421768</td>\n",
              "      <td>24.169874</td>\n",
              "      <td>111</td>\n",
              "    </tr>\n",
              "    <tr>\n",
              "      <th>3</th>\n",
              "      <td>-9.905504</td>\n",
              "      <td>21.922029</td>\n",
              "      <td>111</td>\n",
              "    </tr>\n",
              "    <tr>\n",
              "      <th>4</th>\n",
              "      <td>-8.095685</td>\n",
              "      <td>31.121874</td>\n",
              "      <td>111</td>\n",
              "    </tr>\n",
              "    <tr>\n",
              "      <th>...</th>\n",
              "      <td>...</td>\n",
              "      <td>...</td>\n",
              "      <td>...</td>\n",
              "    </tr>\n",
              "    <tr>\n",
              "      <th>1565</th>\n",
              "      <td>-33.388966</td>\n",
              "      <td>15.770740</td>\n",
              "      <td>240</td>\n",
              "    </tr>\n",
              "    <tr>\n",
              "      <th>1566</th>\n",
              "      <td>-37.854988</td>\n",
              "      <td>8.523334</td>\n",
              "      <td>240</td>\n",
              "    </tr>\n",
              "    <tr>\n",
              "      <th>1567</th>\n",
              "      <td>-31.204195</td>\n",
              "      <td>10.999398</td>\n",
              "      <td>240</td>\n",
              "    </tr>\n",
              "    <tr>\n",
              "      <th>1568</th>\n",
              "      <td>-36.115154</td>\n",
              "      <td>18.974964</td>\n",
              "      <td>240</td>\n",
              "    </tr>\n",
              "    <tr>\n",
              "      <th>1569</th>\n",
              "      <td>-36.740067</td>\n",
              "      <td>19.218025</td>\n",
              "      <td>240</td>\n",
              "    </tr>\n",
              "  </tbody>\n",
              "</table>\n",
              "<p>1570 rows × 3 columns</p>\n",
              "</div>\n",
              "    <div class=\"colab-df-buttons\">\n",
              "\n",
              "  <div class=\"colab-df-container\">\n",
              "    <button class=\"colab-df-convert\" onclick=\"convertToInteractive('df-b437472e-ec6b-43e3-94e3-af7a7364a51a')\"\n",
              "            title=\"Convert this dataframe to an interactive table.\"\n",
              "            style=\"display:none;\">\n",
              "\n",
              "  <svg xmlns=\"http://www.w3.org/2000/svg\" height=\"24px\" viewBox=\"0 -960 960 960\">\n",
              "    <path d=\"M120-120v-720h720v720H120Zm60-500h600v-160H180v160Zm220 220h160v-160H400v160Zm0 220h160v-160H400v160ZM180-400h160v-160H180v160Zm440 0h160v-160H620v160ZM180-180h160v-160H180v160Zm440 0h160v-160H620v160Z\"/>\n",
              "  </svg>\n",
              "    </button>\n",
              "\n",
              "  <style>\n",
              "    .colab-df-container {\n",
              "      display:flex;\n",
              "      gap: 12px;\n",
              "    }\n",
              "\n",
              "    .colab-df-convert {\n",
              "      background-color: #E8F0FE;\n",
              "      border: none;\n",
              "      border-radius: 50%;\n",
              "      cursor: pointer;\n",
              "      display: none;\n",
              "      fill: #1967D2;\n",
              "      height: 32px;\n",
              "      padding: 0 0 0 0;\n",
              "      width: 32px;\n",
              "    }\n",
              "\n",
              "    .colab-df-convert:hover {\n",
              "      background-color: #E2EBFA;\n",
              "      box-shadow: 0px 1px 2px rgba(60, 64, 67, 0.3), 0px 1px 3px 1px rgba(60, 64, 67, 0.15);\n",
              "      fill: #174EA6;\n",
              "    }\n",
              "\n",
              "    .colab-df-buttons div {\n",
              "      margin-bottom: 4px;\n",
              "    }\n",
              "\n",
              "    [theme=dark] .colab-df-convert {\n",
              "      background-color: #3B4455;\n",
              "      fill: #D2E3FC;\n",
              "    }\n",
              "\n",
              "    [theme=dark] .colab-df-convert:hover {\n",
              "      background-color: #434B5C;\n",
              "      box-shadow: 0px 1px 3px 1px rgba(0, 0, 0, 0.15);\n",
              "      filter: drop-shadow(0px 1px 2px rgba(0, 0, 0, 0.3));\n",
              "      fill: #FFFFFF;\n",
              "    }\n",
              "  </style>\n",
              "\n",
              "    <script>\n",
              "      const buttonEl =\n",
              "        document.querySelector('#df-b437472e-ec6b-43e3-94e3-af7a7364a51a button.colab-df-convert');\n",
              "      buttonEl.style.display =\n",
              "        google.colab.kernel.accessAllowed ? 'block' : 'none';\n",
              "\n",
              "      async function convertToInteractive(key) {\n",
              "        const element = document.querySelector('#df-b437472e-ec6b-43e3-94e3-af7a7364a51a');\n",
              "        const dataTable =\n",
              "          await google.colab.kernel.invokeFunction('convertToInteractive',\n",
              "                                                    [key], {});\n",
              "        if (!dataTable) return;\n",
              "\n",
              "        const docLinkHtml = 'Like what you see? Visit the ' +\n",
              "          '<a target=\"_blank\" href=https://colab.research.google.com/notebooks/data_table.ipynb>data table notebook</a>'\n",
              "          + ' to learn more about interactive tables.';\n",
              "        element.innerHTML = '';\n",
              "        dataTable['output_type'] = 'display_data';\n",
              "        await google.colab.output.renderOutput(dataTable, element);\n",
              "        const docLink = document.createElement('div');\n",
              "        docLink.innerHTML = docLinkHtml;\n",
              "        element.appendChild(docLink);\n",
              "      }\n",
              "    </script>\n",
              "  </div>\n",
              "\n",
              "\n",
              "    <div id=\"df-18ab4954-d189-4f12-b0ef-c16f55c7d961\">\n",
              "      <button class=\"colab-df-quickchart\" onclick=\"quickchart('df-18ab4954-d189-4f12-b0ef-c16f55c7d961')\"\n",
              "                title=\"Suggest charts\"\n",
              "                style=\"display:none;\">\n",
              "\n",
              "<svg xmlns=\"http://www.w3.org/2000/svg\" height=\"24px\"viewBox=\"0 0 24 24\"\n",
              "     width=\"24px\">\n",
              "    <g>\n",
              "        <path d=\"M19 3H5c-1.1 0-2 .9-2 2v14c0 1.1.9 2 2 2h14c1.1 0 2-.9 2-2V5c0-1.1-.9-2-2-2zM9 17H7v-7h2v7zm4 0h-2V7h2v10zm4 0h-2v-4h2v4z\"/>\n",
              "    </g>\n",
              "</svg>\n",
              "      </button>\n",
              "\n",
              "<style>\n",
              "  .colab-df-quickchart {\n",
              "      --bg-color: #E8F0FE;\n",
              "      --fill-color: #1967D2;\n",
              "      --hover-bg-color: #E2EBFA;\n",
              "      --hover-fill-color: #174EA6;\n",
              "      --disabled-fill-color: #AAA;\n",
              "      --disabled-bg-color: #DDD;\n",
              "  }\n",
              "\n",
              "  [theme=dark] .colab-df-quickchart {\n",
              "      --bg-color: #3B4455;\n",
              "      --fill-color: #D2E3FC;\n",
              "      --hover-bg-color: #434B5C;\n",
              "      --hover-fill-color: #FFFFFF;\n",
              "      --disabled-bg-color: #3B4455;\n",
              "      --disabled-fill-color: #666;\n",
              "  }\n",
              "\n",
              "  .colab-df-quickchart {\n",
              "    background-color: var(--bg-color);\n",
              "    border: none;\n",
              "    border-radius: 50%;\n",
              "    cursor: pointer;\n",
              "    display: none;\n",
              "    fill: var(--fill-color);\n",
              "    height: 32px;\n",
              "    padding: 0;\n",
              "    width: 32px;\n",
              "  }\n",
              "\n",
              "  .colab-df-quickchart:hover {\n",
              "    background-color: var(--hover-bg-color);\n",
              "    box-shadow: 0 1px 2px rgba(60, 64, 67, 0.3), 0 1px 3px 1px rgba(60, 64, 67, 0.15);\n",
              "    fill: var(--button-hover-fill-color);\n",
              "  }\n",
              "\n",
              "  .colab-df-quickchart-complete:disabled,\n",
              "  .colab-df-quickchart-complete:disabled:hover {\n",
              "    background-color: var(--disabled-bg-color);\n",
              "    fill: var(--disabled-fill-color);\n",
              "    box-shadow: none;\n",
              "  }\n",
              "\n",
              "  .colab-df-spinner {\n",
              "    border: 2px solid var(--fill-color);\n",
              "    border-color: transparent;\n",
              "    border-bottom-color: var(--fill-color);\n",
              "    animation:\n",
              "      spin 1s steps(1) infinite;\n",
              "  }\n",
              "\n",
              "  @keyframes spin {\n",
              "    0% {\n",
              "      border-color: transparent;\n",
              "      border-bottom-color: var(--fill-color);\n",
              "      border-left-color: var(--fill-color);\n",
              "    }\n",
              "    20% {\n",
              "      border-color: transparent;\n",
              "      border-left-color: var(--fill-color);\n",
              "      border-top-color: var(--fill-color);\n",
              "    }\n",
              "    30% {\n",
              "      border-color: transparent;\n",
              "      border-left-color: var(--fill-color);\n",
              "      border-top-color: var(--fill-color);\n",
              "      border-right-color: var(--fill-color);\n",
              "    }\n",
              "    40% {\n",
              "      border-color: transparent;\n",
              "      border-right-color: var(--fill-color);\n",
              "      border-top-color: var(--fill-color);\n",
              "    }\n",
              "    60% {\n",
              "      border-color: transparent;\n",
              "      border-right-color: var(--fill-color);\n",
              "    }\n",
              "    80% {\n",
              "      border-color: transparent;\n",
              "      border-right-color: var(--fill-color);\n",
              "      border-bottom-color: var(--fill-color);\n",
              "    }\n",
              "    90% {\n",
              "      border-color: transparent;\n",
              "      border-bottom-color: var(--fill-color);\n",
              "    }\n",
              "  }\n",
              "</style>\n",
              "\n",
              "      <script>\n",
              "        async function quickchart(key) {\n",
              "          const quickchartButtonEl =\n",
              "            document.querySelector('#' + key + ' button');\n",
              "          quickchartButtonEl.disabled = true;  // To prevent multiple clicks.\n",
              "          quickchartButtonEl.classList.add('colab-df-spinner');\n",
              "          try {\n",
              "            const charts = await google.colab.kernel.invokeFunction(\n",
              "                'suggestCharts', [key], {});\n",
              "          } catch (error) {\n",
              "            console.error('Error during call to suggestCharts:', error);\n",
              "          }\n",
              "          quickchartButtonEl.classList.remove('colab-df-spinner');\n",
              "          quickchartButtonEl.classList.add('colab-df-quickchart-complete');\n",
              "        }\n",
              "        (() => {\n",
              "          let quickchartButtonEl =\n",
              "            document.querySelector('#df-18ab4954-d189-4f12-b0ef-c16f55c7d961 button');\n",
              "          quickchartButtonEl.style.display =\n",
              "            google.colab.kernel.accessAllowed ? 'block' : 'none';\n",
              "        })();\n",
              "      </script>\n",
              "    </div>\n",
              "\n",
              "  <div id=\"id_d1961473-347e-4f55-8435-44ca0d64f3cb\">\n",
              "    <style>\n",
              "      .colab-df-generate {\n",
              "        background-color: #E8F0FE;\n",
              "        border: none;\n",
              "        border-radius: 50%;\n",
              "        cursor: pointer;\n",
              "        display: none;\n",
              "        fill: #1967D2;\n",
              "        height: 32px;\n",
              "        padding: 0 0 0 0;\n",
              "        width: 32px;\n",
              "      }\n",
              "\n",
              "      .colab-df-generate:hover {\n",
              "        background-color: #E2EBFA;\n",
              "        box-shadow: 0px 1px 2px rgba(60, 64, 67, 0.3), 0px 1px 3px 1px rgba(60, 64, 67, 0.15);\n",
              "        fill: #174EA6;\n",
              "      }\n",
              "\n",
              "      [theme=dark] .colab-df-generate {\n",
              "        background-color: #3B4455;\n",
              "        fill: #D2E3FC;\n",
              "      }\n",
              "\n",
              "      [theme=dark] .colab-df-generate:hover {\n",
              "        background-color: #434B5C;\n",
              "        box-shadow: 0px 1px 3px 1px rgba(0, 0, 0, 0.15);\n",
              "        filter: drop-shadow(0px 1px 2px rgba(0, 0, 0, 0.3));\n",
              "        fill: #FFFFFF;\n",
              "      }\n",
              "    </style>\n",
              "    <button class=\"colab-df-generate\" onclick=\"generateWithVariable('tSNE_representation')\"\n",
              "            title=\"Generate code using this dataframe.\"\n",
              "            style=\"display:none;\">\n",
              "\n",
              "  <svg xmlns=\"http://www.w3.org/2000/svg\" height=\"24px\"viewBox=\"0 0 24 24\"\n",
              "       width=\"24px\">\n",
              "    <path d=\"M7,19H8.4L18.45,9,17,7.55,7,17.6ZM5,21V16.75L18.45,3.32a2,2,0,0,1,2.83,0l1.4,1.43a1.91,1.91,0,0,1,.58,1.4,1.91,1.91,0,0,1-.58,1.4L9.25,21ZM18.45,9,17,7.55Zm-12,3A5.31,5.31,0,0,0,4.9,8.1,5.31,5.31,0,0,0,1,6.5,5.31,5.31,0,0,0,4.9,4.9,5.31,5.31,0,0,0,6.5,1,5.31,5.31,0,0,0,8.1,4.9,5.31,5.31,0,0,0,12,6.5,5.46,5.46,0,0,0,6.5,12Z\"/>\n",
              "  </svg>\n",
              "    </button>\n",
              "    <script>\n",
              "      (() => {\n",
              "      const buttonEl =\n",
              "        document.querySelector('#id_d1961473-347e-4f55-8435-44ca0d64f3cb button.colab-df-generate');\n",
              "      buttonEl.style.display =\n",
              "        google.colab.kernel.accessAllowed ? 'block' : 'none';\n",
              "\n",
              "      buttonEl.onclick = () => {\n",
              "        google.colab.notebook.generateWithVariable('tSNE_representation');\n",
              "      }\n",
              "      })();\n",
              "    </script>\n",
              "  </div>\n",
              "\n",
              "    </div>\n",
              "  </div>\n"
            ],
            "application/vnd.google.colaboratory.intrinsic+json": {
              "type": "dataframe",
              "variable_name": "tSNE_representation",
              "summary": "{\n  \"name\": \"tSNE_representation\",\n  \"rows\": 1570,\n  \"fields\": [\n    {\n      \"column\": \"t-SNE 1\",\n      \"properties\": {\n        \"dtype\": \"float32\",\n        \"num_unique_values\": 1567,\n        \"samples\": [\n          -10.936380386352539,\n          6.646214962005615,\n          4.27751350402832\n        ],\n        \"semantic_type\": \"\",\n        \"description\": \"\"\n      }\n    },\n    {\n      \"column\": \"t-SNE 2\",\n      \"properties\": {\n        \"dtype\": \"float32\",\n        \"num_unique_values\": 1568,\n        \"samples\": [\n          8.868155479431152,\n          -1.263444423675537,\n          -20.525964736938477\n        ],\n        \"semantic_type\": \"\",\n        \"description\": \"\"\n      }\n    },\n    {\n      \"column\": \"fault\",\n      \"properties\": {\n        \"dtype\": \"number\",\n        \"std\": 44,\n        \"min\": 111,\n        \"max\": 240,\n        \"num_unique_values\": 9,\n        \"samples\": [\n          228,\n          124,\n          203\n        ],\n        \"semantic_type\": \"\",\n        \"description\": \"\"\n      }\n    }\n  ]\n}"
            }
          },
          "metadata": {},
          "execution_count": 63
        }
      ]
    },
    {
      "cell_type": "code",
      "source": [
        "tSNE_representation=tSNE_representation.drop(columns=['fault'])\n",
        "tSNE_representation"
      ],
      "metadata": {
        "id": "Pybzwduy8nhv",
        "colab": {
          "base_uri": "https://localhost:8080/",
          "height": 423
        },
        "outputId": "c7b2ed14-0499-45c0-ea00-efc51912a2ab"
      },
      "id": "Pybzwduy8nhv",
      "execution_count": null,
      "outputs": [
        {
          "output_type": "execute_result",
          "data": {
            "text/plain": [
              "        t-SNE 1    t-SNE 2\n",
              "0     -3.433824  19.954775\n",
              "1      6.116961   7.854236\n",
              "2     -6.421768  24.169874\n",
              "3     -9.905504  21.922029\n",
              "4     -8.095685  31.121874\n",
              "...         ...        ...\n",
              "1565 -33.388966  15.770740\n",
              "1566 -37.854988   8.523334\n",
              "1567 -31.204195  10.999398\n",
              "1568 -36.115154  18.974964\n",
              "1569 -36.740067  19.218025\n",
              "\n",
              "[1570 rows x 2 columns]"
            ],
            "text/html": [
              "\n",
              "  <div id=\"df-f0000fb3-5b95-4888-8edd-cbbc3c716911\" class=\"colab-df-container\">\n",
              "    <div>\n",
              "<style scoped>\n",
              "    .dataframe tbody tr th:only-of-type {\n",
              "        vertical-align: middle;\n",
              "    }\n",
              "\n",
              "    .dataframe tbody tr th {\n",
              "        vertical-align: top;\n",
              "    }\n",
              "\n",
              "    .dataframe thead th {\n",
              "        text-align: right;\n",
              "    }\n",
              "</style>\n",
              "<table border=\"1\" class=\"dataframe\">\n",
              "  <thead>\n",
              "    <tr style=\"text-align: right;\">\n",
              "      <th></th>\n",
              "      <th>t-SNE 1</th>\n",
              "      <th>t-SNE 2</th>\n",
              "    </tr>\n",
              "  </thead>\n",
              "  <tbody>\n",
              "    <tr>\n",
              "      <th>0</th>\n",
              "      <td>-3.433824</td>\n",
              "      <td>19.954775</td>\n",
              "    </tr>\n",
              "    <tr>\n",
              "      <th>1</th>\n",
              "      <td>6.116961</td>\n",
              "      <td>7.854236</td>\n",
              "    </tr>\n",
              "    <tr>\n",
              "      <th>2</th>\n",
              "      <td>-6.421768</td>\n",
              "      <td>24.169874</td>\n",
              "    </tr>\n",
              "    <tr>\n",
              "      <th>3</th>\n",
              "      <td>-9.905504</td>\n",
              "      <td>21.922029</td>\n",
              "    </tr>\n",
              "    <tr>\n",
              "      <th>4</th>\n",
              "      <td>-8.095685</td>\n",
              "      <td>31.121874</td>\n",
              "    </tr>\n",
              "    <tr>\n",
              "      <th>...</th>\n",
              "      <td>...</td>\n",
              "      <td>...</td>\n",
              "    </tr>\n",
              "    <tr>\n",
              "      <th>1565</th>\n",
              "      <td>-33.388966</td>\n",
              "      <td>15.770740</td>\n",
              "    </tr>\n",
              "    <tr>\n",
              "      <th>1566</th>\n",
              "      <td>-37.854988</td>\n",
              "      <td>8.523334</td>\n",
              "    </tr>\n",
              "    <tr>\n",
              "      <th>1567</th>\n",
              "      <td>-31.204195</td>\n",
              "      <td>10.999398</td>\n",
              "    </tr>\n",
              "    <tr>\n",
              "      <th>1568</th>\n",
              "      <td>-36.115154</td>\n",
              "      <td>18.974964</td>\n",
              "    </tr>\n",
              "    <tr>\n",
              "      <th>1569</th>\n",
              "      <td>-36.740067</td>\n",
              "      <td>19.218025</td>\n",
              "    </tr>\n",
              "  </tbody>\n",
              "</table>\n",
              "<p>1570 rows × 2 columns</p>\n",
              "</div>\n",
              "    <div class=\"colab-df-buttons\">\n",
              "\n",
              "  <div class=\"colab-df-container\">\n",
              "    <button class=\"colab-df-convert\" onclick=\"convertToInteractive('df-f0000fb3-5b95-4888-8edd-cbbc3c716911')\"\n",
              "            title=\"Convert this dataframe to an interactive table.\"\n",
              "            style=\"display:none;\">\n",
              "\n",
              "  <svg xmlns=\"http://www.w3.org/2000/svg\" height=\"24px\" viewBox=\"0 -960 960 960\">\n",
              "    <path d=\"M120-120v-720h720v720H120Zm60-500h600v-160H180v160Zm220 220h160v-160H400v160Zm0 220h160v-160H400v160ZM180-400h160v-160H180v160Zm440 0h160v-160H620v160ZM180-180h160v-160H180v160Zm440 0h160v-160H620v160Z\"/>\n",
              "  </svg>\n",
              "    </button>\n",
              "\n",
              "  <style>\n",
              "    .colab-df-container {\n",
              "      display:flex;\n",
              "      gap: 12px;\n",
              "    }\n",
              "\n",
              "    .colab-df-convert {\n",
              "      background-color: #E8F0FE;\n",
              "      border: none;\n",
              "      border-radius: 50%;\n",
              "      cursor: pointer;\n",
              "      display: none;\n",
              "      fill: #1967D2;\n",
              "      height: 32px;\n",
              "      padding: 0 0 0 0;\n",
              "      width: 32px;\n",
              "    }\n",
              "\n",
              "    .colab-df-convert:hover {\n",
              "      background-color: #E2EBFA;\n",
              "      box-shadow: 0px 1px 2px rgba(60, 64, 67, 0.3), 0px 1px 3px 1px rgba(60, 64, 67, 0.15);\n",
              "      fill: #174EA6;\n",
              "    }\n",
              "\n",
              "    .colab-df-buttons div {\n",
              "      margin-bottom: 4px;\n",
              "    }\n",
              "\n",
              "    [theme=dark] .colab-df-convert {\n",
              "      background-color: #3B4455;\n",
              "      fill: #D2E3FC;\n",
              "    }\n",
              "\n",
              "    [theme=dark] .colab-df-convert:hover {\n",
              "      background-color: #434B5C;\n",
              "      box-shadow: 0px 1px 3px 1px rgba(0, 0, 0, 0.15);\n",
              "      filter: drop-shadow(0px 1px 2px rgba(0, 0, 0, 0.3));\n",
              "      fill: #FFFFFF;\n",
              "    }\n",
              "  </style>\n",
              "\n",
              "    <script>\n",
              "      const buttonEl =\n",
              "        document.querySelector('#df-f0000fb3-5b95-4888-8edd-cbbc3c716911 button.colab-df-convert');\n",
              "      buttonEl.style.display =\n",
              "        google.colab.kernel.accessAllowed ? 'block' : 'none';\n",
              "\n",
              "      async function convertToInteractive(key) {\n",
              "        const element = document.querySelector('#df-f0000fb3-5b95-4888-8edd-cbbc3c716911');\n",
              "        const dataTable =\n",
              "          await google.colab.kernel.invokeFunction('convertToInteractive',\n",
              "                                                    [key], {});\n",
              "        if (!dataTable) return;\n",
              "\n",
              "        const docLinkHtml = 'Like what you see? Visit the ' +\n",
              "          '<a target=\"_blank\" href=https://colab.research.google.com/notebooks/data_table.ipynb>data table notebook</a>'\n",
              "          + ' to learn more about interactive tables.';\n",
              "        element.innerHTML = '';\n",
              "        dataTable['output_type'] = 'display_data';\n",
              "        await google.colab.output.renderOutput(dataTable, element);\n",
              "        const docLink = document.createElement('div');\n",
              "        docLink.innerHTML = docLinkHtml;\n",
              "        element.appendChild(docLink);\n",
              "      }\n",
              "    </script>\n",
              "  </div>\n",
              "\n",
              "\n",
              "    <div id=\"df-bd3dffcd-7052-460c-a82c-7d998dd0a9e6\">\n",
              "      <button class=\"colab-df-quickchart\" onclick=\"quickchart('df-bd3dffcd-7052-460c-a82c-7d998dd0a9e6')\"\n",
              "                title=\"Suggest charts\"\n",
              "                style=\"display:none;\">\n",
              "\n",
              "<svg xmlns=\"http://www.w3.org/2000/svg\" height=\"24px\"viewBox=\"0 0 24 24\"\n",
              "     width=\"24px\">\n",
              "    <g>\n",
              "        <path d=\"M19 3H5c-1.1 0-2 .9-2 2v14c0 1.1.9 2 2 2h14c1.1 0 2-.9 2-2V5c0-1.1-.9-2-2-2zM9 17H7v-7h2v7zm4 0h-2V7h2v10zm4 0h-2v-4h2v4z\"/>\n",
              "    </g>\n",
              "</svg>\n",
              "      </button>\n",
              "\n",
              "<style>\n",
              "  .colab-df-quickchart {\n",
              "      --bg-color: #E8F0FE;\n",
              "      --fill-color: #1967D2;\n",
              "      --hover-bg-color: #E2EBFA;\n",
              "      --hover-fill-color: #174EA6;\n",
              "      --disabled-fill-color: #AAA;\n",
              "      --disabled-bg-color: #DDD;\n",
              "  }\n",
              "\n",
              "  [theme=dark] .colab-df-quickchart {\n",
              "      --bg-color: #3B4455;\n",
              "      --fill-color: #D2E3FC;\n",
              "      --hover-bg-color: #434B5C;\n",
              "      --hover-fill-color: #FFFFFF;\n",
              "      --disabled-bg-color: #3B4455;\n",
              "      --disabled-fill-color: #666;\n",
              "  }\n",
              "\n",
              "  .colab-df-quickchart {\n",
              "    background-color: var(--bg-color);\n",
              "    border: none;\n",
              "    border-radius: 50%;\n",
              "    cursor: pointer;\n",
              "    display: none;\n",
              "    fill: var(--fill-color);\n",
              "    height: 32px;\n",
              "    padding: 0;\n",
              "    width: 32px;\n",
              "  }\n",
              "\n",
              "  .colab-df-quickchart:hover {\n",
              "    background-color: var(--hover-bg-color);\n",
              "    box-shadow: 0 1px 2px rgba(60, 64, 67, 0.3), 0 1px 3px 1px rgba(60, 64, 67, 0.15);\n",
              "    fill: var(--button-hover-fill-color);\n",
              "  }\n",
              "\n",
              "  .colab-df-quickchart-complete:disabled,\n",
              "  .colab-df-quickchart-complete:disabled:hover {\n",
              "    background-color: var(--disabled-bg-color);\n",
              "    fill: var(--disabled-fill-color);\n",
              "    box-shadow: none;\n",
              "  }\n",
              "\n",
              "  .colab-df-spinner {\n",
              "    border: 2px solid var(--fill-color);\n",
              "    border-color: transparent;\n",
              "    border-bottom-color: var(--fill-color);\n",
              "    animation:\n",
              "      spin 1s steps(1) infinite;\n",
              "  }\n",
              "\n",
              "  @keyframes spin {\n",
              "    0% {\n",
              "      border-color: transparent;\n",
              "      border-bottom-color: var(--fill-color);\n",
              "      border-left-color: var(--fill-color);\n",
              "    }\n",
              "    20% {\n",
              "      border-color: transparent;\n",
              "      border-left-color: var(--fill-color);\n",
              "      border-top-color: var(--fill-color);\n",
              "    }\n",
              "    30% {\n",
              "      border-color: transparent;\n",
              "      border-left-color: var(--fill-color);\n",
              "      border-top-color: var(--fill-color);\n",
              "      border-right-color: var(--fill-color);\n",
              "    }\n",
              "    40% {\n",
              "      border-color: transparent;\n",
              "      border-right-color: var(--fill-color);\n",
              "      border-top-color: var(--fill-color);\n",
              "    }\n",
              "    60% {\n",
              "      border-color: transparent;\n",
              "      border-right-color: var(--fill-color);\n",
              "    }\n",
              "    80% {\n",
              "      border-color: transparent;\n",
              "      border-right-color: var(--fill-color);\n",
              "      border-bottom-color: var(--fill-color);\n",
              "    }\n",
              "    90% {\n",
              "      border-color: transparent;\n",
              "      border-bottom-color: var(--fill-color);\n",
              "    }\n",
              "  }\n",
              "</style>\n",
              "\n",
              "      <script>\n",
              "        async function quickchart(key) {\n",
              "          const quickchartButtonEl =\n",
              "            document.querySelector('#' + key + ' button');\n",
              "          quickchartButtonEl.disabled = true;  // To prevent multiple clicks.\n",
              "          quickchartButtonEl.classList.add('colab-df-spinner');\n",
              "          try {\n",
              "            const charts = await google.colab.kernel.invokeFunction(\n",
              "                'suggestCharts', [key], {});\n",
              "          } catch (error) {\n",
              "            console.error('Error during call to suggestCharts:', error);\n",
              "          }\n",
              "          quickchartButtonEl.classList.remove('colab-df-spinner');\n",
              "          quickchartButtonEl.classList.add('colab-df-quickchart-complete');\n",
              "        }\n",
              "        (() => {\n",
              "          let quickchartButtonEl =\n",
              "            document.querySelector('#df-bd3dffcd-7052-460c-a82c-7d998dd0a9e6 button');\n",
              "          quickchartButtonEl.style.display =\n",
              "            google.colab.kernel.accessAllowed ? 'block' : 'none';\n",
              "        })();\n",
              "      </script>\n",
              "    </div>\n",
              "\n",
              "  <div id=\"id_381d5abc-363a-455e-abd7-c99086ecd2d9\">\n",
              "    <style>\n",
              "      .colab-df-generate {\n",
              "        background-color: #E8F0FE;\n",
              "        border: none;\n",
              "        border-radius: 50%;\n",
              "        cursor: pointer;\n",
              "        display: none;\n",
              "        fill: #1967D2;\n",
              "        height: 32px;\n",
              "        padding: 0 0 0 0;\n",
              "        width: 32px;\n",
              "      }\n",
              "\n",
              "      .colab-df-generate:hover {\n",
              "        background-color: #E2EBFA;\n",
              "        box-shadow: 0px 1px 2px rgba(60, 64, 67, 0.3), 0px 1px 3px 1px rgba(60, 64, 67, 0.15);\n",
              "        fill: #174EA6;\n",
              "      }\n",
              "\n",
              "      [theme=dark] .colab-df-generate {\n",
              "        background-color: #3B4455;\n",
              "        fill: #D2E3FC;\n",
              "      }\n",
              "\n",
              "      [theme=dark] .colab-df-generate:hover {\n",
              "        background-color: #434B5C;\n",
              "        box-shadow: 0px 1px 3px 1px rgba(0, 0, 0, 0.15);\n",
              "        filter: drop-shadow(0px 1px 2px rgba(0, 0, 0, 0.3));\n",
              "        fill: #FFFFFF;\n",
              "      }\n",
              "    </style>\n",
              "    <button class=\"colab-df-generate\" onclick=\"generateWithVariable('tSNE_representation')\"\n",
              "            title=\"Generate code using this dataframe.\"\n",
              "            style=\"display:none;\">\n",
              "\n",
              "  <svg xmlns=\"http://www.w3.org/2000/svg\" height=\"24px\"viewBox=\"0 0 24 24\"\n",
              "       width=\"24px\">\n",
              "    <path d=\"M7,19H8.4L18.45,9,17,7.55,7,17.6ZM5,21V16.75L18.45,3.32a2,2,0,0,1,2.83,0l1.4,1.43a1.91,1.91,0,0,1,.58,1.4,1.91,1.91,0,0,1-.58,1.4L9.25,21ZM18.45,9,17,7.55Zm-12,3A5.31,5.31,0,0,0,4.9,8.1,5.31,5.31,0,0,0,1,6.5,5.31,5.31,0,0,0,4.9,4.9,5.31,5.31,0,0,0,6.5,1,5.31,5.31,0,0,0,8.1,4.9,5.31,5.31,0,0,0,12,6.5,5.46,5.46,0,0,0,6.5,12Z\"/>\n",
              "  </svg>\n",
              "    </button>\n",
              "    <script>\n",
              "      (() => {\n",
              "      const buttonEl =\n",
              "        document.querySelector('#id_381d5abc-363a-455e-abd7-c99086ecd2d9 button.colab-df-generate');\n",
              "      buttonEl.style.display =\n",
              "        google.colab.kernel.accessAllowed ? 'block' : 'none';\n",
              "\n",
              "      buttonEl.onclick = () => {\n",
              "        google.colab.notebook.generateWithVariable('tSNE_representation');\n",
              "      }\n",
              "      })();\n",
              "    </script>\n",
              "  </div>\n",
              "\n",
              "    </div>\n",
              "  </div>\n"
            ],
            "application/vnd.google.colaboratory.intrinsic+json": {
              "type": "dataframe",
              "variable_name": "tSNE_representation",
              "summary": "{\n  \"name\": \"tSNE_representation\",\n  \"rows\": 1570,\n  \"fields\": [\n    {\n      \"column\": \"t-SNE 1\",\n      \"properties\": {\n        \"dtype\": \"float32\",\n        \"num_unique_values\": 1567,\n        \"samples\": [\n          -10.936380386352539,\n          6.646214962005615,\n          4.27751350402832\n        ],\n        \"semantic_type\": \"\",\n        \"description\": \"\"\n      }\n    },\n    {\n      \"column\": \"t-SNE 2\",\n      \"properties\": {\n        \"dtype\": \"float32\",\n        \"num_unique_values\": 1568,\n        \"samples\": [\n          8.868155479431152,\n          -1.263444423675537,\n          -20.525964736938477\n        ],\n        \"semantic_type\": \"\",\n        \"description\": \"\"\n      }\n    }\n  ]\n}"
            }
          },
          "metadata": {},
          "execution_count": 64
        }
      ]
    },
    {
      "cell_type": "code",
      "source": [
        "tSNEdf = tSNEdf.sort_values(by='Fault')"
      ],
      "metadata": {
        "id": "_TpCIloN904b"
      },
      "id": "_TpCIloN904b",
      "execution_count": null,
      "outputs": []
    },
    {
      "cell_type": "code",
      "source": [
        "tSNEdf"
      ],
      "metadata": {
        "id": "xq2JlAOp_N5V",
        "colab": {
          "base_uri": "https://localhost:8080/",
          "height": 423
        },
        "outputId": "eb8c5266-2be6-4bc0-d9fd-931b33cc4fd9"
      },
      "id": "xq2JlAOp_N5V",
      "execution_count": null,
      "outputs": [
        {
          "output_type": "execute_result",
          "data": {
            "text/plain": [
              "      T-SNE component 1  T-SNE component 2 Fault\n",
              "784            3.118428          -3.104147   111\n",
              "216            4.142101          -4.648962   111\n",
              "1024           4.395439          -8.275473   111\n",
              "1019           6.241796          -5.966452   111\n",
              "1009          -0.744115          -8.190135   111\n",
              "...                 ...                ...   ...\n",
              "1061          26.959719           4.479244   240\n",
              "1059          23.334417           7.316225   240\n",
              "1057          17.351004           6.247662   240\n",
              "1087          18.432064           8.177250   240\n",
              "1017          21.117290           2.774333   240\n",
              "\n",
              "[1570 rows x 3 columns]"
            ],
            "text/html": [
              "\n",
              "  <div id=\"df-1ac054b0-4e68-49dd-a8f4-f72b29706d98\" class=\"colab-df-container\">\n",
              "    <div>\n",
              "<style scoped>\n",
              "    .dataframe tbody tr th:only-of-type {\n",
              "        vertical-align: middle;\n",
              "    }\n",
              "\n",
              "    .dataframe tbody tr th {\n",
              "        vertical-align: top;\n",
              "    }\n",
              "\n",
              "    .dataframe thead th {\n",
              "        text-align: right;\n",
              "    }\n",
              "</style>\n",
              "<table border=\"1\" class=\"dataframe\">\n",
              "  <thead>\n",
              "    <tr style=\"text-align: right;\">\n",
              "      <th></th>\n",
              "      <th>T-SNE component 1</th>\n",
              "      <th>T-SNE component 2</th>\n",
              "      <th>Fault</th>\n",
              "    </tr>\n",
              "  </thead>\n",
              "  <tbody>\n",
              "    <tr>\n",
              "      <th>784</th>\n",
              "      <td>3.118428</td>\n",
              "      <td>-3.104147</td>\n",
              "      <td>111</td>\n",
              "    </tr>\n",
              "    <tr>\n",
              "      <th>216</th>\n",
              "      <td>4.142101</td>\n",
              "      <td>-4.648962</td>\n",
              "      <td>111</td>\n",
              "    </tr>\n",
              "    <tr>\n",
              "      <th>1024</th>\n",
              "      <td>4.395439</td>\n",
              "      <td>-8.275473</td>\n",
              "      <td>111</td>\n",
              "    </tr>\n",
              "    <tr>\n",
              "      <th>1019</th>\n",
              "      <td>6.241796</td>\n",
              "      <td>-5.966452</td>\n",
              "      <td>111</td>\n",
              "    </tr>\n",
              "    <tr>\n",
              "      <th>1009</th>\n",
              "      <td>-0.744115</td>\n",
              "      <td>-8.190135</td>\n",
              "      <td>111</td>\n",
              "    </tr>\n",
              "    <tr>\n",
              "      <th>...</th>\n",
              "      <td>...</td>\n",
              "      <td>...</td>\n",
              "      <td>...</td>\n",
              "    </tr>\n",
              "    <tr>\n",
              "      <th>1061</th>\n",
              "      <td>26.959719</td>\n",
              "      <td>4.479244</td>\n",
              "      <td>240</td>\n",
              "    </tr>\n",
              "    <tr>\n",
              "      <th>1059</th>\n",
              "      <td>23.334417</td>\n",
              "      <td>7.316225</td>\n",
              "      <td>240</td>\n",
              "    </tr>\n",
              "    <tr>\n",
              "      <th>1057</th>\n",
              "      <td>17.351004</td>\n",
              "      <td>6.247662</td>\n",
              "      <td>240</td>\n",
              "    </tr>\n",
              "    <tr>\n",
              "      <th>1087</th>\n",
              "      <td>18.432064</td>\n",
              "      <td>8.177250</td>\n",
              "      <td>240</td>\n",
              "    </tr>\n",
              "    <tr>\n",
              "      <th>1017</th>\n",
              "      <td>21.117290</td>\n",
              "      <td>2.774333</td>\n",
              "      <td>240</td>\n",
              "    </tr>\n",
              "  </tbody>\n",
              "</table>\n",
              "<p>1570 rows × 3 columns</p>\n",
              "</div>\n",
              "    <div class=\"colab-df-buttons\">\n",
              "\n",
              "  <div class=\"colab-df-container\">\n",
              "    <button class=\"colab-df-convert\" onclick=\"convertToInteractive('df-1ac054b0-4e68-49dd-a8f4-f72b29706d98')\"\n",
              "            title=\"Convert this dataframe to an interactive table.\"\n",
              "            style=\"display:none;\">\n",
              "\n",
              "  <svg xmlns=\"http://www.w3.org/2000/svg\" height=\"24px\" viewBox=\"0 -960 960 960\">\n",
              "    <path d=\"M120-120v-720h720v720H120Zm60-500h600v-160H180v160Zm220 220h160v-160H400v160Zm0 220h160v-160H400v160ZM180-400h160v-160H180v160Zm440 0h160v-160H620v160ZM180-180h160v-160H180v160Zm440 0h160v-160H620v160Z\"/>\n",
              "  </svg>\n",
              "    </button>\n",
              "\n",
              "  <style>\n",
              "    .colab-df-container {\n",
              "      display:flex;\n",
              "      gap: 12px;\n",
              "    }\n",
              "\n",
              "    .colab-df-convert {\n",
              "      background-color: #E8F0FE;\n",
              "      border: none;\n",
              "      border-radius: 50%;\n",
              "      cursor: pointer;\n",
              "      display: none;\n",
              "      fill: #1967D2;\n",
              "      height: 32px;\n",
              "      padding: 0 0 0 0;\n",
              "      width: 32px;\n",
              "    }\n",
              "\n",
              "    .colab-df-convert:hover {\n",
              "      background-color: #E2EBFA;\n",
              "      box-shadow: 0px 1px 2px rgba(60, 64, 67, 0.3), 0px 1px 3px 1px rgba(60, 64, 67, 0.15);\n",
              "      fill: #174EA6;\n",
              "    }\n",
              "\n",
              "    .colab-df-buttons div {\n",
              "      margin-bottom: 4px;\n",
              "    }\n",
              "\n",
              "    [theme=dark] .colab-df-convert {\n",
              "      background-color: #3B4455;\n",
              "      fill: #D2E3FC;\n",
              "    }\n",
              "\n",
              "    [theme=dark] .colab-df-convert:hover {\n",
              "      background-color: #434B5C;\n",
              "      box-shadow: 0px 1px 3px 1px rgba(0, 0, 0, 0.15);\n",
              "      filter: drop-shadow(0px 1px 2px rgba(0, 0, 0, 0.3));\n",
              "      fill: #FFFFFF;\n",
              "    }\n",
              "  </style>\n",
              "\n",
              "    <script>\n",
              "      const buttonEl =\n",
              "        document.querySelector('#df-1ac054b0-4e68-49dd-a8f4-f72b29706d98 button.colab-df-convert');\n",
              "      buttonEl.style.display =\n",
              "        google.colab.kernel.accessAllowed ? 'block' : 'none';\n",
              "\n",
              "      async function convertToInteractive(key) {\n",
              "        const element = document.querySelector('#df-1ac054b0-4e68-49dd-a8f4-f72b29706d98');\n",
              "        const dataTable =\n",
              "          await google.colab.kernel.invokeFunction('convertToInteractive',\n",
              "                                                    [key], {});\n",
              "        if (!dataTable) return;\n",
              "\n",
              "        const docLinkHtml = 'Like what you see? Visit the ' +\n",
              "          '<a target=\"_blank\" href=https://colab.research.google.com/notebooks/data_table.ipynb>data table notebook</a>'\n",
              "          + ' to learn more about interactive tables.';\n",
              "        element.innerHTML = '';\n",
              "        dataTable['output_type'] = 'display_data';\n",
              "        await google.colab.output.renderOutput(dataTable, element);\n",
              "        const docLink = document.createElement('div');\n",
              "        docLink.innerHTML = docLinkHtml;\n",
              "        element.appendChild(docLink);\n",
              "      }\n",
              "    </script>\n",
              "  </div>\n",
              "\n",
              "\n",
              "    <div id=\"df-6ac6cfb1-80e9-4a52-83b2-3ba9dcb7eedf\">\n",
              "      <button class=\"colab-df-quickchart\" onclick=\"quickchart('df-6ac6cfb1-80e9-4a52-83b2-3ba9dcb7eedf')\"\n",
              "                title=\"Suggest charts\"\n",
              "                style=\"display:none;\">\n",
              "\n",
              "<svg xmlns=\"http://www.w3.org/2000/svg\" height=\"24px\"viewBox=\"0 0 24 24\"\n",
              "     width=\"24px\">\n",
              "    <g>\n",
              "        <path d=\"M19 3H5c-1.1 0-2 .9-2 2v14c0 1.1.9 2 2 2h14c1.1 0 2-.9 2-2V5c0-1.1-.9-2-2-2zM9 17H7v-7h2v7zm4 0h-2V7h2v10zm4 0h-2v-4h2v4z\"/>\n",
              "    </g>\n",
              "</svg>\n",
              "      </button>\n",
              "\n",
              "<style>\n",
              "  .colab-df-quickchart {\n",
              "      --bg-color: #E8F0FE;\n",
              "      --fill-color: #1967D2;\n",
              "      --hover-bg-color: #E2EBFA;\n",
              "      --hover-fill-color: #174EA6;\n",
              "      --disabled-fill-color: #AAA;\n",
              "      --disabled-bg-color: #DDD;\n",
              "  }\n",
              "\n",
              "  [theme=dark] .colab-df-quickchart {\n",
              "      --bg-color: #3B4455;\n",
              "      --fill-color: #D2E3FC;\n",
              "      --hover-bg-color: #434B5C;\n",
              "      --hover-fill-color: #FFFFFF;\n",
              "      --disabled-bg-color: #3B4455;\n",
              "      --disabled-fill-color: #666;\n",
              "  }\n",
              "\n",
              "  .colab-df-quickchart {\n",
              "    background-color: var(--bg-color);\n",
              "    border: none;\n",
              "    border-radius: 50%;\n",
              "    cursor: pointer;\n",
              "    display: none;\n",
              "    fill: var(--fill-color);\n",
              "    height: 32px;\n",
              "    padding: 0;\n",
              "    width: 32px;\n",
              "  }\n",
              "\n",
              "  .colab-df-quickchart:hover {\n",
              "    background-color: var(--hover-bg-color);\n",
              "    box-shadow: 0 1px 2px rgba(60, 64, 67, 0.3), 0 1px 3px 1px rgba(60, 64, 67, 0.15);\n",
              "    fill: var(--button-hover-fill-color);\n",
              "  }\n",
              "\n",
              "  .colab-df-quickchart-complete:disabled,\n",
              "  .colab-df-quickchart-complete:disabled:hover {\n",
              "    background-color: var(--disabled-bg-color);\n",
              "    fill: var(--disabled-fill-color);\n",
              "    box-shadow: none;\n",
              "  }\n",
              "\n",
              "  .colab-df-spinner {\n",
              "    border: 2px solid var(--fill-color);\n",
              "    border-color: transparent;\n",
              "    border-bottom-color: var(--fill-color);\n",
              "    animation:\n",
              "      spin 1s steps(1) infinite;\n",
              "  }\n",
              "\n",
              "  @keyframes spin {\n",
              "    0% {\n",
              "      border-color: transparent;\n",
              "      border-bottom-color: var(--fill-color);\n",
              "      border-left-color: var(--fill-color);\n",
              "    }\n",
              "    20% {\n",
              "      border-color: transparent;\n",
              "      border-left-color: var(--fill-color);\n",
              "      border-top-color: var(--fill-color);\n",
              "    }\n",
              "    30% {\n",
              "      border-color: transparent;\n",
              "      border-left-color: var(--fill-color);\n",
              "      border-top-color: var(--fill-color);\n",
              "      border-right-color: var(--fill-color);\n",
              "    }\n",
              "    40% {\n",
              "      border-color: transparent;\n",
              "      border-right-color: var(--fill-color);\n",
              "      border-top-color: var(--fill-color);\n",
              "    }\n",
              "    60% {\n",
              "      border-color: transparent;\n",
              "      border-right-color: var(--fill-color);\n",
              "    }\n",
              "    80% {\n",
              "      border-color: transparent;\n",
              "      border-right-color: var(--fill-color);\n",
              "      border-bottom-color: var(--fill-color);\n",
              "    }\n",
              "    90% {\n",
              "      border-color: transparent;\n",
              "      border-bottom-color: var(--fill-color);\n",
              "    }\n",
              "  }\n",
              "</style>\n",
              "\n",
              "      <script>\n",
              "        async function quickchart(key) {\n",
              "          const quickchartButtonEl =\n",
              "            document.querySelector('#' + key + ' button');\n",
              "          quickchartButtonEl.disabled = true;  // To prevent multiple clicks.\n",
              "          quickchartButtonEl.classList.add('colab-df-spinner');\n",
              "          try {\n",
              "            const charts = await google.colab.kernel.invokeFunction(\n",
              "                'suggestCharts', [key], {});\n",
              "          } catch (error) {\n",
              "            console.error('Error during call to suggestCharts:', error);\n",
              "          }\n",
              "          quickchartButtonEl.classList.remove('colab-df-spinner');\n",
              "          quickchartButtonEl.classList.add('colab-df-quickchart-complete');\n",
              "        }\n",
              "        (() => {\n",
              "          let quickchartButtonEl =\n",
              "            document.querySelector('#df-6ac6cfb1-80e9-4a52-83b2-3ba9dcb7eedf button');\n",
              "          quickchartButtonEl.style.display =\n",
              "            google.colab.kernel.accessAllowed ? 'block' : 'none';\n",
              "        })();\n",
              "      </script>\n",
              "    </div>\n",
              "\n",
              "  <div id=\"id_11546aca-eb41-4dd9-a9ad-38598bb104c1\">\n",
              "    <style>\n",
              "      .colab-df-generate {\n",
              "        background-color: #E8F0FE;\n",
              "        border: none;\n",
              "        border-radius: 50%;\n",
              "        cursor: pointer;\n",
              "        display: none;\n",
              "        fill: #1967D2;\n",
              "        height: 32px;\n",
              "        padding: 0 0 0 0;\n",
              "        width: 32px;\n",
              "      }\n",
              "\n",
              "      .colab-df-generate:hover {\n",
              "        background-color: #E2EBFA;\n",
              "        box-shadow: 0px 1px 2px rgba(60, 64, 67, 0.3), 0px 1px 3px 1px rgba(60, 64, 67, 0.15);\n",
              "        fill: #174EA6;\n",
              "      }\n",
              "\n",
              "      [theme=dark] .colab-df-generate {\n",
              "        background-color: #3B4455;\n",
              "        fill: #D2E3FC;\n",
              "      }\n",
              "\n",
              "      [theme=dark] .colab-df-generate:hover {\n",
              "        background-color: #434B5C;\n",
              "        box-shadow: 0px 1px 3px 1px rgba(0, 0, 0, 0.15);\n",
              "        filter: drop-shadow(0px 1px 2px rgba(0, 0, 0, 0.3));\n",
              "        fill: #FFFFFF;\n",
              "      }\n",
              "    </style>\n",
              "    <button class=\"colab-df-generate\" onclick=\"generateWithVariable('tSNEdf')\"\n",
              "            title=\"Generate code using this dataframe.\"\n",
              "            style=\"display:none;\">\n",
              "\n",
              "  <svg xmlns=\"http://www.w3.org/2000/svg\" height=\"24px\"viewBox=\"0 0 24 24\"\n",
              "       width=\"24px\">\n",
              "    <path d=\"M7,19H8.4L18.45,9,17,7.55,7,17.6ZM5,21V16.75L18.45,3.32a2,2,0,0,1,2.83,0l1.4,1.43a1.91,1.91,0,0,1,.58,1.4,1.91,1.91,0,0,1-.58,1.4L9.25,21ZM18.45,9,17,7.55Zm-12,3A5.31,5.31,0,0,0,4.9,8.1,5.31,5.31,0,0,0,1,6.5,5.31,5.31,0,0,0,4.9,4.9,5.31,5.31,0,0,0,6.5,1,5.31,5.31,0,0,0,8.1,4.9,5.31,5.31,0,0,0,12,6.5,5.46,5.46,0,0,0,6.5,12Z\"/>\n",
              "  </svg>\n",
              "    </button>\n",
              "    <script>\n",
              "      (() => {\n",
              "      const buttonEl =\n",
              "        document.querySelector('#id_11546aca-eb41-4dd9-a9ad-38598bb104c1 button.colab-df-generate');\n",
              "      buttonEl.style.display =\n",
              "        google.colab.kernel.accessAllowed ? 'block' : 'none';\n",
              "\n",
              "      buttonEl.onclick = () => {\n",
              "        google.colab.notebook.generateWithVariable('tSNEdf');\n",
              "      }\n",
              "      })();\n",
              "    </script>\n",
              "  </div>\n",
              "\n",
              "    </div>\n",
              "  </div>\n"
            ],
            "application/vnd.google.colaboratory.intrinsic+json": {
              "type": "dataframe",
              "variable_name": "tSNEdf",
              "summary": "{\n  \"name\": \"tSNEdf\",\n  \"rows\": 1570,\n  \"fields\": [\n    {\n      \"column\": \"T-SNE component 1\",\n      \"properties\": {\n        \"dtype\": \"float32\",\n        \"num_unique_values\": 1570,\n        \"samples\": [\n          19.0787353515625,\n          -14.574913024902344,\n          17.194297790527344\n        ],\n        \"semantic_type\": \"\",\n        \"description\": \"\"\n      }\n    },\n    {\n      \"column\": \"T-SNE component 2\",\n      \"properties\": {\n        \"dtype\": \"float32\",\n        \"num_unique_values\": 1570,\n        \"samples\": [\n          9.510616302490234,\n          -13.165268898010254,\n          -17.842266082763672\n        ],\n        \"semantic_type\": \"\",\n        \"description\": \"\"\n      }\n    },\n    {\n      \"column\": \"Fault\",\n      \"properties\": {\n        \"dtype\": \"category\",\n        \"num_unique_values\": 9,\n        \"samples\": [\n          \"228\",\n          \"124\",\n          \"203\"\n        ],\n        \"semantic_type\": \"\",\n        \"description\": \"\"\n      }\n    }\n  ]\n}"
            }
          },
          "metadata": {},
          "execution_count": 66
        }
      ]
    },
    {
      "cell_type": "markdown",
      "source": [
        "Combined Features"
      ],
      "metadata": {
        "id": "73T5xFDWQmML"
      },
      "id": "73T5xFDWQmML"
    },
    {
      "cell_type": "code",
      "source": [
        "# import pandas as pd\n",
        "\n",
        "# Assuming df1 and df2 are your two dataframes\n",
        "# Concatenate the dataframes vertically\n",
        "Motor_Fault_dataset = pd.concat([tSNE_representation, tSNEdf], axis=1)\n",
        "Motor_Fault_dataset=Motor_Fault_dataset.sort_values(by='Fault')\n",
        "Motor_Fault_dataset\n",
        "\n",
        "import pandas as pd\n",
        "from sklearn.preprocessing import StandardScaler\n",
        "\n",
        "# Assuming df1 and df2 are your two dataframes\n",
        "# Concatenate the dataframes vertically\n",
        "Motor_Fault_dataset = pd.concat([tSNE_representation, tSNEdf], axis=1)\n",
        "\n",
        "# Sort the dataset by 'Fault' column\n",
        "Motor_Fault_dataset = Motor_Fault_dataset.sort_values(by='Fault')\n",
        "Motor_Fault_dataset\n"
      ],
      "metadata": {
        "id": "sEmeYK5c8anK",
        "colab": {
          "base_uri": "https://localhost:8080/",
          "height": 423
        },
        "outputId": "bd54817f-850f-41b6-af68-0af6855b0d28"
      },
      "id": "sEmeYK5c8anK",
      "execution_count": null,
      "outputs": [
        {
          "output_type": "execute_result",
          "data": {
            "text/plain": [
              "        t-SNE 1    t-SNE 2  T-SNE component 1  T-SNE component 2 Fault\n",
              "784   24.217308  -0.516933           3.118428          -3.104147   111\n",
              "216   23.763636 -10.761976           4.142101          -4.648962   111\n",
              "1024  18.161718 -14.750249           4.395439          -8.275473   111\n",
              "1019  26.391571  -1.991595           6.241796          -5.966452   111\n",
              "1009  34.812130  22.351837          -0.744115          -8.190135   111\n",
              "...         ...        ...                ...                ...   ...\n",
              "1061   4.618931 -35.460854          26.959719           4.479244   240\n",
              "1059   5.822827 -38.421745          23.334417           7.316225   240\n",
              "1057 -11.395520 -38.586849          17.351004           6.247662   240\n",
              "1087   0.103903 -42.291443          18.432064           8.177250   240\n",
              "1017  44.521683  13.632273          21.117290           2.774333   240\n",
              "\n",
              "[1570 rows x 5 columns]"
            ],
            "text/html": [
              "\n",
              "  <div id=\"df-fd237232-121f-4b75-ade4-d83da035652a\" class=\"colab-df-container\">\n",
              "    <div>\n",
              "<style scoped>\n",
              "    .dataframe tbody tr th:only-of-type {\n",
              "        vertical-align: middle;\n",
              "    }\n",
              "\n",
              "    .dataframe tbody tr th {\n",
              "        vertical-align: top;\n",
              "    }\n",
              "\n",
              "    .dataframe thead th {\n",
              "        text-align: right;\n",
              "    }\n",
              "</style>\n",
              "<table border=\"1\" class=\"dataframe\">\n",
              "  <thead>\n",
              "    <tr style=\"text-align: right;\">\n",
              "      <th></th>\n",
              "      <th>t-SNE 1</th>\n",
              "      <th>t-SNE 2</th>\n",
              "      <th>T-SNE component 1</th>\n",
              "      <th>T-SNE component 2</th>\n",
              "      <th>Fault</th>\n",
              "    </tr>\n",
              "  </thead>\n",
              "  <tbody>\n",
              "    <tr>\n",
              "      <th>784</th>\n",
              "      <td>24.217308</td>\n",
              "      <td>-0.516933</td>\n",
              "      <td>3.118428</td>\n",
              "      <td>-3.104147</td>\n",
              "      <td>111</td>\n",
              "    </tr>\n",
              "    <tr>\n",
              "      <th>216</th>\n",
              "      <td>23.763636</td>\n",
              "      <td>-10.761976</td>\n",
              "      <td>4.142101</td>\n",
              "      <td>-4.648962</td>\n",
              "      <td>111</td>\n",
              "    </tr>\n",
              "    <tr>\n",
              "      <th>1024</th>\n",
              "      <td>18.161718</td>\n",
              "      <td>-14.750249</td>\n",
              "      <td>4.395439</td>\n",
              "      <td>-8.275473</td>\n",
              "      <td>111</td>\n",
              "    </tr>\n",
              "    <tr>\n",
              "      <th>1019</th>\n",
              "      <td>26.391571</td>\n",
              "      <td>-1.991595</td>\n",
              "      <td>6.241796</td>\n",
              "      <td>-5.966452</td>\n",
              "      <td>111</td>\n",
              "    </tr>\n",
              "    <tr>\n",
              "      <th>1009</th>\n",
              "      <td>34.812130</td>\n",
              "      <td>22.351837</td>\n",
              "      <td>-0.744115</td>\n",
              "      <td>-8.190135</td>\n",
              "      <td>111</td>\n",
              "    </tr>\n",
              "    <tr>\n",
              "      <th>...</th>\n",
              "      <td>...</td>\n",
              "      <td>...</td>\n",
              "      <td>...</td>\n",
              "      <td>...</td>\n",
              "      <td>...</td>\n",
              "    </tr>\n",
              "    <tr>\n",
              "      <th>1061</th>\n",
              "      <td>4.618931</td>\n",
              "      <td>-35.460854</td>\n",
              "      <td>26.959719</td>\n",
              "      <td>4.479244</td>\n",
              "      <td>240</td>\n",
              "    </tr>\n",
              "    <tr>\n",
              "      <th>1059</th>\n",
              "      <td>5.822827</td>\n",
              "      <td>-38.421745</td>\n",
              "      <td>23.334417</td>\n",
              "      <td>7.316225</td>\n",
              "      <td>240</td>\n",
              "    </tr>\n",
              "    <tr>\n",
              "      <th>1057</th>\n",
              "      <td>-11.395520</td>\n",
              "      <td>-38.586849</td>\n",
              "      <td>17.351004</td>\n",
              "      <td>6.247662</td>\n",
              "      <td>240</td>\n",
              "    </tr>\n",
              "    <tr>\n",
              "      <th>1087</th>\n",
              "      <td>0.103903</td>\n",
              "      <td>-42.291443</td>\n",
              "      <td>18.432064</td>\n",
              "      <td>8.177250</td>\n",
              "      <td>240</td>\n",
              "    </tr>\n",
              "    <tr>\n",
              "      <th>1017</th>\n",
              "      <td>44.521683</td>\n",
              "      <td>13.632273</td>\n",
              "      <td>21.117290</td>\n",
              "      <td>2.774333</td>\n",
              "      <td>240</td>\n",
              "    </tr>\n",
              "  </tbody>\n",
              "</table>\n",
              "<p>1570 rows × 5 columns</p>\n",
              "</div>\n",
              "    <div class=\"colab-df-buttons\">\n",
              "\n",
              "  <div class=\"colab-df-container\">\n",
              "    <button class=\"colab-df-convert\" onclick=\"convertToInteractive('df-fd237232-121f-4b75-ade4-d83da035652a')\"\n",
              "            title=\"Convert this dataframe to an interactive table.\"\n",
              "            style=\"display:none;\">\n",
              "\n",
              "  <svg xmlns=\"http://www.w3.org/2000/svg\" height=\"24px\" viewBox=\"0 -960 960 960\">\n",
              "    <path d=\"M120-120v-720h720v720H120Zm60-500h600v-160H180v160Zm220 220h160v-160H400v160Zm0 220h160v-160H400v160ZM180-400h160v-160H180v160Zm440 0h160v-160H620v160ZM180-180h160v-160H180v160Zm440 0h160v-160H620v160Z\"/>\n",
              "  </svg>\n",
              "    </button>\n",
              "\n",
              "  <style>\n",
              "    .colab-df-container {\n",
              "      display:flex;\n",
              "      gap: 12px;\n",
              "    }\n",
              "\n",
              "    .colab-df-convert {\n",
              "      background-color: #E8F0FE;\n",
              "      border: none;\n",
              "      border-radius: 50%;\n",
              "      cursor: pointer;\n",
              "      display: none;\n",
              "      fill: #1967D2;\n",
              "      height: 32px;\n",
              "      padding: 0 0 0 0;\n",
              "      width: 32px;\n",
              "    }\n",
              "\n",
              "    .colab-df-convert:hover {\n",
              "      background-color: #E2EBFA;\n",
              "      box-shadow: 0px 1px 2px rgba(60, 64, 67, 0.3), 0px 1px 3px 1px rgba(60, 64, 67, 0.15);\n",
              "      fill: #174EA6;\n",
              "    }\n",
              "\n",
              "    .colab-df-buttons div {\n",
              "      margin-bottom: 4px;\n",
              "    }\n",
              "\n",
              "    [theme=dark] .colab-df-convert {\n",
              "      background-color: #3B4455;\n",
              "      fill: #D2E3FC;\n",
              "    }\n",
              "\n",
              "    [theme=dark] .colab-df-convert:hover {\n",
              "      background-color: #434B5C;\n",
              "      box-shadow: 0px 1px 3px 1px rgba(0, 0, 0, 0.15);\n",
              "      filter: drop-shadow(0px 1px 2px rgba(0, 0, 0, 0.3));\n",
              "      fill: #FFFFFF;\n",
              "    }\n",
              "  </style>\n",
              "\n",
              "    <script>\n",
              "      const buttonEl =\n",
              "        document.querySelector('#df-fd237232-121f-4b75-ade4-d83da035652a button.colab-df-convert');\n",
              "      buttonEl.style.display =\n",
              "        google.colab.kernel.accessAllowed ? 'block' : 'none';\n",
              "\n",
              "      async function convertToInteractive(key) {\n",
              "        const element = document.querySelector('#df-fd237232-121f-4b75-ade4-d83da035652a');\n",
              "        const dataTable =\n",
              "          await google.colab.kernel.invokeFunction('convertToInteractive',\n",
              "                                                    [key], {});\n",
              "        if (!dataTable) return;\n",
              "\n",
              "        const docLinkHtml = 'Like what you see? Visit the ' +\n",
              "          '<a target=\"_blank\" href=https://colab.research.google.com/notebooks/data_table.ipynb>data table notebook</a>'\n",
              "          + ' to learn more about interactive tables.';\n",
              "        element.innerHTML = '';\n",
              "        dataTable['output_type'] = 'display_data';\n",
              "        await google.colab.output.renderOutput(dataTable, element);\n",
              "        const docLink = document.createElement('div');\n",
              "        docLink.innerHTML = docLinkHtml;\n",
              "        element.appendChild(docLink);\n",
              "      }\n",
              "    </script>\n",
              "  </div>\n",
              "\n",
              "\n",
              "    <div id=\"df-cbd0f532-a3b6-4c5d-849a-c155e7c4253e\">\n",
              "      <button class=\"colab-df-quickchart\" onclick=\"quickchart('df-cbd0f532-a3b6-4c5d-849a-c155e7c4253e')\"\n",
              "                title=\"Suggest charts\"\n",
              "                style=\"display:none;\">\n",
              "\n",
              "<svg xmlns=\"http://www.w3.org/2000/svg\" height=\"24px\"viewBox=\"0 0 24 24\"\n",
              "     width=\"24px\">\n",
              "    <g>\n",
              "        <path d=\"M19 3H5c-1.1 0-2 .9-2 2v14c0 1.1.9 2 2 2h14c1.1 0 2-.9 2-2V5c0-1.1-.9-2-2-2zM9 17H7v-7h2v7zm4 0h-2V7h2v10zm4 0h-2v-4h2v4z\"/>\n",
              "    </g>\n",
              "</svg>\n",
              "      </button>\n",
              "\n",
              "<style>\n",
              "  .colab-df-quickchart {\n",
              "      --bg-color: #E8F0FE;\n",
              "      --fill-color: #1967D2;\n",
              "      --hover-bg-color: #E2EBFA;\n",
              "      --hover-fill-color: #174EA6;\n",
              "      --disabled-fill-color: #AAA;\n",
              "      --disabled-bg-color: #DDD;\n",
              "  }\n",
              "\n",
              "  [theme=dark] .colab-df-quickchart {\n",
              "      --bg-color: #3B4455;\n",
              "      --fill-color: #D2E3FC;\n",
              "      --hover-bg-color: #434B5C;\n",
              "      --hover-fill-color: #FFFFFF;\n",
              "      --disabled-bg-color: #3B4455;\n",
              "      --disabled-fill-color: #666;\n",
              "  }\n",
              "\n",
              "  .colab-df-quickchart {\n",
              "    background-color: var(--bg-color);\n",
              "    border: none;\n",
              "    border-radius: 50%;\n",
              "    cursor: pointer;\n",
              "    display: none;\n",
              "    fill: var(--fill-color);\n",
              "    height: 32px;\n",
              "    padding: 0;\n",
              "    width: 32px;\n",
              "  }\n",
              "\n",
              "  .colab-df-quickchart:hover {\n",
              "    background-color: var(--hover-bg-color);\n",
              "    box-shadow: 0 1px 2px rgba(60, 64, 67, 0.3), 0 1px 3px 1px rgba(60, 64, 67, 0.15);\n",
              "    fill: var(--button-hover-fill-color);\n",
              "  }\n",
              "\n",
              "  .colab-df-quickchart-complete:disabled,\n",
              "  .colab-df-quickchart-complete:disabled:hover {\n",
              "    background-color: var(--disabled-bg-color);\n",
              "    fill: var(--disabled-fill-color);\n",
              "    box-shadow: none;\n",
              "  }\n",
              "\n",
              "  .colab-df-spinner {\n",
              "    border: 2px solid var(--fill-color);\n",
              "    border-color: transparent;\n",
              "    border-bottom-color: var(--fill-color);\n",
              "    animation:\n",
              "      spin 1s steps(1) infinite;\n",
              "  }\n",
              "\n",
              "  @keyframes spin {\n",
              "    0% {\n",
              "      border-color: transparent;\n",
              "      border-bottom-color: var(--fill-color);\n",
              "      border-left-color: var(--fill-color);\n",
              "    }\n",
              "    20% {\n",
              "      border-color: transparent;\n",
              "      border-left-color: var(--fill-color);\n",
              "      border-top-color: var(--fill-color);\n",
              "    }\n",
              "    30% {\n",
              "      border-color: transparent;\n",
              "      border-left-color: var(--fill-color);\n",
              "      border-top-color: var(--fill-color);\n",
              "      border-right-color: var(--fill-color);\n",
              "    }\n",
              "    40% {\n",
              "      border-color: transparent;\n",
              "      border-right-color: var(--fill-color);\n",
              "      border-top-color: var(--fill-color);\n",
              "    }\n",
              "    60% {\n",
              "      border-color: transparent;\n",
              "      border-right-color: var(--fill-color);\n",
              "    }\n",
              "    80% {\n",
              "      border-color: transparent;\n",
              "      border-right-color: var(--fill-color);\n",
              "      border-bottom-color: var(--fill-color);\n",
              "    }\n",
              "    90% {\n",
              "      border-color: transparent;\n",
              "      border-bottom-color: var(--fill-color);\n",
              "    }\n",
              "  }\n",
              "</style>\n",
              "\n",
              "      <script>\n",
              "        async function quickchart(key) {\n",
              "          const quickchartButtonEl =\n",
              "            document.querySelector('#' + key + ' button');\n",
              "          quickchartButtonEl.disabled = true;  // To prevent multiple clicks.\n",
              "          quickchartButtonEl.classList.add('colab-df-spinner');\n",
              "          try {\n",
              "            const charts = await google.colab.kernel.invokeFunction(\n",
              "                'suggestCharts', [key], {});\n",
              "          } catch (error) {\n",
              "            console.error('Error during call to suggestCharts:', error);\n",
              "          }\n",
              "          quickchartButtonEl.classList.remove('colab-df-spinner');\n",
              "          quickchartButtonEl.classList.add('colab-df-quickchart-complete');\n",
              "        }\n",
              "        (() => {\n",
              "          let quickchartButtonEl =\n",
              "            document.querySelector('#df-cbd0f532-a3b6-4c5d-849a-c155e7c4253e button');\n",
              "          quickchartButtonEl.style.display =\n",
              "            google.colab.kernel.accessAllowed ? 'block' : 'none';\n",
              "        })();\n",
              "      </script>\n",
              "    </div>\n",
              "\n",
              "  <div id=\"id_daab0e99-d4d4-4089-9c0e-459240797821\">\n",
              "    <style>\n",
              "      .colab-df-generate {\n",
              "        background-color: #E8F0FE;\n",
              "        border: none;\n",
              "        border-radius: 50%;\n",
              "        cursor: pointer;\n",
              "        display: none;\n",
              "        fill: #1967D2;\n",
              "        height: 32px;\n",
              "        padding: 0 0 0 0;\n",
              "        width: 32px;\n",
              "      }\n",
              "\n",
              "      .colab-df-generate:hover {\n",
              "        background-color: #E2EBFA;\n",
              "        box-shadow: 0px 1px 2px rgba(60, 64, 67, 0.3), 0px 1px 3px 1px rgba(60, 64, 67, 0.15);\n",
              "        fill: #174EA6;\n",
              "      }\n",
              "\n",
              "      [theme=dark] .colab-df-generate {\n",
              "        background-color: #3B4455;\n",
              "        fill: #D2E3FC;\n",
              "      }\n",
              "\n",
              "      [theme=dark] .colab-df-generate:hover {\n",
              "        background-color: #434B5C;\n",
              "        box-shadow: 0px 1px 3px 1px rgba(0, 0, 0, 0.15);\n",
              "        filter: drop-shadow(0px 1px 2px rgba(0, 0, 0, 0.3));\n",
              "        fill: #FFFFFF;\n",
              "      }\n",
              "    </style>\n",
              "    <button class=\"colab-df-generate\" onclick=\"generateWithVariable('Motor_Fault_dataset')\"\n",
              "            title=\"Generate code using this dataframe.\"\n",
              "            style=\"display:none;\">\n",
              "\n",
              "  <svg xmlns=\"http://www.w3.org/2000/svg\" height=\"24px\"viewBox=\"0 0 24 24\"\n",
              "       width=\"24px\">\n",
              "    <path d=\"M7,19H8.4L18.45,9,17,7.55,7,17.6ZM5,21V16.75L18.45,3.32a2,2,0,0,1,2.83,0l1.4,1.43a1.91,1.91,0,0,1,.58,1.4,1.91,1.91,0,0,1-.58,1.4L9.25,21ZM18.45,9,17,7.55Zm-12,3A5.31,5.31,0,0,0,4.9,8.1,5.31,5.31,0,0,0,1,6.5,5.31,5.31,0,0,0,4.9,4.9,5.31,5.31,0,0,0,6.5,1,5.31,5.31,0,0,0,8.1,4.9,5.31,5.31,0,0,0,12,6.5,5.46,5.46,0,0,0,6.5,12Z\"/>\n",
              "  </svg>\n",
              "    </button>\n",
              "    <script>\n",
              "      (() => {\n",
              "      const buttonEl =\n",
              "        document.querySelector('#id_daab0e99-d4d4-4089-9c0e-459240797821 button.colab-df-generate');\n",
              "      buttonEl.style.display =\n",
              "        google.colab.kernel.accessAllowed ? 'block' : 'none';\n",
              "\n",
              "      buttonEl.onclick = () => {\n",
              "        google.colab.notebook.generateWithVariable('Motor_Fault_dataset');\n",
              "      }\n",
              "      })();\n",
              "    </script>\n",
              "  </div>\n",
              "\n",
              "    </div>\n",
              "  </div>\n"
            ],
            "application/vnd.google.colaboratory.intrinsic+json": {
              "type": "dataframe",
              "variable_name": "Motor_Fault_dataset",
              "summary": "{\n  \"name\": \"Motor_Fault_dataset\",\n  \"rows\": 1570,\n  \"fields\": [\n    {\n      \"column\": \"t-SNE 1\",\n      \"properties\": {\n        \"dtype\": \"float32\",\n        \"num_unique_values\": 1567,\n        \"samples\": [\n          -45.524166107177734,\n          23.403465270996094,\n          37.975738525390625\n        ],\n        \"semantic_type\": \"\",\n        \"description\": \"\"\n      }\n    },\n    {\n      \"column\": \"t-SNE 2\",\n      \"properties\": {\n        \"dtype\": \"float32\",\n        \"num_unique_values\": 1568,\n        \"samples\": [\n          -7.613383769989014,\n          1.4404857158660889,\n          0.7449560165405273\n        ],\n        \"semantic_type\": \"\",\n        \"description\": \"\"\n      }\n    },\n    {\n      \"column\": \"T-SNE component 1\",\n      \"properties\": {\n        \"dtype\": \"float32\",\n        \"num_unique_values\": 1570,\n        \"samples\": [\n          19.0787353515625,\n          -14.574913024902344,\n          17.194297790527344\n        ],\n        \"semantic_type\": \"\",\n        \"description\": \"\"\n      }\n    },\n    {\n      \"column\": \"T-SNE component 2\",\n      \"properties\": {\n        \"dtype\": \"float32\",\n        \"num_unique_values\": 1570,\n        \"samples\": [\n          9.510616302490234,\n          -13.165268898010254,\n          -17.842266082763672\n        ],\n        \"semantic_type\": \"\",\n        \"description\": \"\"\n      }\n    },\n    {\n      \"column\": \"Fault\",\n      \"properties\": {\n        \"dtype\": \"category\",\n        \"num_unique_values\": 9,\n        \"samples\": [\n          \"228\",\n          \"124\",\n          \"203\"\n        ],\n        \"semantic_type\": \"\",\n        \"description\": \"\"\n      }\n    }\n  ]\n}"
            }
          },
          "metadata": {},
          "execution_count": 67
        }
      ]
    },
    {
      "cell_type": "code",
      "source": [
        "#Classification Report for MKDCNN"
      ],
      "metadata": {
        "id": "zC_6vMBPsOs_"
      },
      "id": "zC_6vMBPsOs_",
      "execution_count": null,
      "outputs": []
    },
    {
      "cell_type": "code",
      "source": [],
      "metadata": {
        "id": "b77LcDP9sPR2"
      },
      "id": "b77LcDP9sPR2",
      "execution_count": null,
      "outputs": []
    },
    {
      "cell_type": "markdown",
      "source": [
        "HSPSO-CatBoost\n"
      ],
      "metadata": {
        "id": "wZFQ37UCYN1p"
      },
      "id": "wZFQ37UCYN1p"
    },
    {
      "cell_type": "code",
      "source": [
        "X = Motor_Fault_dataset.iloc[:, 0:4].values\n",
        "y = Motor_Fault_dataset.iloc[:, 4].values"
      ],
      "metadata": {
        "id": "f_P8BWzmYTg0"
      },
      "id": "f_P8BWzmYTg0",
      "execution_count": null,
      "outputs": []
    },
    {
      "cell_type": "code",
      "source": [
        "# Splitting the dataset into the Training set and Test set\n",
        "from sklearn.model_selection import train_test_split\n",
        "X_train, X_test, y_train, y_test = train_test_split(X, y, test_size = 0.2)"
      ],
      "metadata": {
        "id": "vLMueEZ6YfvA"
      },
      "id": "vLMueEZ6YfvA",
      "execution_count": null,
      "outputs": []
    },
    {
      "cell_type": "code",
      "source": [
        "pip install hyperactive"
      ],
      "metadata": {
        "id": "nsTDebhD9iQw",
        "colab": {
          "base_uri": "https://localhost:8080/"
        },
        "outputId": "3d3583a1-53ab-488b-80d8-5907d65910ac"
      },
      "id": "nsTDebhD9iQw",
      "execution_count": null,
      "outputs": [
        {
          "output_type": "stream",
          "name": "stdout",
          "text": [
            "Requirement already satisfied: hyperactive in /usr/local/lib/python3.11/dist-packages (4.8.0)\n",
            "Requirement already satisfied: numpy<3.0.0,>=1.18.1 in /usr/local/lib/python3.11/dist-packages (from hyperactive) (2.0.2)\n",
            "Requirement already satisfied: tqdm<5.0.0,>=4.48.0 in /usr/local/lib/python3.11/dist-packages (from hyperactive) (4.67.1)\n",
            "Requirement already satisfied: pandas<3.0.0 in /usr/local/lib/python3.11/dist-packages (from hyperactive) (2.2.2)\n",
            "Requirement already satisfied: gradient-free-optimizers<2.0.0,>=1.2.4 in /usr/local/lib/python3.11/dist-packages (from hyperactive) (1.7.1)\n",
            "Requirement already satisfied: scipy<2.0.0 in /usr/local/lib/python3.11/dist-packages (from gradient-free-optimizers<2.0.0,>=1.2.4->hyperactive) (1.15.3)\n",
            "Requirement already satisfied: scikit-learn!=0.23.*,>=0.21 in /usr/local/lib/python3.11/dist-packages (from gradient-free-optimizers<2.0.0,>=1.2.4->hyperactive) (1.6.1)\n",
            "Requirement already satisfied: python-dateutil>=2.8.2 in /usr/local/lib/python3.11/dist-packages (from pandas<3.0.0->hyperactive) (2.9.0.post0)\n",
            "Requirement already satisfied: pytz>=2020.1 in /usr/local/lib/python3.11/dist-packages (from pandas<3.0.0->hyperactive) (2025.2)\n",
            "Requirement already satisfied: tzdata>=2022.7 in /usr/local/lib/python3.11/dist-packages (from pandas<3.0.0->hyperactive) (2025.2)\n",
            "Requirement already satisfied: six>=1.5 in /usr/local/lib/python3.11/dist-packages (from python-dateutil>=2.8.2->pandas<3.0.0->hyperactive) (1.17.0)\n",
            "Requirement already satisfied: joblib>=1.2.0 in /usr/local/lib/python3.11/dist-packages (from scikit-learn!=0.23.*,>=0.21->gradient-free-optimizers<2.0.0,>=1.2.4->hyperactive) (1.5.1)\n",
            "Requirement already satisfied: threadpoolctl>=3.1.0 in /usr/local/lib/python3.11/dist-packages (from scikit-learn!=0.23.*,>=0.21->gradient-free-optimizers<2.0.0,>=1.2.4->hyperactive) (3.6.0)\n"
          ]
        },
        {
          "output_type": "stream",
          "name": "stderr",
          "text": [
            "\r[0] model (Particle Swarm Optimization):   8%|\u001b[33m          \u001b[0m| 3/40 [11:06<2:16:58, 222.11s/it, best_iter=0, best_pos=None, best_score=-inf]\n"
          ]
        }
      ]
    },
    {
      "cell_type": "code",
      "source": [
        "pip install catboost"
      ],
      "metadata": {
        "id": "UTH39uc29p_Q",
        "colab": {
          "base_uri": "https://localhost:8080/"
        },
        "outputId": "8f346c29-b997-4b20-8ba8-d07d5809eb77"
      },
      "id": "UTH39uc29p_Q",
      "execution_count": null,
      "outputs": [
        {
          "output_type": "stream",
          "name": "stdout",
          "text": [
            "Requirement already satisfied: catboost in /usr/local/lib/python3.11/dist-packages (1.2.8)\n",
            "Requirement already satisfied: graphviz in /usr/local/lib/python3.11/dist-packages (from catboost) (0.20.3)\n",
            "Requirement already satisfied: matplotlib in /usr/local/lib/python3.11/dist-packages (from catboost) (3.10.0)\n",
            "Requirement already satisfied: numpy<3.0,>=1.16.0 in /usr/local/lib/python3.11/dist-packages (from catboost) (2.0.2)\n",
            "Requirement already satisfied: pandas>=0.24 in /usr/local/lib/python3.11/dist-packages (from catboost) (2.2.2)\n",
            "Requirement already satisfied: scipy in /usr/local/lib/python3.11/dist-packages (from catboost) (1.15.3)\n",
            "Requirement already satisfied: plotly in /usr/local/lib/python3.11/dist-packages (from catboost) (5.24.1)\n",
            "Requirement already satisfied: six in /usr/local/lib/python3.11/dist-packages (from catboost) (1.17.0)\n",
            "Requirement already satisfied: python-dateutil>=2.8.2 in /usr/local/lib/python3.11/dist-packages (from pandas>=0.24->catboost) (2.9.0.post0)\n",
            "Requirement already satisfied: pytz>=2020.1 in /usr/local/lib/python3.11/dist-packages (from pandas>=0.24->catboost) (2025.2)\n",
            "Requirement already satisfied: tzdata>=2022.7 in /usr/local/lib/python3.11/dist-packages (from pandas>=0.24->catboost) (2025.2)\n",
            "Requirement already satisfied: contourpy>=1.0.1 in /usr/local/lib/python3.11/dist-packages (from matplotlib->catboost) (1.3.2)\n",
            "Requirement already satisfied: cycler>=0.10 in /usr/local/lib/python3.11/dist-packages (from matplotlib->catboost) (0.12.1)\n",
            "Requirement already satisfied: fonttools>=4.22.0 in /usr/local/lib/python3.11/dist-packages (from matplotlib->catboost) (4.58.1)\n",
            "Requirement already satisfied: kiwisolver>=1.3.1 in /usr/local/lib/python3.11/dist-packages (from matplotlib->catboost) (1.4.8)\n",
            "Requirement already satisfied: packaging>=20.0 in /usr/local/lib/python3.11/dist-packages (from matplotlib->catboost) (24.2)\n",
            "Requirement already satisfied: pillow>=8 in /usr/local/lib/python3.11/dist-packages (from matplotlib->catboost) (11.2.1)\n",
            "Requirement already satisfied: pyparsing>=2.3.1 in /usr/local/lib/python3.11/dist-packages (from matplotlib->catboost) (3.2.3)\n",
            "Requirement already satisfied: tenacity>=6.2.0 in /usr/local/lib/python3.11/dist-packages (from plotly->catboost) (9.1.2)\n"
          ]
        }
      ]
    },
    {
      "cell_type": "markdown",
      "source": [
        "Deployment:"
      ],
      "metadata": {
        "id": "Ul9AHZU5uIcP"
      },
      "id": "Ul9AHZU5uIcP"
    },
    {
      "cell_type": "code",
      "source": [
        "import numpy as np\n",
        "import pandas as pd\n",
        "from datetime import datetime\n",
        "from sklearn.model_selection import cross_val_score\n",
        "from catboost import CatBoostClassifier, Pool\n",
        "from hyperactive import Hyperactive\n",
        "from hyperactive.optimizers import ParticleSwarmOptimizer\n",
        "from sklearn.metrics import classification_report, confusion_matrix\n",
        "import matplotlib.pyplot as plt\n",
        "import seaborn as sns\n",
        "\n",
        "# === DATA: Replace X_train, X_test, y_train, y_test with your actual data ===\n",
        "# Example:\n",
        "# X_train, X_test, y_train, y_test = train_test_split(...)\n",
        "\n",
        "X, y = X_train, y_train\n",
        "\n",
        "# === Objective Function ===\n",
        "def model(opt):\n",
        "    CatBoost = CatBoostClassifier(\n",
        "        iterations=opt[\"iterations\"],\n",
        "        depth=opt[\"depth\"],\n",
        "        learning_rate=opt[\"learning_rate\"],\n",
        "        l2_leaf_reg=opt[\"l2_leaf_reg\"],\n",
        "        bagging_temperature=opt[\"bagging_temperature\"],\n",
        "        random_strength=opt[\"random_strength\"],\n",
        "        verbose=False\n",
        "    )\n",
        "    scores = cross_val_score(CatBoost, X, y, cv=4)\n",
        "    return scores.mean()\n",
        "\n",
        "# === Search Space ===\n",
        "search_space = {\n",
        "    \"iterations\": list(range(50, 501, 50)),\n",
        "    \"depth\": list(range(1, 11)),\n",
        "    \"learning_rate\": [0.01, 0.05, 0.1],\n",
        "    \"l2_leaf_reg\": [1, 3, 5],\n",
        "    \"bagging_temperature\": [0.5, 1, 1.5],\n",
        "    \"random_strength\": [0.5, 1, 1.5],\n",
        "}\n",
        "\n",
        "# === Cauchy Mutation ===\n",
        "def cauchy_mutation(particle, gamma=0.3):\n",
        "    for key in particle:\n",
        "        if isinstance(particle[key], (int, float)):\n",
        "            particle[key] = particle[key] * (1 + gamma * np.tan(np.pi * (np.random.rand() - 0.5)))\n",
        "            particle[key] = np.clip(particle[key], min(search_space[key]), max(search_space[key]))\n",
        "            if isinstance(search_space[key][0], int):\n",
        "                particle[key] = int(round(particle[key]))\n",
        "    return particle\n",
        "\n",
        "# === HSPSO Optimizer Class ===\n",
        "class HybridStrategyPSO(ParticleSwarmOptimizer):\n",
        "    def __init__(self, n_part=20, max_iter=40, **kwargs):\n",
        "        super().__init__(**kwargs)\n",
        "        self.switch_threshold = 10\n",
        "        self.iteration = 0\n",
        "        self.topology = \"gbest\"\n",
        "        self.n_part = n_part\n",
        "        self.max_iter = max_iter\n",
        "\n",
        "        # Adaptive Inertia Parameters\n",
        "        self.H = 1\n",
        "        self.w_min = 0.4\n",
        "        self.w_max = 0.9\n",
        "        self.b = 0.9\n",
        "        self.scaling_factor = 0.5\n",
        "\n",
        "    def on_iteration(self, swarm, scores):\n",
        "        self.iteration += 1\n",
        "\n",
        "        # === Topology Switching ===\n",
        "        if self.iteration % self.switch_threshold == 0:\n",
        "            self.topology = \"lbest\" if self.topology == \"gbest\" else \"gbest\"\n",
        "            self.set_topology(self.topology)\n",
        "\n",
        "        # === Clone Best Particles ===\n",
        "        best_indices = np.argsort(scores)[:max(1, len(swarm) // 5)]\n",
        "        for idx in best_indices:\n",
        "            particle = swarm[idx].copy()\n",
        "            swarm.append(particle)\n",
        "            scores.append(scores[idx])\n",
        "\n",
        "        # === Prune Worst Particles ===\n",
        "        if len(swarm) > 2 * self.n_part:\n",
        "            worst_indices = np.argsort(scores)[-len(swarm)//4:]\n",
        "            for i in reversed(worst_indices):\n",
        "                del swarm[i]\n",
        "                del scores[i]\n",
        "\n",
        "        # === Nonlinear Adaptive Inertia ===\n",
        "        numerator = (self.w_max - self.w_min) * self.iteration\n",
        "        denominator = 1 + np.exp(-10 * self.b * ((2 * self.iteration) / (self.H * self.max_iter) - 1))\n",
        "        self.inertia = self.w_max - numerator / denominator\n",
        "\n",
        "        # === Cauchy Mutation ===\n",
        "        for i in range(len(swarm)):\n",
        "            if np.random.rand() < 0.2:\n",
        "                swarm[i] = cauchy_mutation(swarm[i])\n",
        "\n",
        "        # === Hook-Jeeves Local Search (simplified) ===\n",
        "        top_ids = np.argsort(scores)[:2]\n",
        "        for i in top_ids:\n",
        "            particle = swarm[i]\n",
        "            for key in particle:\n",
        "                if isinstance(particle[key], (int, float)):\n",
        "                    for delta in [-0.01, 0.01] if isinstance(particle[key], float) else [-1, 1]:\n",
        "                        trial = particle.copy()\n",
        "                        trial[key] = trial[key] + delta\n",
        "                        trial[key] = np.clip(trial[key], min(search_space[key]), max(search_space[key]))\n",
        "                        if isinstance(search_space[key][0], int):\n",
        "                            trial[key] = int(round(trial[key]))\n",
        "                        trial_score = model(trial)\n",
        "                        if trial_score > scores[i]:\n",
        "                            swarm[i] = trial\n",
        "                            scores[i] = trial_score\n",
        "\n",
        "        # === Random Restart ===\n",
        "        if np.random.rand() < 0.1:\n",
        "            random_idx = np.random.choice(len(swarm))\n",
        "            for key in swarm[random_idx]:\n",
        "                if isinstance(swarm[random_idx][key], (int, float)):\n",
        "                    swarm[random_idx][key] = np.random.choice(search_space[key])\n",
        "\n",
        "# === Run HSPSO Hyperparameter Tuning ===\n",
        "start_time = datetime.now()\n",
        "\n",
        "hyper = Hyperactive()\n",
        "\n",
        "optimizer = HybridStrategyPSO(\n",
        "    n_part=20,\n",
        "    max_iter=40,\n",
        "    inertia=0.5,\n",
        "    cognitive_weight=0.9,\n",
        "    social_weight=0.5,\n",
        "    temp_weight=0.4,\n",
        "    rand_rest_p=0.05,\n",
        ")\n",
        "\n",
        "hyper.add_search(model, search_space, optimizer=optimizer, n_iter=40)\n",
        "hyper.run()\n",
        "\n",
        "end_time = datetime.now()\n",
        "print('Tuning Duration:', end_time - start_time)\n",
        "\n",
        "# === Best Parameters ===\n",
        "best_params = hyper.best_para(model)\n",
        "print(\"Best Parameters:\", best_params)\n",
        "\n",
        "# === Train Final Model with Best Parameters ===\n",
        "train_pool = Pool(data=X_train, label=y_train)\n",
        "test_pool = Pool(data=X_test, label=y_test)\n",
        "\n",
        "final_model = CatBoostClassifier(\n",
        "    depth=best_params[\"depth\"],\n",
        "    iterations=best_params[\"iterations\"],\n",
        "    learning_rate=best_params[\"learning_rate\"],\n",
        "    l2_leaf_reg=best_params[\"l2_leaf_reg\"],\n",
        "    bagging_temperature=best_params[\"bagging_temperature\"],\n",
        "    random_strength=best_params[\"random_strength\"],\n",
        "    verbose=10\n",
        ")\n",
        "\n",
        "final_model.fit(\n",
        "    train_pool,\n",
        "    eval_set=test_pool,\n",
        "    verbose=best_params[\"iterations\"] // 10,\n",
        "    plot=True\n",
        ")\n"
      ],
      "metadata": {
        "id": "jQr38vF8A9_i",
        "colab": {
          "base_uri": "https://localhost:8080/",
          "height": 729,
          "referenced_widgets": [
            "575da4fb3e7b41519b5cbd0287241c56"
          ]
        },
        "outputId": "b2b8e190-6423-4098-eb3f-4ab0e7519270"
      },
      "id": "jQr38vF8A9_i",
      "execution_count": null,
      "outputs": [
        {
          "output_type": "stream",
          "name": "stderr",
          "text": [
            "[0] model (Particle Swarm Optimization): 100%|\u001b[32m──────────\u001b[0m| 40/40 [15:31<00:00, 23.28s/it, best_iter=0, best_pos=None, best_score=-inf]"
          ]
        },
        {
          "output_type": "stream",
          "name": "stdout",
          "text": [
            "\n",
            "\n",
            "Results: 'model'  \n",
            "   Best score: 0.9936305732484076  \n",
            "   Best parameter set:\n",
            "      'iterations'          : 450.0  \n",
            "      'depth'               : 7.0  \n",
            "      'learning_rate'       : 0.1  \n",
            "      'l2_leaf_reg'         : 3.0  \n",
            "      'bagging_temperature' : 1.0  \n",
            "      'random_strength'     : 1.0  \n",
            "   Best iteration: 0  \n",
            " \n",
            "   Random seed: 1766908333  \n",
            " \n",
            "   Evaluation time   : 930.8080892562866 sec    [100.0 %]\n",
            "   Optimization time : 0.014557123184204102 sec    [0.0 %]\n",
            "   Iteration time    : 930.8226463794708 sec    [23.27 sec/iter]\n",
            " \n",
            "Tuning Duration: 0:15:31.170170\n",
            "Best Parameters: {'iterations': 450, 'depth': 7, 'learning_rate': 0.1, 'l2_leaf_reg': 3, 'bagging_temperature': 1, 'random_strength': 1}\n"
          ]
        },
        {
          "output_type": "stream",
          "name": "stderr",
          "text": [
            "\n"
          ]
        },
        {
          "output_type": "display_data",
          "data": {
            "text/plain": [
              "MetricVisualizer(layout=Layout(align_self='stretch', height='500px'))"
            ],
            "application/vnd.jupyter.widget-view+json": {
              "version_major": 2,
              "version_minor": 0,
              "model_id": "575da4fb3e7b41519b5cbd0287241c56"
            }
          },
          "metadata": {}
        },
        {
          "output_type": "stream",
          "name": "stdout",
          "text": [
            "0:\tlearn: 1.6973069\ttest: 1.6759739\tbest: 1.6759739 (0)\ttotal: 16.2ms\tremaining: 7.3s\n",
            "45:\tlearn: 0.0721812\ttest: 0.0801338\tbest: 0.0801338 (45)\ttotal: 691ms\tremaining: 6.07s\n",
            "90:\tlearn: 0.0350108\ttest: 0.0493023\tbest: 0.0493023 (90)\ttotal: 1.41s\tremaining: 5.56s\n",
            "135:\tlearn: 0.0232247\ttest: 0.0421357\tbest: 0.0421357 (135)\ttotal: 1.89s\tremaining: 4.36s\n",
            "180:\tlearn: 0.0168772\ttest: 0.0393342\tbest: 0.0393342 (180)\ttotal: 2.59s\tremaining: 3.85s\n",
            "225:\tlearn: 0.0131984\ttest: 0.0378863\tbest: 0.0378863 (225)\ttotal: 3.29s\tremaining: 3.27s\n",
            "270:\tlearn: 0.0106972\ttest: 0.0369628\tbest: 0.0369628 (270)\ttotal: 3.78s\tremaining: 2.5s\n",
            "315:\tlearn: 0.0088451\ttest: 0.0362318\tbest: 0.0362318 (315)\ttotal: 4.49s\tremaining: 1.9s\n",
            "360:\tlearn: 0.0074465\ttest: 0.0360512\tbest: 0.0359961 (354)\ttotal: 5.06s\tremaining: 1.25s\n",
            "405:\tlearn: 0.0063551\ttest: 0.0357782\tbest: 0.0357548 (404)\ttotal: 6.84s\tremaining: 742ms\n",
            "449:\tlearn: 0.0056195\ttest: 0.0358023\tbest: 0.0357548 (404)\ttotal: 7.89s\tremaining: 0us\n",
            "\n",
            "bestTest = 0.03575484996\n",
            "bestIteration = 404\n",
            "\n",
            "Shrink model to first 405 iterations.\n"
          ]
        },
        {
          "output_type": "execute_result",
          "data": {
            "text/plain": [
              "<catboost.core.CatBoostClassifier at 0x7bdd77a51790>"
            ]
          },
          "metadata": {},
          "execution_count": 73
        }
      ]
    },
    {
      "cell_type": "code",
      "source": [
        "hyper.add_search(model, search_space, optimizer=optimizer, n_iter=40, initialize={\"random\": 20})\n"
      ],
      "metadata": {
        "id": "a_9tYmgz45VS"
      },
      "id": "a_9tYmgz45VS",
      "execution_count": null,
      "outputs": []
    },
    {
      "cell_type": "code",
      "source": [
        "learning_curve = final_model.get_evals_result()\n",
        "print(learning_curve)"
      ],
      "metadata": {
        "id": "2mRL06xdGZve",
        "colab": {
          "base_uri": "https://localhost:8080/"
        },
        "outputId": "295460e1-d2ac-448d-dab9-a75a36a2f2b5"
      },
      "id": "2mRL06xdGZve",
      "execution_count": null,
      "outputs": [
        {
          "output_type": "stream",
          "name": "stdout",
          "text": [
            "{'learn': {'MultiClass': [1.6973068768121264, 1.3843962848251317, 1.1845512754981213, 1.0218108195889122, 0.8896038427372787, 0.8019775970189543, 0.7206214617078744, 0.6481756978084466, 0.5899000749519397, 0.5329113361520543, 0.4917496001411856, 0.4531145695638629, 0.4110900124480347, 0.37925167234300156, 0.3519992403470263, 0.3237618854054932, 0.29761746269355677, 0.2772156480298793, 0.2574160548596129, 0.23908991228006118, 0.22338466222768114, 0.20750802346568992, 0.19637032026777743, 0.18704045640874667, 0.1772507460943524, 0.16569219398621132, 0.15671436801025876, 0.1482294653874639, 0.13998979197977046, 0.13188771539365013, 0.12657254188587927, 0.120784147031756, 0.11628938581274759, 0.11017242451612674, 0.10514911846857056, 0.10004370601025533, 0.09528870889406499, 0.09227435352788509, 0.09014258270977235, 0.0865128087639533, 0.08390030696059793, 0.08119185643981476, 0.07978229247574754, 0.07692014550375047, 0.07497160616974392, 0.07218118451364645, 0.07048479390563002, 0.06918431912996849, 0.06841972304351279, 0.0662529217189533, 0.06518215366923193, 0.06379175308882162, 0.06253846731657005, 0.060630187379960676, 0.06008971287345328, 0.05914024703590382, 0.05749949149725159, 0.05649031684309885, 0.055918879844319806, 0.054183020203074715, 0.05328731623572126, 0.05241815205090999, 0.05098370264498409, 0.05051475937388745, 0.04975772852656161, 0.04924338458793817, 0.047901067175352884, 0.04714507472448745, 0.046496968861250425, 0.04572215800231683, 0.04469300873135808, 0.044351053523837454, 0.04360205006650126, 0.0432704425205489, 0.042507405377679816, 0.04179313424325333, 0.041497304393555735, 0.0409668984638735, 0.04069236416513055, 0.04021783035416162, 0.039743023470226506, 0.03935080628320919, 0.03883846834688521, 0.03790178951206832, 0.03753838969153867, 0.03734007879168097, 0.03704919683440142, 0.03623977833315156, 0.03593160739188164, 0.0356499173618093, 0.035010849494932966, 0.034249650012320755, 0.03404963176860856, 0.033301125654403074, 0.0327040164874628, 0.032394660213008, 0.032100876108045295, 0.032043197133971114, 0.03186811432626864, 0.03137038041580334, 0.031091689068369302, 0.030861886066332365, 0.03050190752735515, 0.030227121758510823, 0.029903850317950807, 0.029492505075732544, 0.029445660374544668, 0.029281081788134305, 0.029074957453946827, 0.028652035083738505, 0.028384963290034777, 0.028069774022851015, 0.027784721546707483, 0.027328538837731172, 0.027111125082170322, 0.02700927080351871, 0.026790531003886196, 0.026536624421411987, 0.026350600988810053, 0.0263054368192487, 0.025983767329994953, 0.025793155862168727, 0.0256146882642555, 0.02539723238108625, 0.02526976389485049, 0.02504444008697079, 0.02500060952638755, 0.024853486324855994, 0.024635643940207848, 0.024529273753746788, 0.024478495575485818, 0.02423854765785263, 0.0241051141753728, 0.023734764779908442, 0.023546250488314626, 0.023224674084087432, 0.023098307995229495, 0.02301351531069584, 0.022754413338228936, 0.022477318326317615, 0.022270990168698712, 0.02224083109998241, 0.021885267550929954, 0.021747907654309683, 0.021568894560315466, 0.021421091887132343, 0.02126711655625678, 0.0211312796688385, 0.020990519289815643, 0.02082089983469804, 0.020684274495196803, 0.020551409955317894, 0.02044843101598514, 0.020211880204432327, 0.019962388980032227, 0.01983747489505651, 0.01965400371234216, 0.019518435231247955, 0.019391820895163985, 0.01922783266490816, 0.019191917292138726, 0.01908185512874898, 0.01905653802870545, 0.01898563193096206, 0.01895745742436247, 0.018830538817093834, 0.01871265067671817, 0.018548918598770437, 0.018429131432544363, 0.018333163284824233, 0.018148981967617158, 0.01803217712676026, 0.0179609375212124, 0.017834540068117386, 0.01772318790759146, 0.017628818240807358, 0.017535801320426255, 0.01732538337421948, 0.017166845435558655, 0.01699371395580143, 0.01687716723599184, 0.016808749053334494, 0.0166894743558141, 0.01646828696147164, 0.01641777184337921, 0.01639813064279575, 0.016318393714642773, 0.016272044773306044, 0.01620099849100442, 0.016152831356822862, 0.01607292358388502, 0.01601725623157462, 0.015771993383293274, 0.01572644115428713, 0.015589044305078533, 0.01551917080684079, 0.01540795858131055, 0.01537748279692259, 0.015289065391177352, 0.015237678215186165, 0.015169586077132006, 0.015111113410208566, 0.01500953348032799, 0.014820906486452472, 0.014727449088292516, 0.014641201018195216, 0.01454325540983219, 0.014464384620876292, 0.014360992292407426, 0.014304998894791828, 0.014127803782556552, 0.014048111663152668, 0.013948805579315013, 0.013853843570834875, 0.01370476513225668, 0.013640759978607631, 0.01362101550378552, 0.013558652752232501, 0.013499872925361651, 0.013481052813685357, 0.013465934862993292, 0.013429149330103203, 0.013360146683301715, 0.01330237085382717, 0.013249038218118814, 0.013198430488652853, 0.01305063610195531, 0.013033290919686904, 0.013003114158801595, 0.01294166777429766, 0.01288489132485581, 0.012837189486548887, 0.012813785077957888, 0.012763689390379973, 0.01272679450552544, 0.012685322348506745, 0.012624422469548336, 0.012488645959443344, 0.012459861795637505, 0.012350164172141638, 0.012293434048850601, 0.012258087142424087, 0.012206849771277322, 0.012149085362755713, 0.012134765801151972, 0.012104339538335169, 0.012026921232814557, 0.011923489084168877, 0.011875740277258975, 0.0118533337337423, 0.011782768622270293, 0.011746696851945657, 0.011680881721032703, 0.011611928461377393, 0.011556168699006178, 0.011518779501809113, 0.011467548493865214, 0.011427707824027638, 0.011408495690787128, 0.0113694635642001, 0.01135186767205232, 0.011284131571968475, 0.011155388542296463, 0.011126924312410745, 0.011038042585382978, 0.01100576322794895, 0.01099392364865854, 0.010918821401616196, 0.010845433241268397, 0.010799949156869519, 0.010697157337653312, 0.010664796712447333, 0.010645875331999583, 0.010613451165775539, 0.010601750275748579, 0.010574852745146995, 0.010494146464830215, 0.010428158519327446, 0.01041710412984344, 0.010390541843969384, 0.01035529077058445, 0.010252120157930533, 0.010217375840438385, 0.010193786432301453, 0.01018438966020563, 0.010154493645252019, 0.010128155140670992, 0.01009943886828415, 0.01001703206045426, 0.00998630336927043, 0.00996210817425924, 0.009892054245523826, 0.009826412231714956, 0.009790294817712087, 0.009702269901622087, 0.009629707271290196, 0.00959632146753853, 0.0095738732591598, 0.009544233526327432, 0.009467084384909086, 0.00943899070033213, 0.00937090067230795, 0.00934748267057709, 0.00927803769705084, 0.0092421933291564, 0.009217153912213538, 0.009204479987751752, 0.009180737497852655, 0.009142746834163657, 0.009116386508561397, 0.009094693002622669, 0.0090637629060537, 0.009023156867853235, 0.009004872810316525, 0.008920198506670234, 0.008845085588759415, 0.008835398722976031, 0.00879699994057526, 0.008777367631004174, 0.008703413663282969, 0.008640670630651834, 0.008629892000785152, 0.00860156005882998, 0.008524184245307402, 0.008498885991879469, 0.008442056967261078, 0.008421275083147295, 0.008395823600119505, 0.008355464150094107, 0.00833328182110416, 0.008296037795925098, 0.008246805544797429, 0.008230330733024606, 0.008202208855396562, 0.008142714071517768, 0.008127654845567902, 0.008086722759379203, 0.008060326267697402, 0.008025976576587308, 0.008008466894381287, 0.007953336782065334, 0.007940149510102844, 0.00791977667572584, 0.00786512042941923, 0.00782629076277467, 0.007771069891178812, 0.007743420359711752, 0.007729428119225348, 0.007705639401852541, 0.007691441595925661, 0.00768228222951181, 0.007624967943401573, 0.007578303290016053, 0.007563379688795451, 0.007524177498557135, 0.007507552731463393, 0.007497350698401299, 0.0074835311168474986, 0.007474147877045198, 0.007458618237058508, 0.0074465290692375665, 0.007435170557906267, 0.007409424738615716, 0.007392938234889419, 0.007333320859340724, 0.007318135415449808, 0.007286450473034703, 0.007274613810334762, 0.007216583579740322, 0.007202785674923675, 0.007136865620013776, 0.007116115587104056, 0.007102287085891116, 0.007087730987301673, 0.007070514810391788, 0.007048784853585764, 0.0070339265801186, 0.007016311941614455, 0.006992994354008582, 0.0069626569747892825, 0.006939811543559989, 0.006883471490004342, 0.006873436984467308, 0.00685420122142308, 0.006824784991376471, 0.006781959728153089, 0.006767898797644585, 0.006735959508425935, 0.006723332127950994, 0.006711519763388801, 0.006672020311205097, 0.0066507131218951805, 0.006618312252832802, 0.006578719885797431, 0.00657207084483752, 0.006555045131960054, 0.006539938288889299, 0.006484149060005026, 0.006473857419940613, 0.006457713890208176, 0.006444335465077055, 0.006425289863914014, 0.006409533235174273, 0.0063735545442598785, 0.006369688812698135, 0.006355069583750919, 0.006342199304275615, 0.006316247558139011, 0.006261327724457986, 0.006249416586690504, 0.006242124651087999, 0.006219098337085614, 0.006181932467674746, 0.0061662733775859945, 0.006153911503834312, 0.006139285693012932, 0.0061309040438668715, 0.00610296814952116, 0.0060759789629029545, 0.006055667921758925, 0.006043797377967026, 0.00601252455359842, 0.005998101735759403, 0.005984106487541565, 0.005975653191279946, 0.005957686255289591, 0.005952560413829088, 0.005908117368242296, 0.005897402074705874, 0.005876352682001878, 0.00586915516589428, 0.0058600177308111194, 0.005847372958813581, 0.005824018504177091, 0.0057889096939999, 0.005771985170100829, 0.005762785610002007, 0.005750151594865776, 0.005740817582470158, 0.0057230760689605965, 0.0057173907678400365, 0.00570020545812073, 0.00568326233485536, 0.00567669155105121, 0.005669950080766711, 0.005661496834876423, 0.005651151499786955, 0.005635688552915776, 0.005630468148975924, 0.005619526589422884]}, 'validation': {'MultiClass': [1.6759738655551208, 1.3727786176987538, 1.1710921125795186, 1.0117296991747893, 0.8819253843255614, 0.7960253897388037, 0.7164969716130034, 0.6423463581126176, 0.584035721254545, 0.5277155353250909, 0.4878082548817992, 0.4502046875997615, 0.40823362463954116, 0.3783858010822566, 0.3523761404234107, 0.3255063979067249, 0.3000090071725889, 0.27927096501205073, 0.2597647608554508, 0.24188863681193631, 0.2264807763456735, 0.21084780789708585, 0.20022093962341328, 0.1915388737545001, 0.18221874478117941, 0.1706921730421495, 0.16145149515461224, 0.15292664463743666, 0.14480368995932474, 0.13678746142856746, 0.13194954340504414, 0.12657962415216395, 0.12246507546967417, 0.1163443410352466, 0.11164149169848804, 0.10644632610493594, 0.10167265711185253, 0.09876432094087621, 0.09688164905911448, 0.09324905616969803, 0.09086672189265657, 0.08824518245663947, 0.08719225571826603, 0.08437979895008292, 0.08283106176845356, 0.08013377099164934, 0.07850980394227834, 0.07720914381752285, 0.07676929076065603, 0.07474609475374464, 0.07395874454455673, 0.07278482243705989, 0.0716765111873616, 0.06982291853853471, 0.06944212390123854, 0.06870767593148164, 0.0671416088880622, 0.06632900008509725, 0.06591583437917516, 0.06416087175410495, 0.06328225140780597, 0.06259942287669641, 0.061367209061454056, 0.06107439054502801, 0.06040184632273313, 0.06005553761711802, 0.05900687777101723, 0.058365460302586415, 0.057950505490526924, 0.05709833793517183, 0.056314268197265774, 0.05602138697650527, 0.055309653730149906, 0.055114918192521574, 0.054446508471163044, 0.053930344417658115, 0.053770160517757855, 0.05339217565455537, 0.05329546055195963, 0.05295115167573016, 0.0526866370907205, 0.05240673321716466, 0.05200239388139989, 0.05105324631720466, 0.050904171528094136, 0.05086706247949752, 0.050760854769152645, 0.04992530784571066, 0.0497390687556821, 0.049637648066346435, 0.0493023432413394, 0.04863729617810753, 0.04853014066020836, 0.047879322724991555, 0.04737567735643079, 0.04717808928922621, 0.04691531192722713, 0.046920707076125216, 0.046829486718514904, 0.046352986059998436, 0.046225841245696286, 0.046121709278621116, 0.0459178223161855, 0.04577263094746055, 0.04570956548610271, 0.04528153378838913, 0.04528239041103984, 0.04522246998940241, 0.045117566671655826, 0.04478019151168044, 0.04470889474117767, 0.04453467244214202, 0.04445980583102852, 0.04419807765301147, 0.04414231123618377, 0.044188098930632004, 0.044074236921433266, 0.0439685583711549, 0.04395471444253276, 0.04396750832213927, 0.043696503688980204, 0.04363562094740382, 0.04358097688800338, 0.04347157918170477, 0.04340435679386854, 0.04329328215868834, 0.04328426034745027, 0.04325323912033561, 0.04315700738005648, 0.04311888102114429, 0.04313974346243833, 0.043003884481985895, 0.04287115853999997, 0.042507323894991615, 0.04249804180172959, 0.04213565471434071, 0.042143672185017265, 0.042084497182231964, 0.04196216299219814, 0.04170315837355586, 0.041618336250678734, 0.04163016800051366, 0.04120395078657995, 0.04120457726165226, 0.04116725396610017, 0.04111311167799027, 0.041073744068195056, 0.04103741066540011, 0.040900080765294035, 0.04077513644128922, 0.04074700049807067, 0.0406925865789433, 0.040689770298783665, 0.040427136033963564, 0.04028928039620072, 0.04027910391324194, 0.040177182022804556, 0.040144189013612185, 0.04010883427171714, 0.039970054637527466, 0.03998812231820206, 0.03996835888187281, 0.039978881315746506, 0.03999678966009307, 0.03999714230170878, 0.03997032315539629, 0.039885790451956345, 0.039816744006329556, 0.039789065277188576, 0.03980622631360171, 0.03977207607865714, 0.039684593820246555, 0.03970236026270468, 0.039664237808557753, 0.039611109299485955, 0.03962886123066622, 0.03960236300539566, 0.03947206526677785, 0.03944528151269018, 0.03936731655421746, 0.039334191953885496, 0.03933238039570562, 0.03919470488645916, 0.03899876628080485, 0.03898200347231291, 0.03898783282584027, 0.038982220553739094, 0.03892420293357057, 0.03893692495362501, 0.0389692866351333, 0.03894515600564783, 0.03892134626640004, 0.03876941639932147, 0.038805798218177534, 0.038755049435641946, 0.03877992673966773, 0.038708341929843, 0.038709252378073794, 0.03868472229034801, 0.03863435051063203, 0.0386270399741639, 0.038593840541820496, 0.038535151404926, 0.03835401522919913, 0.038322044102267847, 0.038301564519964054, 0.038310535923318643, 0.03830298303520806, 0.03826236282602194, 0.038274402727440586, 0.03819403693919292, 0.03815093055406502, 0.03810375877781583, 0.03804959261309595, 0.03795711126460748, 0.03793906168245793, 0.037952517810410556, 0.03795829323556668, 0.037941546761580854, 0.03795501868136891, 0.03795929382990806, 0.03797525496655266, 0.03793982212516437, 0.037933029939312385, 0.037918483322605855, 0.03788630908190632, 0.037825189840186034, 0.03783979500125032, 0.03785341856768663, 0.03780596218127354, 0.03777934819142098, 0.03776376604442528, 0.037761258996959014, 0.0377436605726341, 0.037748648615573276, 0.03776016407238331, 0.0377548943364804, 0.03767467542331358, 0.03767577622026727, 0.03758586980728191, 0.03758936659192501, 0.03758032713601691, 0.037561863501323144, 0.03755959603346466, 0.0375737034625659, 0.03757812546851846, 0.037518225281800016, 0.03747216674927317, 0.037450551684230185, 0.037458889619313485, 0.0374356056025523, 0.03744329573956778, 0.03744093356038288, 0.03738321505994634, 0.03733234424469866, 0.03735390383555454, 0.03734496768835378, 0.037345581066940504, 0.03733434216848351, 0.03735277294027812, 0.037334024250849245, 0.03728972165107904, 0.03721497055046672, 0.037210028188591086, 0.03717050662451598, 0.03718964296542188, 0.037201903074982653, 0.03711497780512019, 0.03706855440765168, 0.037028032368773306, 0.036962808725670905, 0.036963500339465695, 0.03694806666986152, 0.03696221159455624, 0.03695727143360147, 0.036952252596389554, 0.036852809806410466, 0.03684469068338466, 0.0368588897706302, 0.036870998541136395, 0.03687688595334137, 0.03682375782029924, 0.03684879871908821, 0.03685130894496091, 0.03686506528757717, 0.03687760720005857, 0.036880299993389876, 0.03687579950132665, 0.036821577788041904, 0.03683340751607582, 0.03681987986420924, 0.03672249941515526, 0.03666031208169877, 0.03667184908893715, 0.03658141554480582, 0.03654264187834323, 0.03656778130666503, 0.03658354320075894, 0.03658244860970795, 0.03657429827004592, 0.03657107095466263, 0.03647689967948478, 0.036493164874293126, 0.03647045989445223, 0.036443617376570425, 0.03644321817709886, 0.03642153133735161, 0.03641820791120026, 0.03641850856848075, 0.03642525019290458, 0.036433000039028905, 0.036428568940083624, 0.03643897807665703, 0.03641627382042135, 0.0363391569885117, 0.03623175064654501, 0.036240889484620856, 0.03624601917303583, 0.036249737608454555, 0.0362178336161579, 0.03622107116868692, 0.036228134034685416, 0.03621694231306923, 0.036188886975786025, 0.036199595792576894, 0.03613269883761629, 0.03614502351603733, 0.036155183466718775, 0.03614006015219693, 0.03615528912908545, 0.03614780928186173, 0.03612849234485587, 0.036116138425986384, 0.036129236854875534, 0.03609047177043062, 0.03609776053762059, 0.03611007677205356, 0.03610525254907936, 0.03610700472597163, 0.03611070117701113, 0.03610770729589522, 0.036126709013867955, 0.03613616182727544, 0.03612181752641276, 0.036131494413014165, 0.03609178844903802, 0.03608724273789008, 0.036092870874179735, 0.036109741335789446, 0.03611733568994346, 0.03611507430197016, 0.0360604824271378, 0.03604407899750219, 0.03604231954459142, 0.03599612243802023, 0.036003650559696766, 0.03601237991795765, 0.036024885412899985, 0.03603090652257821, 0.03603575200818194, 0.03605120604482473, 0.03606187589980071, 0.0360639565061378, 0.036063320618895195, 0.03601303275953931, 0.03603107369024272, 0.036011133039825644, 0.036018815846752796, 0.03597278744465041, 0.03599565020123441, 0.03596100552474591, 0.03598078792790862, 0.03598195286773988, 0.03597535525256508, 0.035995450172135506, 0.03598211027919829, 0.03598675860016363, 0.035996941642822404, 0.03598054282615845, 0.03597171527369334, 0.03594811108160796, 0.035929647549814946, 0.0359321594642982, 0.035931326355669146, 0.035930998122367885, 0.0359157542314036, 0.03592956924360678, 0.03589665070086434, 0.035901741847098094, 0.03590170525366457, 0.035869277142969544, 0.035860574110223024, 0.03586657417306583, 0.035839323218926085, 0.03585476871515673, 0.03584350153002699, 0.03583955070303883, 0.03580653871194723, 0.03580814686086434, 0.035797512082515026, 0.03580785666080527, 0.03581201213011868, 0.035808666111600315, 0.03575580503505133, 0.03575484996009407, 0.035778190624471726, 0.03576780703721896, 0.03577964541764994, 0.035772526602406915, 0.035769419580775695, 0.03577596852278219, 0.035790275239108015, 0.035765353240433694, 0.03577140249712482, 0.035768794180793144, 0.03577629944042337, 0.03576863053104794, 0.035774076857844735, 0.03578898624973182, 0.035768683230976095, 0.03578814974154981, 0.03579702980643392, 0.0358019237577177, 0.0358123610578517, 0.035811811907221956, 0.03581951518797684, 0.035820912360893124, 0.03581417298515075, 0.03580589768962178, 0.03580440691993866, 0.03580824161963379, 0.03581743595710191, 0.03581925597760208, 0.035821568077622906, 0.03580055653674863, 0.03579432249983834, 0.03579601422330048, 0.03579357126510672, 0.035806148535742814, 0.03579267239920423, 0.035795177935965816, 0.03580815769345776, 0.03579488070451933, 0.035790786543374226, 0.035785702627548266, 0.0357881893229067, 0.03579734038700221, 0.03579980706356653, 0.03579804944445297, 0.035802295741564585]}}\n"
          ]
        }
      ]
    },
    {
      "cell_type": "code",
      "source": [
        "# Retrieve evaluation results\n",
        "learning_curve = final_model.get_evals_result()\n",
        "\n",
        "# Extract the metric values\n",
        "# Assuming 'learn' corresponds to the training dataset\n",
        "train_metric_values = learning_curve.get('learn', {}).get('MultiClass', [])\n",
        "\n",
        "# Check the extracted values\n",
        "if train_metric_values:\n",
        "    print(\"Training metric values:\", train_metric_values)\n",
        "else:\n",
        "    print(\"Metric 'MultiClass' not found in evaluation results.\")\n"
      ],
      "metadata": {
        "id": "3baCXa2jGafB",
        "colab": {
          "base_uri": "https://localhost:8080/"
        },
        "outputId": "68ba54f7-c0e7-48ef-ec10-669c41fca641"
      },
      "id": "3baCXa2jGafB",
      "execution_count": null,
      "outputs": [
        {
          "output_type": "stream",
          "name": "stdout",
          "text": [
            "Training metric values: [1.6973068768121264, 1.3843962848251317, 1.1845512754981213, 1.0218108195889122, 0.8896038427372787, 0.8019775970189543, 0.7206214617078744, 0.6481756978084466, 0.5899000749519397, 0.5329113361520543, 0.4917496001411856, 0.4531145695638629, 0.4110900124480347, 0.37925167234300156, 0.3519992403470263, 0.3237618854054932, 0.29761746269355677, 0.2772156480298793, 0.2574160548596129, 0.23908991228006118, 0.22338466222768114, 0.20750802346568992, 0.19637032026777743, 0.18704045640874667, 0.1772507460943524, 0.16569219398621132, 0.15671436801025876, 0.1482294653874639, 0.13998979197977046, 0.13188771539365013, 0.12657254188587927, 0.120784147031756, 0.11628938581274759, 0.11017242451612674, 0.10514911846857056, 0.10004370601025533, 0.09528870889406499, 0.09227435352788509, 0.09014258270977235, 0.0865128087639533, 0.08390030696059793, 0.08119185643981476, 0.07978229247574754, 0.07692014550375047, 0.07497160616974392, 0.07218118451364645, 0.07048479390563002, 0.06918431912996849, 0.06841972304351279, 0.0662529217189533, 0.06518215366923193, 0.06379175308882162, 0.06253846731657005, 0.060630187379960676, 0.06008971287345328, 0.05914024703590382, 0.05749949149725159, 0.05649031684309885, 0.055918879844319806, 0.054183020203074715, 0.05328731623572126, 0.05241815205090999, 0.05098370264498409, 0.05051475937388745, 0.04975772852656161, 0.04924338458793817, 0.047901067175352884, 0.04714507472448745, 0.046496968861250425, 0.04572215800231683, 0.04469300873135808, 0.044351053523837454, 0.04360205006650126, 0.0432704425205489, 0.042507405377679816, 0.04179313424325333, 0.041497304393555735, 0.0409668984638735, 0.04069236416513055, 0.04021783035416162, 0.039743023470226506, 0.03935080628320919, 0.03883846834688521, 0.03790178951206832, 0.03753838969153867, 0.03734007879168097, 0.03704919683440142, 0.03623977833315156, 0.03593160739188164, 0.0356499173618093, 0.035010849494932966, 0.034249650012320755, 0.03404963176860856, 0.033301125654403074, 0.0327040164874628, 0.032394660213008, 0.032100876108045295, 0.032043197133971114, 0.03186811432626864, 0.03137038041580334, 0.031091689068369302, 0.030861886066332365, 0.03050190752735515, 0.030227121758510823, 0.029903850317950807, 0.029492505075732544, 0.029445660374544668, 0.029281081788134305, 0.029074957453946827, 0.028652035083738505, 0.028384963290034777, 0.028069774022851015, 0.027784721546707483, 0.027328538837731172, 0.027111125082170322, 0.02700927080351871, 0.026790531003886196, 0.026536624421411987, 0.026350600988810053, 0.0263054368192487, 0.025983767329994953, 0.025793155862168727, 0.0256146882642555, 0.02539723238108625, 0.02526976389485049, 0.02504444008697079, 0.02500060952638755, 0.024853486324855994, 0.024635643940207848, 0.024529273753746788, 0.024478495575485818, 0.02423854765785263, 0.0241051141753728, 0.023734764779908442, 0.023546250488314626, 0.023224674084087432, 0.023098307995229495, 0.02301351531069584, 0.022754413338228936, 0.022477318326317615, 0.022270990168698712, 0.02224083109998241, 0.021885267550929954, 0.021747907654309683, 0.021568894560315466, 0.021421091887132343, 0.02126711655625678, 0.0211312796688385, 0.020990519289815643, 0.02082089983469804, 0.020684274495196803, 0.020551409955317894, 0.02044843101598514, 0.020211880204432327, 0.019962388980032227, 0.01983747489505651, 0.01965400371234216, 0.019518435231247955, 0.019391820895163985, 0.01922783266490816, 0.019191917292138726, 0.01908185512874898, 0.01905653802870545, 0.01898563193096206, 0.01895745742436247, 0.018830538817093834, 0.01871265067671817, 0.018548918598770437, 0.018429131432544363, 0.018333163284824233, 0.018148981967617158, 0.01803217712676026, 0.0179609375212124, 0.017834540068117386, 0.01772318790759146, 0.017628818240807358, 0.017535801320426255, 0.01732538337421948, 0.017166845435558655, 0.01699371395580143, 0.01687716723599184, 0.016808749053334494, 0.0166894743558141, 0.01646828696147164, 0.01641777184337921, 0.01639813064279575, 0.016318393714642773, 0.016272044773306044, 0.01620099849100442, 0.016152831356822862, 0.01607292358388502, 0.01601725623157462, 0.015771993383293274, 0.01572644115428713, 0.015589044305078533, 0.01551917080684079, 0.01540795858131055, 0.01537748279692259, 0.015289065391177352, 0.015237678215186165, 0.015169586077132006, 0.015111113410208566, 0.01500953348032799, 0.014820906486452472, 0.014727449088292516, 0.014641201018195216, 0.01454325540983219, 0.014464384620876292, 0.014360992292407426, 0.014304998894791828, 0.014127803782556552, 0.014048111663152668, 0.013948805579315013, 0.013853843570834875, 0.01370476513225668, 0.013640759978607631, 0.01362101550378552, 0.013558652752232501, 0.013499872925361651, 0.013481052813685357, 0.013465934862993292, 0.013429149330103203, 0.013360146683301715, 0.01330237085382717, 0.013249038218118814, 0.013198430488652853, 0.01305063610195531, 0.013033290919686904, 0.013003114158801595, 0.01294166777429766, 0.01288489132485581, 0.012837189486548887, 0.012813785077957888, 0.012763689390379973, 0.01272679450552544, 0.012685322348506745, 0.012624422469548336, 0.012488645959443344, 0.012459861795637505, 0.012350164172141638, 0.012293434048850601, 0.012258087142424087, 0.012206849771277322, 0.012149085362755713, 0.012134765801151972, 0.012104339538335169, 0.012026921232814557, 0.011923489084168877, 0.011875740277258975, 0.0118533337337423, 0.011782768622270293, 0.011746696851945657, 0.011680881721032703, 0.011611928461377393, 0.011556168699006178, 0.011518779501809113, 0.011467548493865214, 0.011427707824027638, 0.011408495690787128, 0.0113694635642001, 0.01135186767205232, 0.011284131571968475, 0.011155388542296463, 0.011126924312410745, 0.011038042585382978, 0.01100576322794895, 0.01099392364865854, 0.010918821401616196, 0.010845433241268397, 0.010799949156869519, 0.010697157337653312, 0.010664796712447333, 0.010645875331999583, 0.010613451165775539, 0.010601750275748579, 0.010574852745146995, 0.010494146464830215, 0.010428158519327446, 0.01041710412984344, 0.010390541843969384, 0.01035529077058445, 0.010252120157930533, 0.010217375840438385, 0.010193786432301453, 0.01018438966020563, 0.010154493645252019, 0.010128155140670992, 0.01009943886828415, 0.01001703206045426, 0.00998630336927043, 0.00996210817425924, 0.009892054245523826, 0.009826412231714956, 0.009790294817712087, 0.009702269901622087, 0.009629707271290196, 0.00959632146753853, 0.0095738732591598, 0.009544233526327432, 0.009467084384909086, 0.00943899070033213, 0.00937090067230795, 0.00934748267057709, 0.00927803769705084, 0.0092421933291564, 0.009217153912213538, 0.009204479987751752, 0.009180737497852655, 0.009142746834163657, 0.009116386508561397, 0.009094693002622669, 0.0090637629060537, 0.009023156867853235, 0.009004872810316525, 0.008920198506670234, 0.008845085588759415, 0.008835398722976031, 0.00879699994057526, 0.008777367631004174, 0.008703413663282969, 0.008640670630651834, 0.008629892000785152, 0.00860156005882998, 0.008524184245307402, 0.008498885991879469, 0.008442056967261078, 0.008421275083147295, 0.008395823600119505, 0.008355464150094107, 0.00833328182110416, 0.008296037795925098, 0.008246805544797429, 0.008230330733024606, 0.008202208855396562, 0.008142714071517768, 0.008127654845567902, 0.008086722759379203, 0.008060326267697402, 0.008025976576587308, 0.008008466894381287, 0.007953336782065334, 0.007940149510102844, 0.00791977667572584, 0.00786512042941923, 0.00782629076277467, 0.007771069891178812, 0.007743420359711752, 0.007729428119225348, 0.007705639401852541, 0.007691441595925661, 0.00768228222951181, 0.007624967943401573, 0.007578303290016053, 0.007563379688795451, 0.007524177498557135, 0.007507552731463393, 0.007497350698401299, 0.0074835311168474986, 0.007474147877045198, 0.007458618237058508, 0.0074465290692375665, 0.007435170557906267, 0.007409424738615716, 0.007392938234889419, 0.007333320859340724, 0.007318135415449808, 0.007286450473034703, 0.007274613810334762, 0.007216583579740322, 0.007202785674923675, 0.007136865620013776, 0.007116115587104056, 0.007102287085891116, 0.007087730987301673, 0.007070514810391788, 0.007048784853585764, 0.0070339265801186, 0.007016311941614455, 0.006992994354008582, 0.0069626569747892825, 0.006939811543559989, 0.006883471490004342, 0.006873436984467308, 0.00685420122142308, 0.006824784991376471, 0.006781959728153089, 0.006767898797644585, 0.006735959508425935, 0.006723332127950994, 0.006711519763388801, 0.006672020311205097, 0.0066507131218951805, 0.006618312252832802, 0.006578719885797431, 0.00657207084483752, 0.006555045131960054, 0.006539938288889299, 0.006484149060005026, 0.006473857419940613, 0.006457713890208176, 0.006444335465077055, 0.006425289863914014, 0.006409533235174273, 0.0063735545442598785, 0.006369688812698135, 0.006355069583750919, 0.006342199304275615, 0.006316247558139011, 0.006261327724457986, 0.006249416586690504, 0.006242124651087999, 0.006219098337085614, 0.006181932467674746, 0.0061662733775859945, 0.006153911503834312, 0.006139285693012932, 0.0061309040438668715, 0.00610296814952116, 0.0060759789629029545, 0.006055667921758925, 0.006043797377967026, 0.00601252455359842, 0.005998101735759403, 0.005984106487541565, 0.005975653191279946, 0.005957686255289591, 0.005952560413829088, 0.005908117368242296, 0.005897402074705874, 0.005876352682001878, 0.00586915516589428, 0.0058600177308111194, 0.005847372958813581, 0.005824018504177091, 0.0057889096939999, 0.005771985170100829, 0.005762785610002007, 0.005750151594865776, 0.005740817582470158, 0.0057230760689605965, 0.0057173907678400365, 0.00570020545812073, 0.00568326233485536, 0.00567669155105121, 0.005669950080766711, 0.005661496834876423, 0.005651151499786955, 0.005635688552915776, 0.005630468148975924, 0.005619526589422884]\n"
          ]
        }
      ]
    },
    {
      "cell_type": "code",
      "source": [
        "import matplotlib.pyplot as plt\n",
        "\n",
        "# Plotting the learning curve\n",
        "plt.plot(train_metric_values, label='Training MultiClass Metric')\n",
        "plt.xlabel('Iterations')\n",
        "plt.ylabel('Metric Value')\n",
        "plt.title('Learning Curve')\n",
        "plt.legend()\n",
        "plt.grid()\n",
        "plt.show()\n"
      ],
      "metadata": {
        "id": "p0vioY6FGjQb",
        "colab": {
          "base_uri": "https://localhost:8080/",
          "height": 472
        },
        "outputId": "4b19ff5f-3fd0-4480-b4dd-4c8911121421"
      },
      "id": "p0vioY6FGjQb",
      "execution_count": null,
      "outputs": [
        {
          "output_type": "display_data",
          "data": {
            "text/plain": [
              "<Figure size 640x480 with 1 Axes>"
            ],
            "image/png": "[encoded data removed]"
          },
          "metadata": {}
        }
      ]
    },
    {
      "cell_type": "code",
      "source": [
        "# Predictions\n",
        "y_pred_train = final_model.predict(X_train)\n",
        "y_pred_test = final_model.predict(X_test)\n",
        "\n",
        "print(\"Classification Report - Training Set:\")\n",
        "print(classification_report(y_train, y_pred_train))\n",
        "\n",
        "print(\"Classification Report - Test Set:\")\n",
        "print(classification_report(y_test, y_pred_test))\n",
        "\n",
        "conf_matrix_train = confusion_matrix(y_train, y_pred_train)\n",
        "conf_matrix_test = confusion_matrix(y_test, y_pred_test)\n",
        "\n",
        "plt.figure(figsize=(15, 5))\n",
        "\n",
        "plt.subplot(1, 3, 1)\n",
        "sns.heatmap(conf_matrix_train, annot=True, fmt=\"d\", cmap=\"Blues\", cbar=False)\n",
        "plt.title(\"Confusion Matrix - Training Set\")\n",
        "plt.xlabel(\"Predicted\")\n",
        "plt.ylabel(\"True\")\n",
        "\n",
        "plt.subplot(1, 3, 2)\n",
        "sns.heatmap(conf_matrix_test, annot=True, fmt=\"d\", cmap=\"Blues\", cbar=False)\n",
        "plt.title(\"Confusion Matrix - Test Set\")\n",
        "plt.xlabel(\"Predicted\")\n",
        "plt.ylabel(\"True\")\n",
        "\n",
        "plt.tight_layout()\n",
        "plt.savefig('C-Matrix.svg', format='svg')\n",
        "plt.show()\n",
        "\n",
        "end_time = datetime.now()\n",
        "print('Deployment Duration: {}'.format(end_time - start_time))"
      ],
      "metadata": {
        "id": "EGySyu_OHNqG",
        "colab": {
          "base_uri": "https://localhost:8080/",
          "height": 1000
        },
        "outputId": "322ffa45-e75f-4429-8106-6321fa1d9461"
      },
      "id": "EGySyu_OHNqG",
      "execution_count": null,
      "outputs": [
        {
          "output_type": "stream",
          "name": "stdout",
          "text": [
            "Classification Report - Training Set:\n",
            "              precision    recall  f1-score   support\n",
            "\n",
            "         111       1.00      1.00      1.00       143\n",
            "         124       1.00      1.00      1.00       149\n",
            "         137       1.00      1.00      1.00       132\n",
            "         176       1.00      1.00      1.00       141\n",
            "         191       1.00      1.00      1.00       150\n",
            "         203       1.00      1.00      1.00       131\n",
            "         215       1.00      1.00      1.00       137\n",
            "         228       1.00      1.00      1.00       136\n",
            "         240       1.00      1.00      1.00       137\n",
            "\n",
            "    accuracy                           1.00      1256\n",
            "   macro avg       1.00      1.00      1.00      1256\n",
            "weighted avg       1.00      1.00      1.00      1256\n",
            "\n",
            "Classification Report - Test Set:\n",
            "              precision    recall  f1-score   support\n",
            "\n",
            "         111       1.00      1.00      1.00        30\n",
            "         124       1.00      1.00      1.00        35\n",
            "         137       1.00      1.00      1.00        35\n",
            "         176       1.00      1.00      1.00        27\n",
            "         191       1.00      1.00      1.00        32\n",
            "         203       1.00      0.97      0.99        39\n",
            "         215       1.00      1.00      1.00        38\n",
            "         228       1.00      1.00      1.00        36\n",
            "         240       0.98      1.00      0.99        42\n",
            "\n",
            "    accuracy                           1.00       314\n",
            "   macro avg       1.00      1.00      1.00       314\n",
            "weighted avg       1.00      1.00      1.00       314\n",
            "\n"
          ]
        },
        {
          "output_type": "display_data",
          "data": {
            "text/plain": [
              "<Figure size 1500x500 with 2 Axes>"
            ],
            "image/png": "[encoded data removed]"
          },
          "metadata": {}
        },
        {
          "output_type": "stream",
          "name": "stdout",
          "text": [
            "Deployment Duration: 0:15:41.195969\n"
          ]
        }
      ]
    },
    {
      "cell_type": "code",
      "source": [
        "final_model.fit(X_train, y_train, eval_set=(X_test, y_test))\n",
        "\n",
        "# Evaluate train accuracy\n",
        "result_train = final_model.score(X_train, y_train)\n",
        "print(\"Train Accuracy : {}\".format(result_train))\n",
        "\n",
        "# Evaluate test accuracy\n",
        "result_test = final_model.score(X_test, y_test)\n",
        "print(\"Test Accuracy : {}\".format(result_test))\n",
        "\n",
        "# Predictions\n",
        "y_pred_train = final_model.predict(X_train)\n",
        "y_pred_test = final_model.predict(X_test)\n",
        "\n",
        "# Classification report\n",
        "print(\"Classification Report - Training Set:\")\n",
        "print(classification_report(y_train, y_pred_train))\n",
        "\n",
        "print(\"Classification Report - Test Set:\")\n",
        "print(classification_report(y_test, y_pred_test))"
      ],
      "metadata": {
        "id": "tEOwmxFROH5f",
        "colab": {
          "base_uri": "https://localhost:8080/"
        },
        "outputId": "f76a149e-04a3-4efe-cc08-80dd78e51ef8"
      },
      "id": "tEOwmxFROH5f",
      "execution_count": null,
      "outputs": [
        {
          "output_type": "stream",
          "name": "stdout",
          "text": [
            "0:\tlearn: 1.6973069\ttest: 1.6759739\tbest: 1.6759739 (0)\ttotal: 27.1ms\tremaining: 12.2s\n",
            "10:\tlearn: 0.4917496\ttest: 0.4878083\tbest: 0.4878083 (10)\ttotal: 392ms\tremaining: 15.7s\n",
            "20:\tlearn: 0.2233847\ttest: 0.2264808\tbest: 0.2264808 (20)\ttotal: 661ms\tremaining: 13.5s\n",
            "30:\tlearn: 0.1265725\ttest: 0.1319495\tbest: 0.1319495 (30)\ttotal: 937ms\tremaining: 12.7s\n",
            "40:\tlearn: 0.0839003\ttest: 0.0908667\tbest: 0.0908667 (40)\ttotal: 1.18s\tremaining: 11.7s\n",
            "50:\tlearn: 0.0651822\ttest: 0.0739587\tbest: 0.0739587 (50)\ttotal: 1.48s\tremaining: 11.6s\n",
            "60:\tlearn: 0.0532873\ttest: 0.0632823\tbest: 0.0632823 (60)\ttotal: 1.73s\tremaining: 11.1s\n",
            "70:\tlearn: 0.0446930\ttest: 0.0563143\tbest: 0.0563143 (70)\ttotal: 1.98s\tremaining: 10.6s\n",
            "80:\tlearn: 0.0397430\ttest: 0.0526866\tbest: 0.0526866 (80)\ttotal: 2.24s\tremaining: 10.2s\n",
            "90:\tlearn: 0.0350108\ttest: 0.0493023\tbest: 0.0493023 (90)\ttotal: 2.54s\tremaining: 10s\n",
            "100:\tlearn: 0.0310917\ttest: 0.0462258\tbest: 0.0462258 (100)\ttotal: 2.84s\tremaining: 9.82s\n",
            "110:\tlearn: 0.0283850\ttest: 0.0447089\tbest: 0.0447089 (110)\ttotal: 3.19s\tremaining: 9.73s\n",
            "120:\tlearn: 0.0259838\ttest: 0.0436965\tbest: 0.0436965 (120)\ttotal: 3.55s\tremaining: 9.65s\n",
            "130:\tlearn: 0.0244785\ttest: 0.0431397\tbest: 0.0431189 (129)\ttotal: 3.84s\tremaining: 9.36s\n",
            "140:\tlearn: 0.0222710\ttest: 0.0416183\tbest: 0.0416183 (140)\ttotal: 4.14s\tremaining: 9.06s\n",
            "150:\tlearn: 0.0206843\ttest: 0.0407470\tbest: 0.0407470 (150)\ttotal: 4.38s\tremaining: 8.67s\n",
            "160:\tlearn: 0.0191919\ttest: 0.0399881\tbest: 0.0399701 (159)\ttotal: 4.92s\tremaining: 8.83s\n",
            "170:\tlearn: 0.0181490\ttest: 0.0397721\tbest: 0.0397721 (170)\ttotal: 5.5s\tremaining: 8.98s\n",
            "180:\tlearn: 0.0168772\ttest: 0.0393342\tbest: 0.0393342 (180)\ttotal: 5.94s\tremaining: 8.83s\n",
            "190:\tlearn: 0.0160729\ttest: 0.0389452\tbest: 0.0389242 (187)\ttotal: 6.29s\tremaining: 8.52s\n",
            "200:\tlearn: 0.0151696\ttest: 0.0386270\tbest: 0.0386270 (200)\ttotal: 6.53s\tremaining: 8.09s\n",
            "210:\tlearn: 0.0141278\ttest: 0.0381940\tbest: 0.0381940 (210)\ttotal: 6.79s\tremaining: 7.7s\n",
            "220:\tlearn: 0.0134659\ttest: 0.0379593\tbest: 0.0379391 (215)\ttotal: 7.06s\tremaining: 7.32s\n",
            "230:\tlearn: 0.0128849\ttest: 0.0377793\tbest: 0.0377793 (230)\ttotal: 7.42s\tremaining: 7.04s\n",
            "240:\tlearn: 0.0122934\ttest: 0.0375894\tbest: 0.0375859 (239)\ttotal: 7.69s\tremaining: 6.67s\n",
            "250:\tlearn: 0.0117828\ttest: 0.0374356\tbest: 0.0374356 (250)\ttotal: 7.96s\tremaining: 6.31s\n",
            "260:\tlearn: 0.0113519\ttest: 0.0373340\tbest: 0.0373323 (254)\ttotal: 8.52s\tremaining: 6.17s\n",
            "270:\tlearn: 0.0106972\ttest: 0.0369628\tbest: 0.0369628 (270)\ttotal: 9.04s\tremaining: 5.97s\n",
            "280:\tlearn: 0.0103553\ttest: 0.0368769\tbest: 0.0368447 (277)\ttotal: 9.79s\tremaining: 5.89s\n",
            "290:\tlearn: 0.0099621\ttest: 0.0368199\tbest: 0.0368199 (290)\ttotal: 10.3s\tremaining: 5.6s\n",
            "300:\tlearn: 0.0094390\ttest: 0.0365711\tbest: 0.0365426 (295)\ttotal: 10.8s\tremaining: 5.35s\n",
            "310:\tlearn: 0.0090947\ttest: 0.0364330\tbest: 0.0364182 (307)\ttotal: 11.4s\tremaining: 5.09s\n",
            "320:\tlearn: 0.0086407\ttest: 0.0362211\tbest: 0.0362178 (319)\ttotal: 12s\tremaining: 4.83s\n",
            "330:\tlearn: 0.0082960\ttest: 0.0361478\tbest: 0.0361327 (325)\ttotal: 12.5s\tremaining: 4.48s\n",
            "340:\tlearn: 0.0079533\ttest: 0.0361077\tbest: 0.0360905 (334)\ttotal: 12.8s\tremaining: 4.1s\n",
            "350:\tlearn: 0.0076823\ttest: 0.0361151\tbest: 0.0360872 (346)\ttotal: 13.1s\tremaining: 3.69s\n",
            "360:\tlearn: 0.0074465\ttest: 0.0360512\tbest: 0.0359961 (354)\ttotal: 13.4s\tremaining: 3.29s\n",
            "370:\tlearn: 0.0071369\ttest: 0.0359610\tbest: 0.0359610 (370)\ttotal: 13.7s\tremaining: 2.91s\n",
            "380:\tlearn: 0.0069398\ttest: 0.0359481\tbest: 0.0359481 (380)\ttotal: 14s\tremaining: 2.54s\n",
            "390:\tlearn: 0.0066720\ttest: 0.0358693\tbest: 0.0358693 (390)\ttotal: 14.4s\tremaining: 2.17s\n",
            "400:\tlearn: 0.0064443\ttest: 0.0358079\tbest: 0.0357975 (399)\ttotal: 14.7s\tremaining: 1.8s\n",
            "410:\tlearn: 0.0062421\ttest: 0.0357760\tbest: 0.0357548 (404)\ttotal: 15s\tremaining: 1.42s\n",
            "420:\tlearn: 0.0060438\ttest: 0.0357881\tbest: 0.0357548 (404)\ttotal: 15.2s\tremaining: 1.05s\n",
            "430:\tlearn: 0.0058692\ttest: 0.0358082\tbest: 0.0357548 (404)\ttotal: 15.5s\tremaining: 682ms\n",
            "440:\tlearn: 0.0057174\ttest: 0.0357952\tbest: 0.0357548 (404)\ttotal: 15.7s\tremaining: 321ms\n",
            "449:\tlearn: 0.0056195\ttest: 0.0358023\tbest: 0.0357548 (404)\ttotal: 16s\tremaining: 0us\n",
            "\n",
            "bestTest = 0.03575484996\n",
            "bestIteration = 404\n",
            "\n",
            "Shrink model to first 405 iterations.\n",
            "Train Accuracy : 1.0\n",
            "Test Accuracy : 0.9968152866242038\n",
            "Classification Report - Training Set:\n",
            "              precision    recall  f1-score   support\n",
            "\n",
            "         111       1.00      1.00      1.00       143\n",
            "         124       1.00      1.00      1.00       149\n",
            "         137       1.00      1.00      1.00       132\n",
            "         176       1.00      1.00      1.00       141\n",
            "         191       1.00      1.00      1.00       150\n",
            "         203       1.00      1.00      1.00       131\n",
            "         215       1.00      1.00      1.00       137\n",
            "         228       1.00      1.00      1.00       136\n",
            "         240       1.00      1.00      1.00       137\n",
            "\n",
            "    accuracy                           1.00      1256\n",
            "   macro avg       1.00      1.00      1.00      1256\n",
            "weighted avg       1.00      1.00      1.00      1256\n",
            "\n",
            "Classification Report - Test Set:\n",
            "              precision    recall  f1-score   support\n",
            "\n",
            "         111       1.00      1.00      1.00        30\n",
            "         124       1.00      1.00      1.00        35\n",
            "         137       1.00      1.00      1.00        35\n",
            "         176       1.00      1.00      1.00        27\n",
            "         191       1.00      1.00      1.00        32\n",
            "         203       1.00      0.97      0.99        39\n",
            "         215       1.00      1.00      1.00        38\n",
            "         228       1.00      1.00      1.00        36\n",
            "         240       0.98      1.00      0.99        42\n",
            "\n",
            "    accuracy                           1.00       314\n",
            "   macro avg       1.00      1.00      1.00       314\n",
            "weighted avg       1.00      1.00      1.00       314\n",
            "\n"
          ]
        }
      ]
    }
  ],
  "metadata": {
    "kernelspec": {
      "display_name": "Python 3",
      "name": "python3"
    },
    "language_info": {
      "codemirror_mode": {
        "name": "ipython",
        "version": 3
      },
      "file_extension": ".py",
      "mimetype": "text/x-python",
      "name": "python",
      "nbconvert_exporter": "python",
      "pygments_lexer": "ipython3",
      "version": "3.11.2"
    },
    "colab": {
      "provenance": [],
      "gpuType": "T4",
      "include_colab_link": true
    },
    "accelerator": "GPU",
    "widgets": {
      "application/vnd.jupyter.widget-state+json": {
        "575da4fb3e7b41519b5cbd0287241c56": {
          "model_module": "catboost-widget",
          "model_name": "CatboostWidgetModel",
          "model_module_version": "^1.0.0",
          "state": {
            "_dom_classes": [],
            "_model_module": "catboost-widget",
            "_model_module_version": "^1.0.0",
            "_model_name": "CatboostWidgetModel",
            "_view_count": null,
            "_view_module": "catboost-widget",
            "_view_module_version": "^1.0.0",
            "_view_name": "CatboostWidgetView",
            "data": {
              "catboost_info": {
                "path": "catboost_info",
                "name": "catboost_info",
                "content": {
                  "passed_iterations": 449,
                  "total_iterations": 450,
                  "data": {
                    "iterations": [
                      {
                        "learn": [
                          1.697306877
                        ],
                        "iteration": 0,
                        "passed_time": 0.01624957126,
                        "remaining_time": 7.296057496,
                        "test": [
                          1.675973866
                        ]
                      },
                      {
                        "learn": [
                          1.384396285
                        ],
                        "iteration": 1,
                        "passed_time": 0.2176029914,
                        "remaining_time": 48.74307007,
                        "test": [
                          1.372778618
                        ]
                      },
                      {
                        "learn": [
                          1.184551275
                        ],
                        "iteration": 2,
                        "passed_time": 0.2358244363,
                        "remaining_time": 35.13784101,
                        "test": [
                          1.171092113
                        ]
                      },
                      {
                        "learn": [
                          1.02181082
                        ],
                        "iteration": 3,
                        "passed_time": 0.2466225711,
                        "remaining_time": 27.49841668,
                        "test": [
                          1.011729699
                        ]
                      },
                      {
                        "learn": [
                          0.8896038427
                        ],
                        "iteration": 4,
                        "passed_time": 0.2570799356,
                        "remaining_time": 22.88011427,
                        "test": [
                          0.8819253843
                        ]
                      },
                      {
                        "learn": [
                          0.801977597
                        ],
                        "iteration": 5,
                        "passed_time": 0.2683767045,
                        "remaining_time": 19.85987614,
                        "test": [
                          0.7960253897
                        ]
                      },
                      {
                        "learn": [
                          0.7206214617
                        ],
                        "iteration": 6,
                        "passed_time": 0.2797306499,
                        "remaining_time": 17.70295399,
                        "test": [
                          0.7164969716
                        ]
                      },
                      {
                        "learn": [
                          0.6481756978
                        ],
                        "iteration": 7,
                        "passed_time": 0.2904548355,
                        "remaining_time": 16.04762966,
                        "test": [
                          0.6423463581
                        ]
                      },
                      {
                        "learn": [
                          0.589900075
                        ],
                        "iteration": 8,
                        "passed_time": 0.3008394927,
                        "remaining_time": 14.74113514,
                        "test": [
                          0.5840357213
                        ]
                      },
                      {
                        "learn": [
                          0.5329113362
                        ],
                        "iteration": 9,
                        "passed_time": 0.311217809,
                        "remaining_time": 13.69358359,
                        "test": [
                          0.5277155353
                        ]
                      },
                      {
                        "learn": [
                          0.4917496001
                        ],
                        "iteration": 10,
                        "passed_time": 0.3234470235,
                        "remaining_time": 12.90847666,
                        "test": [
                          0.4878082549
                        ]
                      },
                      {
                        "learn": [
                          0.4531145696
                        ],
                        "iteration": 11,
                        "passed_time": 0.3342855875,
                        "remaining_time": 12.20142394,
                        "test": [
                          0.4502046876
                        ]
                      },
                      {
                        "learn": [
                          0.4110900124
                        ],
                        "iteration": 12,
                        "passed_time": 0.3447135123,
                        "remaining_time": 11.5876773,
                        "test": [
                          0.4082336246
                        ]
                      },
                      {
                        "learn": [
                          0.3792516723
                        ],
                        "iteration": 13,
                        "passed_time": 0.3551724829,
                        "remaining_time": 11.0610859,
                        "test": [
                          0.3783858011
                        ]
                      },
                      {
                        "learn": [
                          0.3519992403
                        ],
                        "iteration": 14,
                        "passed_time": 0.3659389601,
                        "remaining_time": 10.61222984,
                        "test": [
                          0.3523761404
                        ]
                      },
                      {
                        "learn": [
                          0.3237618854
                        ],
                        "iteration": 15,
                        "passed_time": 0.3761943231,
                        "remaining_time": 10.20427101,
                        "test": [
                          0.3255063979
                        ]
                      },
                      {
                        "learn": [
                          0.2976174627
                        ],
                        "iteration": 16,
                        "passed_time": 0.386693392,
                        "remaining_time": 9.849308161,
                        "test": [
                          0.3000090072
                        ]
                      },
                      {
                        "learn": [
                          0.277215648
                        ],
                        "iteration": 17,
                        "passed_time": 0.3972427427,
                        "remaining_time": 9.533825826,
                        "test": [
                          0.279270965
                        ]
                      },
                      {
                        "learn": [
                          0.2574160549
                        ],
                        "iteration": 18,
                        "passed_time": 0.4082199863,
                        "remaining_time": 9.260148111,
                        "test": [
                          0.2597647609
                        ]
                      },
                      {
                        "learn": [
                          0.2390899123
                        ],
                        "iteration": 19,
                        "passed_time": 0.418479236,
                        "remaining_time": 8.997303574,
                        "test": [
                          0.2418886368
                        ]
                      },
                      {
                        "learn": [
                          0.2233846622
                        ],
                        "iteration": 20,
                        "passed_time": 0.4292707734,
                        "remaining_time": 8.769388657,
                        "test": [
                          0.2264807763
                        ]
                      },
                      {
                        "learn": [
                          0.2075080235
                        ],
                        "iteration": 21,
                        "passed_time": 0.440540011,
                        "remaining_time": 8.570505668,
                        "test": [
                          0.2108478079
                        ]
                      },
                      {
                        "learn": [
                          0.1963703203
                        ],
                        "iteration": 22,
                        "passed_time": 0.4509598029,
                        "remaining_time": 8.372166775,
                        "test": [
                          0.2002209396
                        ]
                      },
                      {
                        "learn": [
                          0.1870404564
                        ],
                        "iteration": 23,
                        "passed_time": 0.4614641958,
                        "remaining_time": 8.190989476,
                        "test": [
                          0.1915388738
                        ]
                      },
                      {
                        "learn": [
                          0.1772507461
                        ],
                        "iteration": 24,
                        "passed_time": 0.4717451596,
                        "remaining_time": 8.019667713,
                        "test": [
                          0.1822187448
                        ]
                      },
                      {
                        "learn": [
                          0.165692194
                        ],
                        "iteration": 25,
                        "passed_time": 0.4821684263,
                        "remaining_time": 7.863054337,
                        "test": [
                          0.170692173
                        ]
                      },
                      {
                        "learn": [
                          0.156714368
                        ],
                        "iteration": 26,
                        "passed_time": 0.4924992291,
                        "remaining_time": 7.715821256,
                        "test": [
                          0.1614514952
                        ]
                      },
                      {
                        "learn": [
                          0.1482294654
                        ],
                        "iteration": 27,
                        "passed_time": 0.5027857478,
                        "remaining_time": 7.577699485,
                        "test": [
                          0.1529266446
                        ]
                      },
                      {
                        "learn": [
                          0.139989792
                        ],
                        "iteration": 28,
                        "passed_time": 0.5133566022,
                        "remaining_time": 7.452521707,
                        "test": [
                          0.14480369
                        ]
                      },
                      {
                        "learn": [
                          0.1318877154
                        ],
                        "iteration": 29,
                        "passed_time": 0.5235977172,
                        "remaining_time": 7.33036804,
                        "test": [
                          0.1367874614
                        ]
                      },
                      {
                        "learn": [
                          0.1265725419
                        ],
                        "iteration": 30,
                        "passed_time": 0.5338556799,
                        "remaining_time": 7.215662254,
                        "test": [
                          0.1319495434
                        ]
                      },
                      {
                        "learn": [
                          0.120784147
                        ],
                        "iteration": 31,
                        "passed_time": 0.5441224265,
                        "remaining_time": 7.107599197,
                        "test": [
                          0.1265796242
                        ]
                      },
                      {
                        "learn": [
                          0.1162893858
                        ],
                        "iteration": 32,
                        "passed_time": 0.5544795679,
                        "remaining_time": 7.006605448,
                        "test": [
                          0.1224650755
                        ]
                      },
                      {
                        "learn": [
                          0.1101724245
                        ],
                        "iteration": 33,
                        "passed_time": 0.5648612403,
                        "remaining_time": 6.911243411,
                        "test": [
                          0.116344341
                        ]
                      },
                      {
                        "learn": [
                          0.1051491185
                        ],
                        "iteration": 34,
                        "passed_time": 0.5753180162,
                        "remaining_time": 6.821627906,
                        "test": [
                          0.1116414917
                        ]
                      },
                      {
                        "learn": [
                          0.100043706
                        ],
                        "iteration": 35,
                        "passed_time": 0.5857950146,
                        "remaining_time": 6.736642668,
                        "test": [
                          0.1064463261
                        ]
                      },
                      {
                        "learn": [
                          0.09528870889
                        ],
                        "iteration": 36,
                        "passed_time": 0.5962383694,
                        "remaining_time": 6.655309366,
                        "test": [
                          0.1016726571
                        ]
                      },
                      {
                        "learn": [
                          0.09227435353
                        ],
                        "iteration": 37,
                        "passed_time": 0.6069956422,
                        "remaining_time": 6.581110647,
                        "test": [
                          0.09876432094
                        ]
                      },
                      {
                        "learn": [
                          0.09014258271
                        ],
                        "iteration": 38,
                        "passed_time": 0.6175565657,
                        "remaining_time": 6.508096115,
                        "test": [
                          0.09688164906
                        ]
                      },
                      {
                        "learn": [
                          0.08651280876
                        ],
                        "iteration": 39,
                        "passed_time": 0.6281314249,
                        "remaining_time": 6.438347105,
                        "test": [
                          0.09324905617
                        ]
                      },
                      {
                        "learn": [
                          0.08390030696
                        ],
                        "iteration": 40,
                        "passed_time": 0.6386848432,
                        "remaining_time": 6.371270753,
                        "test": [
                          0.09086672189
                        ]
                      },
                      {
                        "learn": [
                          0.08119185644
                        ],
                        "iteration": 41,
                        "passed_time": 0.6492493048,
                        "remaining_time": 6.306993246,
                        "test": [
                          0.08824518246
                        ]
                      },
                      {
                        "learn": [
                          0.07978229248
                        ],
                        "iteration": 42,
                        "passed_time": 0.6595942864,
                        "remaining_time": 6.243136618,
                        "test": [
                          0.08719225572
                        ]
                      },
                      {
                        "learn": [
                          0.0769201455
                        ],
                        "iteration": 43,
                        "passed_time": 0.6700323599,
                        "remaining_time": 6.182571321,
                        "test": [
                          0.08437979895
                        ]
                      },
                      {
                        "learn": [
                          0.07497160617
                        ],
                        "iteration": 44,
                        "passed_time": 0.6804018131,
                        "remaining_time": 6.123616318,
                        "test": [
                          0.08283106177
                        ]
                      },
                      {
                        "learn": [
                          0.07218118451
                        ],
                        "iteration": 45,
                        "passed_time": 0.6910125348,
                        "remaining_time": 6.068892697,
                        "test": [
                          0.08013377099
                        ]
                      },
                      {
                        "learn": [
                          0.07048479391
                        ],
                        "iteration": 46,
                        "passed_time": 0.7015359575,
                        "remaining_time": 6.015297678,
                        "test": [
                          0.07850980394
                        ]
                      },
                      {
                        "learn": [
                          0.06918431913
                        ],
                        "iteration": 47,
                        "passed_time": 0.7120506945,
                        "remaining_time": 5.963424566,
                        "test": [
                          0.07720914382
                        ]
                      },
                      {
                        "learn": [
                          0.06841972304
                        ],
                        "iteration": 48,
                        "passed_time": 0.7224881142,
                        "remaining_time": 5.912606812,
                        "test": [
                          0.07676929076
                        ]
                      },
                      {
                        "learn": [
                          0.06625292172
                        ],
                        "iteration": 49,
                        "passed_time": 0.7329876682,
                        "remaining_time": 5.863901345,
                        "test": [
                          0.07474609475
                        ]
                      },
                      {
                        "learn": [
                          0.06518215367
                        ],
                        "iteration": 50,
                        "passed_time": 0.7435508578,
                        "remaining_time": 5.817192005,
                        "test": [
                          0.07395874454
                        ]
                      },
                      {
                        "learn": [
                          0.06379175309
                        ],
                        "iteration": 51,
                        "passed_time": 0.754299218,
                        "remaining_time": 5.773290169,
                        "test": [
                          0.07278482244
                        ]
                      },
                      {
                        "learn": [
                          0.06253846732
                        ],
                        "iteration": 52,
                        "passed_time": 0.7650125295,
                        "remaining_time": 5.730376872,
                        "test": [
                          0.07167651119
                        ]
                      },
                      {
                        "learn": [
                          0.06063018738
                        ],
                        "iteration": 53,
                        "passed_time": 0.7758711574,
                        "remaining_time": 5.689721821,
                        "test": [
                          0.06982291854
                        ]
                      },
                      {
                        "learn": [
                          0.06008971287
                        ],
                        "iteration": 54,
                        "passed_time": 0.7865065116,
                        "remaining_time": 5.648546765,
                        "test": [
                          0.0694421239
                        ]
                      },
                      {
                        "learn": [
                          0.05914024704
                        ],
                        "iteration": 55,
                        "passed_time": 0.7995602892,
                        "remaining_time": 5.625477749,
                        "test": [
                          0.06870767593
                        ]
                      },
                      {
                        "learn": [
                          0.0574994915
                        ],
                        "iteration": 56,
                        "passed_time": 0.8104435296,
                        "remaining_time": 5.587794862,
                        "test": [
                          0.06714160889
                        ]
                      },
                      {
                        "learn": [
                          0.05649031684
                        ],
                        "iteration": 57,
                        "passed_time": 0.8213426441,
                        "remaining_time": 5.551143388,
                        "test": [
                          0.06632900009
                        ]
                      },
                      {
                        "learn": [
                          0.05591887984
                        ],
                        "iteration": 58,
                        "passed_time": 0.8320552687,
                        "remaining_time": 5.514128984,
                        "test": [
                          0.06591583438
                        ]
                      },
                      {
                        "learn": [
                          0.0541830202
                        ],
                        "iteration": 59,
                        "passed_time": 0.8428131756,
                        "remaining_time": 5.478285642,
                        "test": [
                          0.06416087175
                        ]
                      },
                      {
                        "learn": [
                          0.05328731624
                        ],
                        "iteration": 60,
                        "passed_time": 0.8533193596,
                        "remaining_time": 5.441659523,
                        "test": [
                          0.06328225141
                        ]
                      },
                      {
                        "learn": [
                          0.05241815205
                        ],
                        "iteration": 61,
                        "passed_time": 0.8637976209,
                        "remaining_time": 5.405701241,
                        "test": [
                          0.06259942288
                        ]
                      },
                      {
                        "learn": [
                          0.05098370264
                        ],
                        "iteration": 62,
                        "passed_time": 0.8742335096,
                        "remaining_time": 5.370291559,
                        "test": [
                          0.06136720906
                        ]
                      },
                      {
                        "learn": [
                          0.05051475937
                        ],
                        "iteration": 63,
                        "passed_time": 0.8848943627,
                        "remaining_time": 5.337019125,
                        "test": [
                          0.06107439055
                        ]
                      },
                      {
                        "learn": [
                          0.04975772853
                        ],
                        "iteration": 64,
                        "passed_time": 0.8972391589,
                        "remaining_time": 5.314416557,
                        "test": [
                          0.06040184632
                        ]
                      },
                      {
                        "learn": [
                          0.04924338459
                        ],
                        "iteration": 65,
                        "passed_time": 0.9102076869,
                        "remaining_time": 5.295753814,
                        "test": [
                          0.06005553762
                        ]
                      },
                      {
                        "learn": [
                          0.04790106718
                        ],
                        "iteration": 66,
                        "passed_time": 0.9221142349,
                        "remaining_time": 5.271190328,
                        "test": [
                          0.05900687777
                        ]
                      },
                      {
                        "learn": [
                          0.04714507472
                        ],
                        "iteration": 67,
                        "passed_time": 0.9336543374,
                        "remaining_time": 5.244940542,
                        "test": [
                          0.0583654603
                        ]
                      },
                      {
                        "learn": [
                          0.04649696886
                        ],
                        "iteration": 68,
                        "passed_time": 0.9442442692,
                        "remaining_time": 5.21387053,
                        "test": [
                          0.05795050549
                        ]
                      },
                      {
                        "learn": [
                          0.045722158
                        ],
                        "iteration": 69,
                        "passed_time": 0.956972886,
                        "remaining_time": 5.194995667,
                        "test": [
                          0.05709833794
                        ]
                      },
                      {
                        "learn": [
                          0.04469300873
                        ],
                        "iteration": 70,
                        "passed_time": 0.967286106,
                        "remaining_time": 5.163400482,
                        "test": [
                          0.0563142682
                        ]
                      },
                      {
                        "learn": [
                          0.04435105352
                        ],
                        "iteration": 71,
                        "passed_time": 1.160774508,
                        "remaining_time": 6.094066165,
                        "test": [
                          0.05602138698
                        ]
                      },
                      {
                        "learn": [
                          0.04360205007
                        ],
                        "iteration": 72,
                        "passed_time": 1.211659622,
                        "remaining_time": 6.257475035,
                        "test": [
                          0.05530965373
                        ]
                      },
                      {
                        "learn": [
                          0.04327044252
                        ],
                        "iteration": 73,
                        "passed_time": 1.222482233,
                        "remaining_time": 6.211531348,
                        "test": [
                          0.05511491819
                        ]
                      },
                      {
                        "learn": [
                          0.04250740538
                        ],
                        "iteration": 74,
                        "passed_time": 1.232868368,
                        "remaining_time": 6.164341838,
                        "test": [
                          0.05444650847
                        ]
                      },
                      {
                        "learn": [
                          0.04179313424
                        ],
                        "iteration": 75,
                        "passed_time": 1.24315185,
                        "remaining_time": 6.117615684,
                        "test": [
                          0.05393034442
                        ]
                      },
                      {
                        "learn": [
                          0.04149730439
                        ],
                        "iteration": 76,
                        "passed_time": 1.260942967,
                        "remaining_time": 6.108204243,
                        "test": [
                          0.05377016052
                        ]
                      },
                      {
                        "learn": [
                          0.04096689846
                        ],
                        "iteration": 77,
                        "passed_time": 1.271465512,
                        "remaining_time": 6.063912441,
                        "test": [
                          0.05339217565
                        ]
                      },
                      {
                        "learn": [
                          0.04069236417
                        ],
                        "iteration": 78,
                        "passed_time": 1.28188054,
                        "remaining_time": 6.019970636,
                        "test": [
                          0.05329546055
                        ]
                      },
                      {
                        "learn": [
                          0.04021783035
                        ],
                        "iteration": 79,
                        "passed_time": 1.293865827,
                        "remaining_time": 5.984129448,
                        "test": [
                          0.05295115168
                        ]
                      },
                      {
                        "learn": [
                          0.03974302347
                        ],
                        "iteration": 80,
                        "passed_time": 1.304206102,
                        "remaining_time": 5.941383356,
                        "test": [
                          0.05268663709
                        ]
                      },
                      {
                        "learn": [
                          0.03935080628
                        ],
                        "iteration": 81,
                        "passed_time": 1.315228898,
                        "remaining_time": 5.902490666,
                        "test": [
                          0.05240673322
                        ]
                      },
                      {
                        "learn": [
                          0.03883846835
                        ],
                        "iteration": 82,
                        "passed_time": 1.325977062,
                        "remaining_time": 5.863055203,
                        "test": [
                          0.05200239388
                        ]
                      },
                      {
                        "learn": [
                          0.03790178951
                        ],
                        "iteration": 83,
                        "passed_time": 1.337157742,
                        "remaining_time": 5.826187303,
                        "test": [
                          0.05105324632
                        ]
                      },
                      {
                        "learn": [
                          0.03753838969
                        ],
                        "iteration": 84,
                        "passed_time": 1.347441963,
                        "remaining_time": 5.786074311,
                        "test": [
                          0.05090417153
                        ]
                      },
                      {
                        "learn": [
                          0.03734007879
                        ],
                        "iteration": 85,
                        "passed_time": 1.35766508,
                        "remaining_time": 5.746396385,
                        "test": [
                          0.05086706248
                        ]
                      },
                      {
                        "learn": [
                          0.03704919683
                        ],
                        "iteration": 86,
                        "passed_time": 1.367741928,
                        "remaining_time": 5.706785285,
                        "test": [
                          0.05076085477
                        ]
                      },
                      {
                        "learn": [
                          0.03623977833
                        ],
                        "iteration": 87,
                        "passed_time": 1.378867108,
                        "remaining_time": 5.672157875,
                        "test": [
                          0.04992530785
                        ]
                      },
                      {
                        "learn": [
                          0.03593160739
                        ],
                        "iteration": 88,
                        "passed_time": 1.388980587,
                        "remaining_time": 5.633954966,
                        "test": [
                          0.04973906876
                        ]
                      },
                      {
                        "learn": [
                          0.03564991736
                        ],
                        "iteration": 89,
                        "passed_time": 1.399111043,
                        "remaining_time": 5.596444171,
                        "test": [
                          0.04963764807
                        ]
                      },
                      {
                        "learn": [
                          0.03501084949
                        ],
                        "iteration": 90,
                        "passed_time": 1.410033547,
                        "remaining_time": 5.562659816,
                        "test": [
                          0.04930234324
                        ]
                      },
                      {
                        "learn": [
                          0.03424965001
                        ],
                        "iteration": 91,
                        "passed_time": 1.421283032,
                        "remaining_time": 5.530644843,
                        "test": [
                          0.04863729618
                        ]
                      },
                      {
                        "learn": [
                          0.03404963177
                        ],
                        "iteration": 92,
                        "passed_time": 1.432098294,
                        "remaining_time": 5.497409582,
                        "test": [
                          0.04853014066
                        ]
                      },
                      {
                        "learn": [
                          0.03330112565
                        ],
                        "iteration": 93,
                        "passed_time": 1.442812957,
                        "remaining_time": 5.464270347,
                        "test": [
                          0.04787932272
                        ]
                      },
                      {
                        "learn": [
                          0.03270401649
                        ],
                        "iteration": 94,
                        "passed_time": 1.453706437,
                        "remaining_time": 5.432271423,
                        "test": [
                          0.04737567736
                        ]
                      },
                      {
                        "learn": [
                          0.03239466021
                        ],
                        "iteration": 95,
                        "passed_time": 1.464531416,
                        "remaining_time": 5.400459595,
                        "test": [
                          0.04717808929
                        ]
                      },
                      {
                        "learn": [
                          0.03210087611
                        ],
                        "iteration": 96,
                        "passed_time": 1.474795957,
                        "remaining_time": 5.367040959,
                        "test": [
                          0.04691531193
                        ]
                      },
                      {
                        "learn": [
                          0.03204319713
                        ],
                        "iteration": 97,
                        "passed_time": 1.485244013,
                        "remaining_time": 5.334754006,
                        "test": [
                          0.04692070708
                        ]
                      },
                      {
                        "learn": [
                          0.03186811433
                        ],
                        "iteration": 98,
                        "passed_time": 1.495636384,
                        "remaining_time": 5.302710815,
                        "test": [
                          0.04682948672
                        ]
                      },
                      {
                        "learn": [
                          0.03137038042
                        ],
                        "iteration": 99,
                        "passed_time": 1.5060801,
                        "remaining_time": 5.271280351,
                        "test": [
                          0.04635298606
                        ]
                      },
                      {
                        "learn": [
                          0.03109168907
                        ],
                        "iteration": 100,
                        "passed_time": 1.516615996,
                        "remaining_time": 5.240583986,
                        "test": [
                          0.04622584125
                        ]
                      },
                      {
                        "learn": [
                          0.03086188607
                        ],
                        "iteration": 101,
                        "passed_time": 1.527005473,
                        "remaining_time": 5.20978338,
                        "test": [
                          0.04612170928
                        ]
                      },
                      {
                        "learn": [
                          0.03050190753
                        ],
                        "iteration": 102,
                        "passed_time": 1.537531498,
                        "remaining_time": 5.179839125,
                        "test": [
                          0.04591782232
                        ]
                      },
                      {
                        "learn": [
                          0.03022712176
                        ],
                        "iteration": 103,
                        "passed_time": 1.548074306,
                        "remaining_time": 5.150324132,
                        "test": [
                          0.04577263095
                        ]
                      },
                      {
                        "learn": [
                          0.02990385032
                        ],
                        "iteration": 104,
                        "passed_time": 1.55855978,
                        "remaining_time": 5.120982134,
                        "test": [
                          0.04570956549
                        ]
                      },
                      {
                        "learn": [
                          0.02949250508
                        ],
                        "iteration": 105,
                        "passed_time": 1.569059991,
                        "remaining_time": 5.092043746,
                        "test": [
                          0.04528153379
                        ]
                      },
                      {
                        "learn": [
                          0.02944566037
                        ],
                        "iteration": 106,
                        "passed_time": 1.579606545,
                        "remaining_time": 5.063598551,
                        "test": [
                          0.04528239041
                        ]
                      },
                      {
                        "learn": [
                          0.02928108179
                        ],
                        "iteration": 107,
                        "passed_time": 1.58987103,
                        "remaining_time": 5.034591596,
                        "test": [
                          0.04522246999
                        ]
                      },
                      {
                        "learn": [
                          0.02907495745
                        ],
                        "iteration": 108,
                        "passed_time": 1.600573577,
                        "remaining_time": 5.007298989,
                        "test": [
                          0.04511756667
                        ]
                      },
                      {
                        "learn": [
                          0.02865203508
                        ],
                        "iteration": 109,
                        "passed_time": 1.613232586,
                        "remaining_time": 4.986355265,
                        "test": [
                          0.04478019151
                        ]
                      },
                      {
                        "learn": [
                          0.02838496329
                        ],
                        "iteration": 110,
                        "passed_time": 1.623956686,
                        "remaining_time": 4.959651501,
                        "test": [
                          0.04470889474
                        ]
                      },
                      {
                        "learn": [
                          0.02806977402
                        ],
                        "iteration": 111,
                        "passed_time": 1.634228281,
                        "remaining_time": 4.931867492,
                        "test": [
                          0.04453467244
                        ]
                      },
                      {
                        "learn": [
                          0.02778472155
                        ],
                        "iteration": 112,
                        "passed_time": 1.644429122,
                        "remaining_time": 4.904182426,
                        "test": [
                          0.04445980583
                        ]
                      },
                      {
                        "learn": [
                          0.02732853884
                        ],
                        "iteration": 113,
                        "passed_time": 1.654841056,
                        "remaining_time": 4.877426271,
                        "test": [
                          0.04419807765
                        ]
                      },
                      {
                        "learn": [
                          0.02711112508
                        ],
                        "iteration": 114,
                        "passed_time": 1.665022997,
                        "remaining_time": 4.850284382,
                        "test": [
                          0.04414231124
                        ]
                      },
                      {
                        "learn": [
                          0.0270092708
                        ],
                        "iteration": 115,
                        "passed_time": 1.675403737,
                        "remaining_time": 4.824007313,
                        "test": [
                          0.04418809893
                        ]
                      },
                      {
                        "learn": [
                          0.026790531
                        ],
                        "iteration": 116,
                        "passed_time": 1.685674273,
                        "remaining_time": 4.797688315,
                        "test": [
                          0.04407423692
                        ]
                      },
                      {
                        "learn": [
                          0.02653662442
                        ],
                        "iteration": 117,
                        "passed_time": 1.696124741,
                        "remaining_time": 4.772147575,
                        "test": [
                          0.04396855837
                        ]
                      },
                      {
                        "learn": [
                          0.02635060099
                        ],
                        "iteration": 118,
                        "passed_time": 1.706573025,
                        "remaining_time": 4.74685438,
                        "test": [
                          0.04395471444
                        ]
                      },
                      {
                        "learn": [
                          0.02630543682
                        ],
                        "iteration": 119,
                        "passed_time": 1.716965027,
                        "remaining_time": 4.721653825,
                        "test": [
                          0.04396750832
                        ]
                      },
                      {
                        "learn": [
                          0.02598376733
                        ],
                        "iteration": 120,
                        "passed_time": 1.727327378,
                        "remaining_time": 4.696617416,
                        "test": [
                          0.04369650369
                        ]
                      },
                      {
                        "learn": [
                          0.02579315586
                        ],
                        "iteration": 121,
                        "passed_time": 1.737626774,
                        "remaining_time": 4.671652311,
                        "test": [
                          0.04363562095
                        ]
                      },
                      {
                        "learn": [
                          0.02561468826
                        ],
                        "iteration": 122,
                        "passed_time": 1.748040272,
                        "remaining_time": 4.647229017,
                        "test": [
                          0.04358097689
                        ]
                      },
                      {
                        "learn": [
                          0.02539723238
                        ],
                        "iteration": 123,
                        "passed_time": 1.758614547,
                        "remaining_time": 4.623454375,
                        "test": [
                          0.04347157918
                        ]
                      },
                      {
                        "learn": [
                          0.02526976389
                        ],
                        "iteration": 124,
                        "passed_time": 1.769055789,
                        "remaining_time": 4.599545052,
                        "test": [
                          0.04340435679
                        ]
                      },
                      {
                        "learn": [
                          0.02504444009
                        ],
                        "iteration": 125,
                        "passed_time": 1.779439133,
                        "remaining_time": 4.575700627,
                        "test": [
                          0.04329328216
                        ]
                      },
                      {
                        "learn": [
                          0.02500060953
                        ],
                        "iteration": 126,
                        "passed_time": 1.789762377,
                        "remaining_time": 4.551915336,
                        "test": [
                          0.04328426035
                        ]
                      },
                      {
                        "learn": [
                          0.02485348632
                        ],
                        "iteration": 127,
                        "passed_time": 1.802548521,
                        "remaining_time": 4.534536122,
                        "test": [
                          0.04325323912
                        ]
                      },
                      {
                        "learn": [
                          0.02463564394
                        ],
                        "iteration": 128,
                        "passed_time": 1.81303524,
                        "remaining_time": 4.511506295,
                        "test": [
                          0.04315700738
                        ]
                      },
                      {
                        "learn": [
                          0.02452927375
                        ],
                        "iteration": 129,
                        "passed_time": 1.82327161,
                        "remaining_time": 4.488053194,
                        "test": [
                          0.04311888102
                        ]
                      },
                      {
                        "learn": [
                          0.02447849558
                        ],
                        "iteration": 130,
                        "passed_time": 1.833470671,
                        "remaining_time": 4.464711023,
                        "test": [
                          0.04313974346
                        ]
                      },
                      {
                        "learn": [
                          0.02423854766
                        ],
                        "iteration": 131,
                        "passed_time": 1.84391257,
                        "remaining_time": 4.442153009,
                        "test": [
                          0.04300388448
                        ]
                      },
                      {
                        "learn": [
                          0.02410511418
                        ],
                        "iteration": 132,
                        "passed_time": 1.854998797,
                        "remaining_time": 4.421312922,
                        "test": [
                          0.04287115854
                        ]
                      },
                      {
                        "learn": [
                          0.02373476478
                        ],
                        "iteration": 133,
                        "passed_time": 1.865350971,
                        "remaining_time": 4.398887365,
                        "test": [
                          0.04250732389
                        ]
                      },
                      {
                        "learn": [
                          0.02354625049
                        ],
                        "iteration": 134,
                        "passed_time": 1.877215959,
                        "remaining_time": 4.38017057,
                        "test": [
                          0.0424980418
                        ]
                      },
                      {
                        "learn": [
                          0.02322467408
                        ],
                        "iteration": 135,
                        "passed_time": 1.887761435,
                        "remaining_time": 4.358508019,
                        "test": [
                          0.04213565471
                        ]
                      },
                      {
                        "learn": [
                          0.023098308
                        ],
                        "iteration": 136,
                        "passed_time": 1.898104512,
                        "remaining_time": 4.336545345,
                        "test": [
                          0.04214367219
                        ]
                      },
                      {
                        "learn": [
                          0.02301351531
                        ],
                        "iteration": 137,
                        "passed_time": 1.909516438,
                        "remaining_time": 4.317167598,
                        "test": [
                          0.04208449718
                        ]
                      },
                      {
                        "learn": [
                          0.02275441334
                        ],
                        "iteration": 138,
                        "passed_time": 1.92364066,
                        "remaining_time": 4.303972988,
                        "test": [
                          0.04196216299
                        ]
                      },
                      {
                        "learn": [
                          0.02247731833
                        ],
                        "iteration": 139,
                        "passed_time": 1.934363685,
                        "remaining_time": 4.283233874,
                        "test": [
                          0.04170315837
                        ]
                      },
                      {
                        "learn": [
                          0.02227099017
                        ],
                        "iteration": 140,
                        "passed_time": 1.944763538,
                        "remaining_time": 4.261928605,
                        "test": [
                          0.04161833625
                        ]
                      },
                      {
                        "learn": [
                          0.0222408311
                        ],
                        "iteration": 141,
                        "passed_time": 1.955163429,
                        "remaining_time": 4.240777014,
                        "test": [
                          0.041630168
                        ]
                      },
                      {
                        "learn": [
                          0.02188526755
                        ],
                        "iteration": 142,
                        "passed_time": 2.014323671,
                        "remaining_time": 4.324457111,
                        "test": [
                          0.04120395079
                        ]
                      },
                      {
                        "learn": [
                          0.02174790765
                        ],
                        "iteration": 143,
                        "passed_time": 2.078305863,
                        "remaining_time": 4.416399959,
                        "test": [
                          0.04120457726
                        ]
                      },
                      {
                        "learn": [
                          0.02156889456
                        ],
                        "iteration": 144,
                        "passed_time": 2.20508816,
                        "remaining_time": 4.638288889,
                        "test": [
                          0.04116725397
                        ]
                      },
                      {
                        "learn": [
                          0.02142109189
                        ],
                        "iteration": 145,
                        "passed_time": 2.21997219,
                        "remaining_time": 4.622407849,
                        "test": [
                          0.04111311168
                        ]
                      },
                      {
                        "learn": [
                          0.02126711656
                        ],
                        "iteration": 146,
                        "passed_time": 2.230436925,
                        "remaining_time": 4.597431212,
                        "test": [
                          0.04107374407
                        ]
                      },
                      {
                        "learn": [
                          0.02113127967
                        ],
                        "iteration": 147,
                        "passed_time": 2.240920279,
                        "remaining_time": 4.572688677,
                        "test": [
                          0.04103741067
                        ]
                      },
                      {
                        "learn": [
                          0.02099051929
                        ],
                        "iteration": 148,
                        "passed_time": 2.251241847,
                        "remaining_time": 4.547810711,
                        "test": [
                          0.04090008077
                        ]
                      },
                      {
                        "learn": [
                          0.02082089983
                        ],
                        "iteration": 149,
                        "passed_time": 2.262919477,
                        "remaining_time": 4.525838954,
                        "test": [
                          0.04077513644
                        ]
                      },
                      {
                        "learn": [
                          0.0206842745
                        ],
                        "iteration": 150,
                        "passed_time": 2.273260433,
                        "remaining_time": 4.501356751,
                        "test": [
                          0.0407470005
                        ]
                      },
                      {
                        "learn": [
                          0.02055140996
                        ],
                        "iteration": 151,
                        "passed_time": 2.283930866,
                        "remaining_time": 4.477706565,
                        "test": [
                          0.04069258658
                        ]
                      },
                      {
                        "learn": [
                          0.02044843102
                        ],
                        "iteration": 152,
                        "passed_time": 2.29443602,
                        "remaining_time": 4.453905214,
                        "test": [
                          0.0406897703
                        ]
                      },
                      {
                        "learn": [
                          0.0202118802
                        ],
                        "iteration": 153,
                        "passed_time": 2.306448139,
                        "remaining_time": 4.433173045,
                        "test": [
                          0.04042713603
                        ]
                      },
                      {
                        "learn": [
                          0.01996238898
                        ],
                        "iteration": 154,
                        "passed_time": 2.317371645,
                        "remaining_time": 4.410481517,
                        "test": [
                          0.0402892804
                        ]
                      },
                      {
                        "learn": [
                          0.0198374749
                        ],
                        "iteration": 155,
                        "passed_time": 2.327609076,
                        "remaining_time": 4.386647875,
                        "test": [
                          0.04027910391
                        ]
                      },
                      {
                        "learn": [
                          0.01965400371
                        ],
                        "iteration": 156,
                        "passed_time": 2.337809107,
                        "remaining_time": 4.362917633,
                        "test": [
                          0.04017718202
                        ]
                      },
                      {
                        "learn": [
                          0.01951843523
                        ],
                        "iteration": 157,
                        "passed_time": 2.349013542,
                        "remaining_time": 4.341214901,
                        "test": [
                          0.04014418901
                        ]
                      },
                      {
                        "learn": [
                          0.0193918209
                        ],
                        "iteration": 158,
                        "passed_time": 2.359221763,
                        "remaining_time": 4.317820962,
                        "test": [
                          0.04010883427
                        ]
                      },
                      {
                        "learn": [
                          0.01922783266
                        ],
                        "iteration": 159,
                        "passed_time": 2.369572302,
                        "remaining_time": 4.294849798,
                        "test": [
                          0.03997005464
                        ]
                      },
                      {
                        "learn": [
                          0.01919191729
                        ],
                        "iteration": 160,
                        "passed_time": 2.37999985,
                        "remaining_time": 4.272173644,
                        "test": [
                          0.03998812232
                        ]
                      },
                      {
                        "learn": [
                          0.01908185513
                        ],
                        "iteration": 161,
                        "passed_time": 2.391289288,
                        "remaining_time": 4.251180957,
                        "test": [
                          0.03996835888
                        ]
                      },
                      {
                        "learn": [
                          0.01905653803
                        ],
                        "iteration": 162,
                        "passed_time": 2.401596266,
                        "remaining_time": 4.228577475,
                        "test": [
                          0.03997888132
                        ]
                      },
                      {
                        "learn": [
                          0.01898563193
                        ],
                        "iteration": 163,
                        "passed_time": 2.412177073,
                        "remaining_time": 4.20660148,
                        "test": [
                          0.03999678966
                        ]
                      },
                      {
                        "learn": [
                          0.01895745742
                        ],
                        "iteration": 164,
                        "passed_time": 2.423691932,
                        "remaining_time": 4.186376974,
                        "test": [
                          0.0399971423
                        ]
                      },
                      {
                        "learn": [
                          0.01883053882
                        ],
                        "iteration": 165,
                        "passed_time": 2.434100477,
                        "remaining_time": 4.164364672,
                        "test": [
                          0.03997032316
                        ]
                      },
                      {
                        "learn": [
                          0.01871265068
                        ],
                        "iteration": 166,
                        "passed_time": 2.444315505,
                        "remaining_time": 4.1421634,
                        "test": [
                          0.03988579045
                        ]
                      },
                      {
                        "learn": [
                          0.0185489186
                        ],
                        "iteration": 167,
                        "passed_time": 2.454572504,
                        "remaining_time": 4.120175275,
                        "test": [
                          0.03981674401
                        ]
                      },
                      {
                        "learn": [
                          0.01842913143
                        ],
                        "iteration": 168,
                        "passed_time": 2.46508385,
                        "remaining_time": 4.098748887,
                        "test": [
                          0.03978906528
                        ]
                      },
                      {
                        "learn": [
                          0.01833316328
                        ],
                        "iteration": 169,
                        "passed_time": 2.475487696,
                        "remaining_time": 4.077273853,
                        "test": [
                          0.03980622631
                        ]
                      },
                      {
                        "learn": [
                          0.01814898197
                        ],
                        "iteration": 170,
                        "passed_time": 2.485971133,
                        "remaining_time": 4.056058165,
                        "test": [
                          0.03977207608
                        ]
                      },
                      {
                        "learn": [
                          0.01803217713
                        ],
                        "iteration": 171,
                        "passed_time": 2.496915868,
                        "remaining_time": 4.035712857,
                        "test": [
                          0.03968459382
                        ]
                      },
                      {
                        "learn": [
                          0.01796093752
                        ],
                        "iteration": 172,
                        "passed_time": 2.508319139,
                        "remaining_time": 4.016210414,
                        "test": [
                          0.03970236026
                        ]
                      },
                      {
                        "learn": [
                          0.01783454007
                        ],
                        "iteration": 173,
                        "passed_time": 2.518874251,
                        "remaining_time": 3.995455708,
                        "test": [
                          0.03966423781
                        ]
                      },
                      {
                        "learn": [
                          0.01772318791
                        ],
                        "iteration": 174,
                        "passed_time": 2.529364581,
                        "remaining_time": 3.974715769,
                        "test": [
                          0.0396111093
                        ]
                      },
                      {
                        "learn": [
                          0.01762881824
                        ],
                        "iteration": 175,
                        "passed_time": 2.539966344,
                        "remaining_time": 3.954265786,
                        "test": [
                          0.03962886123
                        ]
                      },
                      {
                        "learn": [
                          0.01753580132
                        ],
                        "iteration": 176,
                        "passed_time": 2.550411585,
                        "remaining_time": 3.933685664,
                        "test": [
                          0.03960236301
                        ]
                      },
                      {
                        "learn": [
                          0.01732538337
                        ],
                        "iteration": 177,
                        "passed_time": 2.561056343,
                        "remaining_time": 3.913524299,
                        "test": [
                          0.03947206527
                        ]
                      },
                      {
                        "learn": [
                          0.01716684544
                        ],
                        "iteration": 178,
                        "passed_time": 2.571715337,
                        "remaining_time": 3.893490817,
                        "test": [
                          0.03944528151
                        ]
                      },
                      {
                        "learn": [
                          0.01699371396
                        ],
                        "iteration": 179,
                        "passed_time": 2.582370906,
                        "remaining_time": 3.87355636,
                        "test": [
                          0.03936731655
                        ]
                      },
                      {
                        "learn": [
                          0.01687716724
                        ],
                        "iteration": 180,
                        "passed_time": 2.592967301,
                        "remaining_time": 3.853636487,
                        "test": [
                          0.03933419195
                        ]
                      },
                      {
                        "learn": [
                          0.01680874905
                        ],
                        "iteration": 181,
                        "passed_time": 2.603583888,
                        "remaining_time": 3.833848802,
                        "test": [
                          0.0393323804
                        ]
                      },
                      {
                        "learn": [
                          0.01668947436
                        ],
                        "iteration": 182,
                        "passed_time": 2.614149684,
                        "remaining_time": 3.814087244,
                        "test": [
                          0.03919470489
                        ]
                      },
                      {
                        "learn": [
                          0.01646828696
                        ],
                        "iteration": 183,
                        "passed_time": 2.624557233,
                        "remaining_time": 3.794196869,
                        "test": [
                          0.03899876628
                        ]
                      },
                      {
                        "learn": [
                          0.01641777184
                        ],
                        "iteration": 184,
                        "passed_time": 2.634864945,
                        "remaining_time": 3.774266003,
                        "test": [
                          0.03898200347
                        ]
                      },
                      {
                        "learn": [
                          0.01639813064
                        ],
                        "iteration": 185,
                        "passed_time": 2.645227405,
                        "remaining_time": 3.754516316,
                        "test": [
                          0.03898783283
                        ]
                      },
                      {
                        "learn": [
                          0.01631839371
                        ],
                        "iteration": 186,
                        "passed_time": 2.655617365,
                        "remaining_time": 3.734905705,
                        "test": [
                          0.03898222055
                        ]
                      },
                      {
                        "learn": [
                          0.01627204477
                        ],
                        "iteration": 187,
                        "passed_time": 2.665954994,
                        "remaining_time": 3.715320258,
                        "test": [
                          0.03892420293
                        ]
                      },
                      {
                        "learn": [
                          0.01620099849
                        ],
                        "iteration": 188,
                        "passed_time": 2.676303158,
                        "remaining_time": 3.695847218,
                        "test": [
                          0.03893692495
                        ]
                      },
                      {
                        "learn": [
                          0.01615283136
                        ],
                        "iteration": 189,
                        "passed_time": 2.686612613,
                        "remaining_time": 3.67641726,
                        "test": [
                          0.03896928664
                        ]
                      },
                      {
                        "learn": [
                          0.01607292358
                        ],
                        "iteration": 190,
                        "passed_time": 2.69679085,
                        "remaining_time": 3.65690487,
                        "test": [
                          0.03894515601
                        ]
                      },
                      {
                        "learn": [
                          0.01601725623
                        ],
                        "iteration": 191,
                        "passed_time": 2.707148162,
                        "remaining_time": 3.637730343,
                        "test": [
                          0.03892134627
                        ]
                      },
                      {
                        "learn": [
                          0.01577199338
                        ],
                        "iteration": 192,
                        "passed_time": 2.717384778,
                        "remaining_time": 3.618486466,
                        "test": [
                          0.0387694164
                        ]
                      },
                      {
                        "learn": [
                          0.01572644115
                        ],
                        "iteration": 193,
                        "passed_time": 2.727724527,
                        "remaining_time": 3.59947154,
                        "test": [
                          0.03880579822
                        ]
                      },
                      {
                        "learn": [
                          0.01558904431
                        ],
                        "iteration": 194,
                        "passed_time": 2.737950513,
                        "remaining_time": 3.580396824,
                        "test": [
                          0.03875504944
                        ]
                      },
                      {
                        "learn": [
                          0.01551917081
                        ],
                        "iteration": 195,
                        "passed_time": 2.748222387,
                        "remaining_time": 3.561471868,
                        "test": [
                          0.03877992674
                        ]
                      },
                      {
                        "learn": [
                          0.01540795858
                        ],
                        "iteration": 196,
                        "passed_time": 2.758588138,
                        "remaining_time": 3.542755325,
                        "test": [
                          0.03870834193
                        ]
                      },
                      {
                        "learn": [
                          0.0153774828
                        ],
                        "iteration": 197,
                        "passed_time": 2.76897772,
                        "remaining_time": 3.524153461,
                        "test": [
                          0.03870925238
                        ]
                      },
                      {
                        "learn": [
                          0.01528906539
                        ],
                        "iteration": 198,
                        "passed_time": 2.779298867,
                        "remaining_time": 3.505547817,
                        "test": [
                          0.03868472229
                        ]
                      },
                      {
                        "learn": [
                          0.01523767822
                        ],
                        "iteration": 199,
                        "passed_time": 2.79299616,
                        "remaining_time": 3.4912452,
                        "test": [
                          0.03863435051
                        ]
                      },
                      {
                        "learn": [
                          0.01516958608
                        ],
                        "iteration": 200,
                        "passed_time": 2.804170147,
                        "remaining_time": 3.473822719,
                        "test": [
                          0.03862703997
                        ]
                      },
                      {
                        "learn": [
                          0.01511111341
                        ],
                        "iteration": 201,
                        "passed_time": 2.814297713,
                        "remaining_time": 3.45517739,
                        "test": [
                          0.03859384054
                        ]
                      },
                      {
                        "learn": [
                          0.01500953348
                        ],
                        "iteration": 202,
                        "passed_time": 2.824681154,
                        "remaining_time": 3.436927316,
                        "test": [
                          0.0385351514
                        ]
                      },
                      {
                        "learn": [
                          0.01482090649
                        ],
                        "iteration": 203,
                        "passed_time": 2.834788133,
                        "remaining_time": 3.418420984,
                        "test": [
                          0.03835401523
                        ]
                      },
                      {
                        "learn": [
                          0.01472744909
                        ],
                        "iteration": 204,
                        "passed_time": 2.844987613,
                        "remaining_time": 3.400107148,
                        "test": [
                          0.0383220441
                        ]
                      },
                      {
                        "learn": [
                          0.01464120102
                        ],
                        "iteration": 205,
                        "passed_time": 2.855190449,
                        "remaining_time": 3.381876065,
                        "test": [
                          0.03830156452
                        ]
                      },
                      {
                        "learn": [
                          0.01454325541
                        ],
                        "iteration": 206,
                        "passed_time": 2.865380882,
                        "remaining_time": 3.363707992,
                        "test": [
                          0.03831053592
                        ]
                      },
                      {
                        "learn": [
                          0.01446438462
                        ],
                        "iteration": 207,
                        "passed_time": 2.875779277,
                        "remaining_time": 3.345858582,
                        "test": [
                          0.03830298304
                        ]
                      },
                      {
                        "learn": [
                          0.01436099229
                        ],
                        "iteration": 208,
                        "passed_time": 2.887328702,
                        "remaining_time": 3.329407737,
                        "test": [
                          0.03826236283
                        ]
                      },
                      {
                        "learn": [
                          0.01430499889
                        ],
                        "iteration": 209,
                        "passed_time": 2.898151886,
                        "remaining_time": 3.312173584,
                        "test": [
                          0.03827440273
                        ]
                      },
                      {
                        "learn": [
                          0.01412780378
                        ],
                        "iteration": 210,
                        "passed_time": 2.909967531,
                        "remaining_time": 3.29612436,
                        "test": [
                          0.03819403694
                        ]
                      },
                      {
                        "learn": [
                          0.01404811166
                        ],
                        "iteration": 211,
                        "passed_time": 2.921505885,
                        "remaining_time": 3.279803777,
                        "test": [
                          0.03815093055
                        ]
                      },
                      {
                        "learn": [
                          0.01394880558
                        ],
                        "iteration": 212,
                        "passed_time": 2.933617162,
                        "remaining_time": 3.264165574,
                        "test": [
                          0.03810375878
                        ]
                      },
                      {
                        "learn": [
                          0.01385384357
                        ],
                        "iteration": 213,
                        "passed_time": 2.943773263,
                        "remaining_time": 3.24640416,
                        "test": [
                          0.03804959261
                        ]
                      },
                      {
                        "learn": [
                          0.01370476513
                        ],
                        "iteration": 214,
                        "passed_time": 2.953952488,
                        "remaining_time": 3.228738766,
                        "test": [
                          0.03795711126
                        ]
                      },
                      {
                        "learn": [
                          0.01364075998
                        ],
                        "iteration": 215,
                        "passed_time": 2.964283374,
                        "remaining_time": 3.211306989,
                        "test": [
                          0.03793906168
                        ]
                      },
                      {
                        "learn": [
                          0.0136210155
                        ],
                        "iteration": 216,
                        "passed_time": 2.975434588,
                        "remaining_time": 3.19482147,
                        "test": [
                          0.03795251781
                        ]
                      },
                      {
                        "learn": [
                          0.01355865275
                        ],
                        "iteration": 217,
                        "passed_time": 3.201767726,
                        "remaining_time": 3.407385837,
                        "test": [
                          0.03795829324
                        ]
                      },
                      {
                        "learn": [
                          0.01349987293
                        ],
                        "iteration": 218,
                        "passed_time": 3.221070103,
                        "remaining_time": 3.397567095,
                        "test": [
                          0.03794154676
                        ]
                      },
                      {
                        "learn": [
                          0.01348105281
                        ],
                        "iteration": 219,
                        "passed_time": 3.231508987,
                        "remaining_time": 3.378395759,
                        "test": [
                          0.03795501868
                        ]
                      },
                      {
                        "learn": [
                          0.01346593486
                        ],
                        "iteration": 220,
                        "passed_time": 3.241851837,
                        "remaining_time": 3.359203939,
                        "test": [
                          0.03795929383
                        ]
                      },
                      {
                        "learn": [
                          0.01342914933
                        ],
                        "iteration": 221,
                        "passed_time": 3.252031056,
                        "remaining_time": 3.339923787,
                        "test": [
                          0.03797525497
                        ]
                      },
                      {
                        "learn": [
                          0.01336014668
                        ],
                        "iteration": 222,
                        "passed_time": 3.263638076,
                        "remaining_time": 3.322178669,
                        "test": [
                          0.03793982213
                        ]
                      },
                      {
                        "learn": [
                          0.01330237085
                        ],
                        "iteration": 223,
                        "passed_time": 3.274073898,
                        "remaining_time": 3.303306701,
                        "test": [
                          0.03793302994
                        ]
                      },
                      {
                        "learn": [
                          0.01324903822
                        ],
                        "iteration": 224,
                        "passed_time": 3.284795713,
                        "remaining_time": 3.284795713,
                        "test": [
                          0.03791848332
                        ]
                      },
                      {
                        "learn": [
                          0.01319843049
                        ],
                        "iteration": 225,
                        "passed_time": 3.295188742,
                        "remaining_time": 3.26602778,
                        "test": [
                          0.03788630908
                        ]
                      },
                      {
                        "learn": [
                          0.0130506361
                        ],
                        "iteration": 226,
                        "passed_time": 3.308312895,
                        "remaining_time": 3.250016633,
                        "test": [
                          0.03782518984
                        ]
                      },
                      {
                        "learn": [
                          0.01303329092
                        ],
                        "iteration": 227,
                        "passed_time": 3.318550183,
                        "remaining_time": 3.231219915,
                        "test": [
                          0.037839795
                        ]
                      },
                      {
                        "learn": [
                          0.01300311416
                        ],
                        "iteration": 228,
                        "passed_time": 3.328736867,
                        "remaining_time": 3.212449116,
                        "test": [
                          0.03785341857
                        ]
                      },
                      {
                        "learn": [
                          0.01294166777
                        ],
                        "iteration": 229,
                        "passed_time": 3.339090207,
                        "remaining_time": 3.193912372,
                        "test": [
                          0.03780596218
                        ]
                      },
                      {
                        "learn": [
                          0.01288489132
                        ],
                        "iteration": 230,
                        "passed_time": 3.350220177,
                        "remaining_time": 3.176182765,
                        "test": [
                          0.03777934819
                        ]
                      },
                      {
                        "learn": [
                          0.01283718949
                        ],
                        "iteration": 231,
                        "passed_time": 3.361152462,
                        "remaining_time": 3.158324296,
                        "test": [
                          0.03776376604
                        ]
                      },
                      {
                        "learn": [
                          0.01281378508
                        ],
                        "iteration": 232,
                        "passed_time": 3.371349299,
                        "remaining_time": 3.139840335,
                        "test": [
                          0.037761259
                        ]
                      },
                      {
                        "learn": [
                          0.01276368939
                        ],
                        "iteration": 233,
                        "passed_time": 3.381556406,
                        "remaining_time": 3.121436682,
                        "test": [
                          0.03774366057
                        ]
                      },
                      {
                        "learn": [
                          0.01272679451
                        ],
                        "iteration": 234,
                        "passed_time": 3.392649083,
                        "remaining_time": 3.103912991,
                        "test": [
                          0.03774864862
                        ]
                      },
                      {
                        "learn": [
                          0.01268532235
                        ],
                        "iteration": 235,
                        "passed_time": 3.402809116,
                        "remaining_time": 3.085598097,
                        "test": [
                          0.03776016407
                        ]
                      },
                      {
                        "learn": [
                          0.01262442247
                        ],
                        "iteration": 236,
                        "passed_time": 3.413476099,
                        "remaining_time": 3.067807633,
                        "test": [
                          0.03775489434
                        ]
                      },
                      {
                        "learn": [
                          0.01248864596
                        ],
                        "iteration": 237,
                        "passed_time": 3.424380132,
                        "remaining_time": 3.050288184,
                        "test": [
                          0.03767467542
                        ]
                      },
                      {
                        "learn": [
                          0.0124598618
                        ],
                        "iteration": 238,
                        "passed_time": 3.434680988,
                        "remaining_time": 3.032291583,
                        "test": [
                          0.03767577622
                        ]
                      },
                      {
                        "learn": [
                          0.01235016417
                        ],
                        "iteration": 239,
                        "passed_time": 3.445015392,
                        "remaining_time": 3.014388468,
                        "test": [
                          0.03758586981
                        ]
                      },
                      {
                        "learn": [
                          0.01229343405
                        ],
                        "iteration": 240,
                        "passed_time": 3.455396362,
                        "remaining_time": 2.996588546,
                        "test": [
                          0.03758936659
                        ]
                      },
                      {
                        "learn": [
                          0.01225808714
                        ],
                        "iteration": 241,
                        "passed_time": 3.465945707,
                        "remaining_time": 2.978994657,
                        "test": [
                          0.03758032714
                        ]
                      },
                      {
                        "learn": [
                          0.01220684977
                        ],
                        "iteration": 242,
                        "passed_time": 3.476220924,
                        "remaining_time": 2.961225231,
                        "test": [
                          0.0375618635
                        ]
                      },
                      {
                        "learn": [
                          0.01214908536
                        ],
                        "iteration": 243,
                        "passed_time": 3.486835062,
                        "remaining_time": 2.943803372,
                        "test": [
                          0.03755959603
                        ]
                      },
                      {
                        "learn": [
                          0.0121347658
                        ],
                        "iteration": 244,
                        "passed_time": 3.500322872,
                        "remaining_time": 2.928841587,
                        "test": [
                          0.03757370346
                        ]
                      },
                      {
                        "learn": [
                          0.01210433954
                        ],
                        "iteration": 245,
                        "passed_time": 3.510665398,
                        "remaining_time": 2.9112835,
                        "test": [
                          0.03757812547
                        ]
                      },
                      {
                        "learn": [
                          0.01202692123
                        ],
                        "iteration": 246,
                        "passed_time": 3.521014873,
                        "remaining_time": 2.893789552,
                        "test": [
                          0.03751822528
                        ]
                      },
                      {
                        "learn": [
                          0.01192348908
                        ],
                        "iteration": 247,
                        "passed_time": 3.531280289,
                        "remaining_time": 2.876284751,
                        "test": [
                          0.03747216675
                        ]
                      },
                      {
                        "learn": [
                          0.01187574028
                        ],
                        "iteration": 248,
                        "passed_time": 3.546248119,
                        "remaining_time": 2.862634024,
                        "test": [
                          0.03745055168
                        ]
                      },
                      {
                        "learn": [
                          0.01185333373
                        ],
                        "iteration": 249,
                        "passed_time": 3.557212402,
                        "remaining_time": 2.845769922,
                        "test": [
                          0.03745888962
                        ]
                      },
                      {
                        "learn": [
                          0.01178276862
                        ],
                        "iteration": 250,
                        "passed_time": 3.567481899,
                        "remaining_time": 2.828401984,
                        "test": [
                          0.0374356056
                        ]
                      },
                      {
                        "learn": [
                          0.01174669685
                        ],
                        "iteration": 251,
                        "passed_time": 3.578182228,
                        "remaining_time": 2.811428894,
                        "test": [
                          0.03744329574
                        ]
                      },
                      {
                        "learn": [
                          0.01168088172
                        ],
                        "iteration": 252,
                        "passed_time": 3.588725351,
                        "remaining_time": 2.794382981,
                        "test": [
                          0.03744093356
                        ]
                      },
                      {
                        "learn": [
                          0.01161192846
                        ],
                        "iteration": 253,
                        "passed_time": 3.599060495,
                        "remaining_time": 2.777227783,
                        "test": [
                          0.03738321506
                        ]
                      },
                      {
                        "learn": [
                          0.0115561687
                        ],
                        "iteration": 254,
                        "passed_time": 3.609868071,
                        "remaining_time": 2.760487348,
                        "test": [
                          0.03733234424
                        ]
                      },
                      {
                        "learn": [
                          0.0115187795
                        ],
                        "iteration": 255,
                        "passed_time": 3.620057034,
                        "remaining_time": 2.743324471,
                        "test": [
                          0.03735390384
                        ]
                      },
                      {
                        "learn": [
                          0.01146754849
                        ],
                        "iteration": 256,
                        "passed_time": 3.630320997,
                        "remaining_time": 2.726272188,
                        "test": [
                          0.03734496769
                        ]
                      },
                      {
                        "learn": [
                          0.01142770782
                        ],
                        "iteration": 257,
                        "passed_time": 3.640481425,
                        "remaining_time": 2.709195479,
                        "test": [
                          0.03734558107
                        ]
                      },
                      {
                        "learn": [
                          0.01140849569
                        ],
                        "iteration": 258,
                        "passed_time": 3.650975518,
                        "remaining_time": 2.692418239,
                        "test": [
                          0.03733434217
                        ]
                      },
                      {
                        "learn": [
                          0.01136946356
                        ],
                        "iteration": 259,
                        "passed_time": 3.661259783,
                        "remaining_time": 2.675535996,
                        "test": [
                          0.03735277294
                        ]
                      },
                      {
                        "learn": [
                          0.01135186767
                        ],
                        "iteration": 260,
                        "passed_time": 3.671638024,
                        "remaining_time": 2.658772362,
                        "test": [
                          0.03733402425
                        ]
                      },
                      {
                        "learn": [
                          0.01128413157
                        ],
                        "iteration": 261,
                        "passed_time": 3.681939731,
                        "remaining_time": 2.642002555,
                        "test": [
                          0.03728972165
                        ]
                      },
                      {
                        "learn": [
                          0.01115538854
                        ],
                        "iteration": 262,
                        "passed_time": 3.692188492,
                        "remaining_time": 2.625244289,
                        "test": [
                          0.03721497055
                        ]
                      },
                      {
                        "learn": [
                          0.01112692431
                        ],
                        "iteration": 263,
                        "passed_time": 3.702606812,
                        "remaining_time": 2.608654799,
                        "test": [
                          0.03721002819
                        ]
                      },
                      {
                        "learn": [
                          0.01103804259
                        ],
                        "iteration": 264,
                        "passed_time": 3.71298345,
                        "remaining_time": 2.592082786,
                        "test": [
                          0.03717050662
                        ]
                      },
                      {
                        "learn": [
                          0.01100576323
                        ],
                        "iteration": 265,
                        "passed_time": 3.723720704,
                        "remaining_time": 2.575806803,
                        "test": [
                          0.03718964297
                        ]
                      },
                      {
                        "learn": [
                          0.01099392365
                        ],
                        "iteration": 266,
                        "passed_time": 3.734213996,
                        "remaining_time": 2.559405098,
                        "test": [
                          0.03720190307
                        ]
                      },
                      {
                        "learn": [
                          0.0109188214
                        ],
                        "iteration": 267,
                        "passed_time": 3.744753651,
                        "remaining_time": 2.543078972,
                        "test": [
                          0.03711497781
                        ]
                      },
                      {
                        "learn": [
                          0.01084543324
                        ],
                        "iteration": 268,
                        "passed_time": 3.756463654,
                        "remaining_time": 2.527583351,
                        "test": [
                          0.03706855441
                        ]
                      },
                      {
                        "learn": [
                          0.01079994916
                        ],
                        "iteration": 269,
                        "passed_time": 3.767405402,
                        "remaining_time": 2.511603601,
                        "test": [
                          0.03702803237
                        ]
                      },
                      {
                        "learn": [
                          0.01069715734
                        ],
                        "iteration": 270,
                        "passed_time": 3.777883759,
                        "remaining_time": 2.495354955,
                        "test": [
                          0.03696280873
                        ]
                      },
                      {
                        "learn": [
                          0.01066479671
                        ],
                        "iteration": 271,
                        "passed_time": 3.790448013,
                        "remaining_time": 2.480513773,
                        "test": [
                          0.03696350034
                        ]
                      },
                      {
                        "learn": [
                          0.01064587533
                        ],
                        "iteration": 272,
                        "passed_time": 3.801173006,
                        "remaining_time": 2.464496784,
                        "test": [
                          0.03694806667
                        ]
                      },
                      {
                        "learn": [
                          0.01061345117
                        ],
                        "iteration": 273,
                        "passed_time": 3.811542168,
                        "remaining_time": 2.44828986,
                        "test": [
                          0.03696221159
                        ]
                      },
                      {
                        "learn": [
                          0.01060175028
                        ],
                        "iteration": 274,
                        "passed_time": 3.821819894,
                        "remaining_time": 2.432067205,
                        "test": [
                          0.03695727143
                        ]
                      },
                      {
                        "learn": [
                          0.01057485275
                        ],
                        "iteration": 275,
                        "passed_time": 3.831971277,
                        "remaining_time": 2.415807979,
                        "test": [
                          0.0369522526
                        ]
                      },
                      {
                        "learn": [
                          0.01049414646
                        ],
                        "iteration": 276,
                        "passed_time": 3.842082786,
                        "remaining_time": 2.39956795,
                        "test": [
                          0.03685280981
                        ]
                      },
                      {
                        "learn": [
                          0.01042815852
                        ],
                        "iteration": 277,
                        "passed_time": 3.852245588,
                        "remaining_time": 2.383403745,
                        "test": [
                          0.03684469068
                        ]
                      },
                      {
                        "learn": [
                          0.01041710413
                        ],
                        "iteration": 278,
                        "passed_time": 3.86243933,
                        "remaining_time": 2.367301525,
                        "test": [
                          0.03685888977
                        ]
                      },
                      {
                        "learn": [
                          0.01039054184
                        ],
                        "iteration": 279,
                        "passed_time": 3.872806775,
                        "remaining_time": 2.35134697,
                        "test": [
                          0.03687099854
                        ]
                      },
                      {
                        "learn": [
                          0.01035529077
                        ],
                        "iteration": 280,
                        "passed_time": 3.882998921,
                        "remaining_time": 2.335326753,
                        "test": [
                          0.03687688595
                        ]
                      },
                      {
                        "learn": [
                          0.01025212016
                        ],
                        "iteration": 281,
                        "passed_time": 3.896099439,
                        "remaining_time": 2.321080517,
                        "test": [
                          0.03682375782
                        ]
                      },
                      {
                        "learn": [
                          0.01021737584
                        ],
                        "iteration": 282,
                        "passed_time": 3.907691511,
                        "remaining_time": 2.305952235,
                        "test": [
                          0.03684879872
                        ]
                      },
                      {
                        "learn": [
                          0.01019378643
                        ],
                        "iteration": 283,
                        "passed_time": 3.918887802,
                        "remaining_time": 2.290617518,
                        "test": [
                          0.03685130894
                        ]
                      },
                      {
                        "learn": [
                          0.01018438966
                        ],
                        "iteration": 284,
                        "passed_time": 3.929104715,
                        "remaining_time": 2.274744835,
                        "test": [
                          0.03686506529
                        ]
                      },
                      {
                        "learn": [
                          0.01015449365
                        ],
                        "iteration": 285,
                        "passed_time": 3.941416125,
                        "remaining_time": 2.260112743,
                        "test": [
                          0.0368776072
                        ]
                      },
                      {
                        "learn": [
                          0.01012815514
                        ],
                        "iteration": 286,
                        "passed_time": 3.951689436,
                        "remaining_time": 2.244339296,
                        "test": [
                          0.03688029999
                        ]
                      },
                      {
                        "learn": [
                          0.01009943887
                        ],
                        "iteration": 287,
                        "passed_time": 3.961924096,
                        "remaining_time": 2.228582304,
                        "test": [
                          0.0368757995
                        ]
                      },
                      {
                        "learn": [
                          0.01001703206
                        ],
                        "iteration": 288,
                        "passed_time": 3.972220167,
                        "remaining_time": 2.21289774,
                        "test": [
                          0.03682157779
                        ]
                      },
                      {
                        "learn": [
                          0.009986303369
                        ],
                        "iteration": 289,
                        "passed_time": 4.065245496,
                        "remaining_time": 2.242894067,
                        "test": [
                          0.03683340752
                        ]
                      },
                      {
                        "learn": [
                          0.009962108174
                        ],
                        "iteration": 290,
                        "passed_time": 4.091388097,
                        "remaining_time": 2.235500713,
                        "test": [
                          0.03681987986
                        ]
                      },
                      {
                        "learn": [
                          0.009892054246
                        ],
                        "iteration": 291,
                        "passed_time": 4.223798872,
                        "remaining_time": 2.285480212,
                        "test": [
                          0.03672249942
                        ]
                      },
                      {
                        "learn": [
                          0.009826412232
                        ],
                        "iteration": 292,
                        "passed_time": 4.244781415,
                        "remaining_time": 2.274507448,
                        "test": [
                          0.03666031208
                        ]
                      },
                      {
                        "learn": [
                          0.009790294818
                        ],
                        "iteration": 293,
                        "passed_time": 4.255258025,
                        "remaining_time": 2.257892013,
                        "test": [
                          0.03667184909
                        ]
                      },
                      {
                        "learn": [
                          0.009702269902
                        ],
                        "iteration": 294,
                        "passed_time": 4.265403986,
                        "remaining_time": 2.241144467,
                        "test": [
                          0.03658141554
                        ]
                      },
                      {
                        "learn": [
                          0.009629707271
                        ],
                        "iteration": 295,
                        "passed_time": 4.27558247,
                        "remaining_time": 2.224458447,
                        "test": [
                          0.03654264188
                        ]
                      },
                      {
                        "learn": [
                          0.009596321468
                        ],
                        "iteration": 296,
                        "passed_time": 4.287374499,
                        "remaining_time": 2.208647469,
                        "test": [
                          0.03656778131
                        ]
                      },
                      {
                        "learn": [
                          0.009573873259
                        ],
                        "iteration": 297,
                        "passed_time": 4.298654833,
                        "remaining_time": 2.192602465,
                        "test": [
                          0.0365835432
                        ]
                      },
                      {
                        "learn": [
                          0.009544233526
                        ],
                        "iteration": 298,
                        "passed_time": 4.309353227,
                        "remaining_time": 2.176295442,
                        "test": [
                          0.03658244861
                        ]
                      },
                      {
                        "learn": [
                          0.009467084385
                        ],
                        "iteration": 299,
                        "passed_time": 4.319601783,
                        "remaining_time": 2.159800892,
                        "test": [
                          0.03657429827
                        ]
                      },
                      {
                        "learn": [
                          0.0094389907
                        ],
                        "iteration": 300,
                        "passed_time": 4.331067915,
                        "remaining_time": 2.143950563,
                        "test": [
                          0.03657107095
                        ]
                      },
                      {
                        "learn": [
                          0.009370900672
                        ],
                        "iteration": 301,
                        "passed_time": 4.341298962,
                        "remaining_time": 2.127523995,
                        "test": [
                          0.03647689968
                        ]
                      },
                      {
                        "learn": [
                          0.009347482671
                        ],
                        "iteration": 302,
                        "passed_time": 4.351604816,
                        "remaining_time": 2.111174614,
                        "test": [
                          0.03649316487
                        ]
                      },
                      {
                        "learn": [
                          0.009278037697
                        ],
                        "iteration": 303,
                        "passed_time": 4.361798256,
                        "remaining_time": 2.094811005,
                        "test": [
                          0.03647045989
                        ]
                      },
                      {
                        "learn": [
                          0.009242193329
                        ],
                        "iteration": 304,
                        "passed_time": 4.373257259,
                        "remaining_time": 2.079089517,
                        "test": [
                          0.03644361738
                        ]
                      },
                      {
                        "learn": [
                          0.009217153912
                        ],
                        "iteration": 305,
                        "passed_time": 4.383376144,
                        "remaining_time": 2.062765244,
                        "test": [
                          0.03644321818
                        ]
                      },
                      {
                        "learn": [
                          0.009204479988
                        ],
                        "iteration": 306,
                        "passed_time": 4.393455469,
                        "remaining_time": 2.046462971,
                        "test": [
                          0.03642153134
                        ]
                      },
                      {
                        "learn": [
                          0.009180737498
                        ],
                        "iteration": 307,
                        "passed_time": 4.404021621,
                        "remaining_time": 2.030425553,
                        "test": [
                          0.03641820791
                        ]
                      },
                      {
                        "learn": [
                          0.009142746834
                        ],
                        "iteration": 308,
                        "passed_time": 4.414868077,
                        "remaining_time": 2.014551452,
                        "test": [
                          0.03641850857
                        ]
                      },
                      {
                        "learn": [
                          0.009116386509
                        ],
                        "iteration": 309,
                        "passed_time": 4.425162771,
                        "remaining_time": 1.998460606,
                        "test": [
                          0.03642525019
                        ]
                      },
                      {
                        "learn": [
                          0.009094693003
                        ],
                        "iteration": 310,
                        "passed_time": 4.435424224,
                        "remaining_time": 1.982392178,
                        "test": [
                          0.03643300004
                        ]
                      },
                      {
                        "learn": [
                          0.009063762906
                        ],
                        "iteration": 311,
                        "passed_time": 4.446703847,
                        "remaining_time": 1.966811317,
                        "test": [
                          0.03642856894
                        ]
                      },
                      {
                        "learn": [
                          0.009023156868
                        ],
                        "iteration": 312,
                        "passed_time": 4.457067237,
                        "remaining_time": 1.950856906,
                        "test": [
                          0.03643897808
                        ]
                      },
                      {
                        "learn": [
                          0.00900487281
                        ],
                        "iteration": 313,
                        "passed_time": 4.467443093,
                        "remaining_time": 1.934943505,
                        "test": [
                          0.03641627382
                        ]
                      },
                      {
                        "learn": [
                          0.008920198507
                        ],
                        "iteration": 314,
                        "passed_time": 4.477677768,
                        "remaining_time": 1.919004758,
                        "test": [
                          0.03633915699
                        ]
                      },
                      {
                        "learn": [
                          0.008845085589
                        ],
                        "iteration": 315,
                        "passed_time": 4.487952233,
                        "remaining_time": 1.903118985,
                        "test": [
                          0.03623175065
                        ]
                      },
                      {
                        "learn": [
                          0.008835398723
                        ],
                        "iteration": 316,
                        "passed_time": 4.498194096,
                        "remaining_time": 1.887254936,
                        "test": [
                          0.03624088948
                        ]
                      },
                      {
                        "learn": [
                          0.008796999941
                        ],
                        "iteration": 317,
                        "passed_time": 4.508403252,
                        "remaining_time": 1.871412671,
                        "test": [
                          0.03624601917
                        ]
                      },
                      {
                        "learn": [
                          0.008777367631
                        ],
                        "iteration": 318,
                        "passed_time": 4.518601466,
                        "remaining_time": 1.855601229,
                        "test": [
                          0.03624973761
                        ]
                      },
                      {
                        "learn": [
                          0.008703413663
                        ],
                        "iteration": 319,
                        "passed_time": 4.528920703,
                        "remaining_time": 1.839874036,
                        "test": [
                          0.03621783362
                        ]
                      },
                      {
                        "learn": [
                          0.008640670631
                        ],
                        "iteration": 320,
                        "passed_time": 4.539526001,
                        "remaining_time": 1.824295496,
                        "test": [
                          0.03622107117
                        ]
                      },
                      {
                        "learn": [
                          0.008629892001
                        ],
                        "iteration": 321,
                        "passed_time": 4.550723666,
                        "remaining_time": 1.808983321,
                        "test": [
                          0.03622813403
                        ]
                      },
                      {
                        "learn": [
                          0.008601560059
                        ],
                        "iteration": 322,
                        "passed_time": 4.561438794,
                        "remaining_time": 1.793506894,
                        "test": [
                          0.03621694231
                        ]
                      },
                      {
                        "learn": [
                          0.008524184245
                        ],
                        "iteration": 323,
                        "passed_time": 4.571832961,
                        "remaining_time": 1.77793504,
                        "test": [
                          0.03618888698
                        ]
                      },
                      {
                        "learn": [
                          0.008498885992
                        ],
                        "iteration": 324,
                        "passed_time": 4.582421281,
                        "remaining_time": 1.762469723,
                        "test": [
                          0.03619959579
                        ]
                      },
                      {
                        "learn": [
                          0.008442056967
                        ],
                        "iteration": 325,
                        "passed_time": 4.59269737,
                        "remaining_time": 1.746915564,
                        "test": [
                          0.03613269884
                        ]
                      },
                      {
                        "learn": [
                          0.008421275083
                        ],
                        "iteration": 326,
                        "passed_time": 4.602940123,
                        "remaining_time": 1.731381147,
                        "test": [
                          0.03614502352
                        ]
                      },
                      {
                        "learn": [
                          0.0083958236
                        ],
                        "iteration": 327,
                        "passed_time": 4.613378096,
                        "remaining_time": 1.715951609,
                        "test": [
                          0.03615518347
                        ]
                      },
                      {
                        "learn": [
                          0.00835546415
                        ],
                        "iteration": 328,
                        "passed_time": 4.623689586,
                        "remaining_time": 1.700505897,
                        "test": [
                          0.03614006015
                        ]
                      },
                      {
                        "learn": [
                          0.008333281821
                        ],
                        "iteration": 329,
                        "passed_time": 4.633969117,
                        "remaining_time": 1.685079679,
                        "test": [
                          0.03615528913
                        ]
                      },
                      {
                        "learn": [
                          0.008296037796
                        ],
                        "iteration": 330,
                        "passed_time": 4.644386733,
                        "remaining_time": 1.669734203,
                        "test": [
                          0.03614780928
                        ]
                      },
                      {
                        "learn": [
                          0.008246805545
                        ],
                        "iteration": 331,
                        "passed_time": 4.654969129,
                        "remaining_time": 1.65447698,
                        "test": [
                          0.03612849234
                        ]
                      },
                      {
                        "learn": [
                          0.008230330733
                        ],
                        "iteration": 332,
                        "passed_time": 4.665167868,
                        "remaining_time": 1.639113035,
                        "test": [
                          0.03611613843
                        ]
                      },
                      {
                        "learn": [
                          0.008202208855
                        ],
                        "iteration": 333,
                        "passed_time": 4.675398589,
                        "remaining_time": 1.623791127,
                        "test": [
                          0.03612923685
                        ]
                      },
                      {
                        "learn": [
                          0.008142714072
                        ],
                        "iteration": 334,
                        "passed_time": 4.685566616,
                        "remaining_time": 1.608478092,
                        "test": [
                          0.03609047177
                        ]
                      },
                      {
                        "learn": [
                          0.008127654846
                        ],
                        "iteration": 335,
                        "passed_time": 4.69806097,
                        "remaining_time": 1.593984972,
                        "test": [
                          0.03609776054
                        ]
                      },
                      {
                        "learn": [
                          0.008086722759
                        ],
                        "iteration": 336,
                        "passed_time": 4.708339606,
                        "remaining_time": 1.578760758,
                        "test": [
                          0.03611007677
                        ]
                      },
                      {
                        "learn": [
                          0.008060326268
                        ],
                        "iteration": 337,
                        "passed_time": 4.718802902,
                        "remaining_time": 1.563626997,
                        "test": [
                          0.03610525255
                        ]
                      },
                      {
                        "learn": [
                          0.008025976577
                        ],
                        "iteration": 338,
                        "passed_time": 4.72914309,
                        "remaining_time": 1.548480481,
                        "test": [
                          0.03610700473
                        ]
                      },
                      {
                        "learn": [
                          0.008008466894
                        ],
                        "iteration": 339,
                        "passed_time": 4.739444183,
                        "remaining_time": 1.533349589,
                        "test": [
                          0.03611070118
                        ]
                      },
                      {
                        "learn": [
                          0.007953336782
                        ],
                        "iteration": 340,
                        "passed_time": 4.749745658,
                        "remaining_time": 1.518247146,
                        "test": [
                          0.0361077073
                        ]
                      },
                      {
                        "learn": [
                          0.00794014951
                        ],
                        "iteration": 341,
                        "passed_time": 4.760094286,
                        "remaining_time": 1.503187669,
                        "test": [
                          0.03612670901
                        ]
                      },
                      {
                        "learn": [
                          0.007919776676
                        ],
                        "iteration": 342,
                        "passed_time": 4.770460567,
                        "remaining_time": 1.488161168,
                        "test": [
                          0.03613616183
                        ]
                      },
                      {
                        "learn": [
                          0.007865120429
                        ],
                        "iteration": 343,
                        "passed_time": 4.78082509,
                        "remaining_time": 1.47316122,
                        "test": [
                          0.03612181753
                        ]
                      },
                      {
                        "learn": [
                          0.007826290763
                        ],
                        "iteration": 344,
                        "passed_time": 4.793770566,
                        "remaining_time": 1.458973651,
                        "test": [
                          0.03613149441
                        ]
                      },
                      {
                        "learn": [
                          0.007771069891
                        ],
                        "iteration": 345,
                        "passed_time": 4.803972543,
                        "remaining_time": 1.443968626,
                        "test": [
                          0.03609178845
                        ]
                      },
                      {
                        "learn": [
                          0.00774342036
                        ],
                        "iteration": 346,
                        "passed_time": 4.814200096,
                        "remaining_time": 1.428998876,
                        "test": [
                          0.03608724274
                        ]
                      },
                      {
                        "learn": [
                          0.007729428119
                        ],
                        "iteration": 347,
                        "passed_time": 4.824531409,
                        "remaining_time": 1.414086792,
                        "test": [
                          0.03609287087
                        ]
                      },
                      {
                        "learn": [
                          0.007705639402
                        ],
                        "iteration": 348,
                        "passed_time": 4.834676988,
                        "remaining_time": 1.399147208,
                        "test": [
                          0.03610974134
                        ]
                      },
                      {
                        "learn": [
                          0.007691441596
                        ],
                        "iteration": 349,
                        "passed_time": 4.844837096,
                        "remaining_time": 1.38423917,
                        "test": [
                          0.03611733569
                        ]
                      },
                      {
                        "learn": [
                          0.00768228223
                        ],
                        "iteration": 350,
                        "passed_time": 4.855026456,
                        "remaining_time": 1.369366436,
                        "test": [
                          0.0361150743
                        ]
                      },
                      {
                        "learn": [
                          0.007624967943
                        ],
                        "iteration": 351,
                        "passed_time": 4.865263018,
                        "remaining_time": 1.354533454,
                        "test": [
                          0.03606048243
                        ]
                      },
                      {
                        "learn": [
                          0.00757830329
                        ],
                        "iteration": 352,
                        "passed_time": 4.875413878,
                        "remaining_time": 1.339702964,
                        "test": [
                          0.036044079
                        ]
                      },
                      {
                        "learn": [
                          0.007563379689
                        ],
                        "iteration": 353,
                        "passed_time": 4.885638634,
                        "remaining_time": 1.324918952,
                        "test": [
                          0.03604231954
                        ]
                      },
                      {
                        "learn": [
                          0.007524177499
                        ],
                        "iteration": 354,
                        "passed_time": 4.908708327,
                        "remaining_time": 1.313598003,
                        "test": [
                          0.03599612244
                        ]
                      },
                      {
                        "learn": [
                          0.007507552731
                        ],
                        "iteration": 355,
                        "passed_time": 4.92688176,
                        "remaining_time": 1.300918218,
                        "test": [
                          0.03600365056
                        ]
                      },
                      {
                        "learn": [
                          0.007497350698
                        ],
                        "iteration": 356,
                        "passed_time": 4.944937295,
                        "remaining_time": 1.288176942,
                        "test": [
                          0.03601237992
                        ]
                      },
                      {
                        "learn": [
                          0.007483531117
                        ],
                        "iteration": 357,
                        "passed_time": 4.970034497,
                        "remaining_time": 1.277215569,
                        "test": [
                          0.03602488541
                        ]
                      },
                      {
                        "learn": [
                          0.007474147877
                        ],
                        "iteration": 358,
                        "passed_time": 4.991969976,
                        "remaining_time": 1.265374005,
                        "test": [
                          0.03603090652
                        ]
                      },
                      {
                        "learn": [
                          0.007458618237
                        ],
                        "iteration": 359,
                        "passed_time": 5.032050155,
                        "remaining_time": 1.258012539,
                        "test": [
                          0.03603575201
                        ]
                      },
                      {
                        "learn": [
                          0.007446529069
                        ],
                        "iteration": 360,
                        "passed_time": 5.059088324,
                        "remaining_time": 1.247254462,
                        "test": [
                          0.03605120604
                        ]
                      },
                      {
                        "learn": [
                          0.007435170558
                        ],
                        "iteration": 361,
                        "passed_time": 5.525932908,
                        "remaining_time": 1.343320707,
                        "test": [
                          0.0360618759
                        ]
                      },
                      {
                        "learn": [
                          0.007409424739
                        ],
                        "iteration": 362,
                        "passed_time": 5.580917012,
                        "remaining_time": 1.337575152,
                        "test": [
                          0.03606395651
                        ]
                      },
                      {
                        "learn": [
                          0.007392938235
                        ],
                        "iteration": 363,
                        "passed_time": 5.645093673,
                        "remaining_time": 1.333730923,
                        "test": [
                          0.03606332062
                        ]
                      },
                      {
                        "learn": [
                          0.007333320859
                        ],
                        "iteration": 364,
                        "passed_time": 5.683693095,
                        "remaining_time": 1.323599762,
                        "test": [
                          0.03601303276
                        ]
                      },
                      {
                        "learn": [
                          0.007318135415
                        ],
                        "iteration": 365,
                        "passed_time": 5.722227721,
                        "remaining_time": 1.313298166,
                        "test": [
                          0.03603107369
                        ]
                      },
                      {
                        "learn": [
                          0.007286450473
                        ],
                        "iteration": 366,
                        "passed_time": 5.749672222,
                        "remaining_time": 1.30033459,
                        "test": [
                          0.03601113304
                        ]
                      },
                      {
                        "learn": [
                          0.00727461381
                        ],
                        "iteration": 367,
                        "passed_time": 5.787610964,
                        "remaining_time": 1.289630704,
                        "test": [
                          0.03601881585
                        ]
                      },
                      {
                        "learn": [
                          0.00721658358
                        ],
                        "iteration": 368,
                        "passed_time": 5.824589863,
                        "remaining_time": 1.278568506,
                        "test": [
                          0.03597278744
                        ]
                      },
                      {
                        "learn": [
                          0.007202785675
                        ],
                        "iteration": 369,
                        "passed_time": 5.853150612,
                        "remaining_time": 1.265546078,
                        "test": [
                          0.0359956502
                        ]
                      },
                      {
                        "learn": [
                          0.00713686562
                        ],
                        "iteration": 370,
                        "passed_time": 5.890814152,
                        "remaining_time": 1.254378216,
                        "test": [
                          0.03596100552
                        ]
                      },
                      {
                        "learn": [
                          0.007116115587
                        ],
                        "iteration": 371,
                        "passed_time": 5.933595224,
                        "remaining_time": 1.244140934,
                        "test": [
                          0.03598078793
                        ]
                      },
                      {
                        "learn": [
                          0.007102287086
                        ],
                        "iteration": 372,
                        "passed_time": 5.967940971,
                        "remaining_time": 1.231987814,
                        "test": [
                          0.03598195287
                        ]
                      },
                      {
                        "learn": [
                          0.007087730987
                        ],
                        "iteration": 373,
                        "passed_time": 6.001677295,
                        "remaining_time": 1.219592178,
                        "test": [
                          0.03597535525
                        ]
                      },
                      {
                        "learn": [
                          0.00707051481
                        ],
                        "iteration": 374,
                        "passed_time": 6.042613958,
                        "remaining_time": 1.208522792,
                        "test": [
                          0.03599545017
                        ]
                      },
                      {
                        "learn": [
                          0.007048784854
                        ],
                        "iteration": 375,
                        "passed_time": 6.075401426,
                        "remaining_time": 1.195690706,
                        "test": [
                          0.03598211028
                        ]
                      },
                      {
                        "learn": [
                          0.00703392658
                        ],
                        "iteration": 376,
                        "passed_time": 6.1114505,
                        "remaining_time": 1.183384314,
                        "test": [
                          0.0359867586
                        ]
                      },
                      {
                        "learn": [
                          0.007016311942
                        ],
                        "iteration": 377,
                        "passed_time": 6.154210584,
                        "remaining_time": 1.172230587,
                        "test": [
                          0.03599694164
                        ]
                      },
                      {
                        "learn": [
                          0.006992994354
                        ],
                        "iteration": 378,
                        "passed_time": 6.180755636,
                        "remaining_time": 1.157872428,
                        "test": [
                          0.03598054283
                        ]
                      },
                      {
                        "learn": [
                          0.006962656975
                        ],
                        "iteration": 379,
                        "passed_time": 6.20428439,
                        "remaining_time": 1.142894493,
                        "test": [
                          0.03597171527
                        ]
                      },
                      {
                        "learn": [
                          0.006939811544
                        ],
                        "iteration": 380,
                        "passed_time": 6.222666724,
                        "remaining_time": 1.126939643,
                        "test": [
                          0.03594811108
                        ]
                      },
                      {
                        "learn": [
                          0.00688347149
                        ],
                        "iteration": 381,
                        "passed_time": 6.243610769,
                        "remaining_time": 1.111428095,
                        "test": [
                          0.03592964755
                        ]
                      },
                      {
                        "learn": [
                          0.006873436984
                        ],
                        "iteration": 382,
                        "passed_time": 6.26956035,
                        "remaining_time": 1.096763821,
                        "test": [
                          0.03593215946
                        ]
                      },
                      {
                        "learn": [
                          0.006854201221
                        ],
                        "iteration": 383,
                        "passed_time": 6.299004733,
                        "remaining_time": 1.082641438,
                        "test": [
                          0.03593132636
                        ]
                      },
                      {
                        "learn": [
                          0.006824784991
                        ],
                        "iteration": 384,
                        "passed_time": 6.324224328,
                        "remaining_time": 1.067726185,
                        "test": [
                          0.03593099812
                        ]
                      },
                      {
                        "learn": [
                          0.006781959728
                        ],
                        "iteration": 385,
                        "passed_time": 6.342255811,
                        "remaining_time": 1.05156573,
                        "test": [
                          0.03591575423
                        ]
                      },
                      {
                        "learn": [
                          0.006767898798
                        ],
                        "iteration": 386,
                        "passed_time": 6.365259513,
                        "remaining_time": 1.036205037,
                        "test": [
                          0.03592956924
                        ]
                      },
                      {
                        "learn": [
                          0.006735959508
                        ],
                        "iteration": 387,
                        "passed_time": 6.389041192,
                        "remaining_time": 1.020929263,
                        "test": [
                          0.0358966507
                        ]
                      },
                      {
                        "learn": [
                          0.006723332128
                        ],
                        "iteration": 388,
                        "passed_time": 6.411893106,
                        "remaining_time": 1.005463958,
                        "test": [
                          0.03590174185
                        ]
                      },
                      {
                        "learn": [
                          0.006711519763
                        ],
                        "iteration": 389,
                        "passed_time": 6.437039008,
                        "remaining_time": 0.9903136935,
                        "test": [
                          0.03590170525
                        ]
                      },
                      {
                        "learn": [
                          0.006672020311
                        ],
                        "iteration": 390,
                        "passed_time": 6.459534081,
                        "remaining_time": 0.9747123038,
                        "test": [
                          0.03586927714
                        ]
                      },
                      {
                        "learn": [
                          0.006650713122
                        ],
                        "iteration": 391,
                        "passed_time": 6.481308121,
                        "remaining_time": 0.9589690587,
                        "test": [
                          0.03586057411
                        ]
                      },
                      {
                        "learn": [
                          0.006618312253
                        ],
                        "iteration": 392,
                        "passed_time": 6.50648664,
                        "remaining_time": 0.943688902,
                        "test": [
                          0.03586657417
                        ]
                      },
                      {
                        "learn": [
                          0.006578719886
                        ],
                        "iteration": 393,
                        "passed_time": 6.534913359,
                        "remaining_time": 0.9288201729,
                        "test": [
                          0.03583932322
                        ]
                      },
                      {
                        "learn": [
                          0.006572070845
                        ],
                        "iteration": 394,
                        "passed_time": 6.574673521,
                        "remaining_time": 0.91546087,
                        "test": [
                          0.03585476872
                        ]
                      },
                      {
                        "learn": [
                          0.006555045132
                        ],
                        "iteration": 395,
                        "passed_time": 6.597375723,
                        "remaining_time": 0.8996421441,
                        "test": [
                          0.03584350153
                        ]
                      },
                      {
                        "learn": [
                          0.006539938289
                        ],
                        "iteration": 396,
                        "passed_time": 6.619583197,
                        "remaining_time": 0.8837226938,
                        "test": [
                          0.0358395507
                        ]
                      },
                      {
                        "learn": [
                          0.00648414906
                        ],
                        "iteration": 397,
                        "passed_time": 6.647154711,
                        "remaining_time": 0.8684724748,
                        "test": [
                          0.03580653871
                        ]
                      },
                      {
                        "learn": [
                          0.00647385742
                        ],
                        "iteration": 398,
                        "passed_time": 6.669704174,
                        "remaining_time": 0.8525185786,
                        "test": [
                          0.03580814686
                        ]
                      },
                      {
                        "learn": [
                          0.00645771389
                        ],
                        "iteration": 399,
                        "passed_time": 6.69493038,
                        "remaining_time": 0.8368662975,
                        "test": [
                          0.03579751208
                        ]
                      },
                      {
                        "learn": [
                          0.006444335465
                        ],
                        "iteration": 400,
                        "passed_time": 6.721766968,
                        "remaining_time": 0.821363046,
                        "test": [
                          0.03580785666
                        ]
                      },
                      {
                        "learn": [
                          0.006425289864
                        ],
                        "iteration": 401,
                        "passed_time": 6.748087742,
                        "remaining_time": 0.8057418199,
                        "test": [
                          0.03581201213
                        ]
                      },
                      {
                        "learn": [
                          0.006409533235
                        ],
                        "iteration": 402,
                        "passed_time": 6.774312492,
                        "remaining_time": 0.7900562956,
                        "test": [
                          0.03580866611
                        ]
                      },
                      {
                        "learn": [
                          0.006373554544
                        ],
                        "iteration": 403,
                        "passed_time": 6.797927042,
                        "remaining_time": 0.7740213959,
                        "test": [
                          0.03575580504
                        ]
                      },
                      {
                        "learn": [
                          0.006369688813
                        ],
                        "iteration": 404,
                        "passed_time": 6.822333652,
                        "remaining_time": 0.7580370724,
                        "test": [
                          0.03575484996
                        ]
                      },
                      {
                        "learn": [
                          0.006355069584
                        ],
                        "iteration": 405,
                        "passed_time": 6.843528931,
                        "remaining_time": 0.7416632339,
                        "test": [
                          0.03577819062
                        ]
                      },
                      {
                        "learn": [
                          0.006342199304
                        ],
                        "iteration": 406,
                        "passed_time": 6.871182248,
                        "remaining_time": 0.7259480016,
                        "test": [
                          0.03576780704
                        ]
                      },
                      {
                        "learn": [
                          0.006316247558
                        ],
                        "iteration": 407,
                        "passed_time": 6.891899271,
                        "remaining_time": 0.7094602191,
                        "test": [
                          0.03577964542
                        ]
                      },
                      {
                        "learn": [
                          0.006261327724
                        ],
                        "iteration": 408,
                        "passed_time": 6.914129189,
                        "remaining_time": 0.6931034151,
                        "test": [
                          0.0357725266
                        ]
                      },
                      {
                        "learn": [
                          0.006249416587
                        ],
                        "iteration": 409,
                        "passed_time": 6.939358542,
                        "remaining_time": 0.6770105894,
                        "test": [
                          0.03576941958
                        ]
                      },
                      {
                        "learn": [
                          0.006242124651
                        ],
                        "iteration": 410,
                        "passed_time": 6.963531442,
                        "remaining_time": 0.6607730566,
                        "test": [
                          0.03577596852
                        ]
                      },
                      {
                        "learn": [
                          0.006219098337
                        ],
                        "iteration": 411,
                        "passed_time": 6.992556426,
                        "remaining_time": 0.6449445247,
                        "test": [
                          0.03579027524
                        ]
                      },
                      {
                        "learn": [
                          0.006181932468
                        ],
                        "iteration": 412,
                        "passed_time": 7.013902116,
                        "remaining_time": 0.628364112,
                        "test": [
                          0.03576535324
                        ]
                      },
                      {
                        "learn": [
                          0.006166273378
                        ],
                        "iteration": 413,
                        "passed_time": 7.040518108,
                        "remaining_time": 0.6122189659,
                        "test": [
                          0.0357714025
                        ]
                      },
                      {
                        "learn": [
                          0.006153911504
                        ],
                        "iteration": 414,
                        "passed_time": 7.063483745,
                        "remaining_time": 0.5957154966,
                        "test": [
                          0.03576879418
                        ]
                      },
                      {
                        "learn": [
                          0.006139285693
                        ],
                        "iteration": 415,
                        "passed_time": 7.082680152,
                        "remaining_time": 0.578872897,
                        "test": [
                          0.03577629944
                        ]
                      },
                      {
                        "learn": [
                          0.006130904044
                        ],
                        "iteration": 416,
                        "passed_time": 7.104173536,
                        "remaining_time": 0.5622007835,
                        "test": [
                          0.03576863053
                        ]
                      },
                      {
                        "learn": [
                          0.00610296815
                        ],
                        "iteration": 417,
                        "passed_time": 7.128889642,
                        "remaining_time": 0.5457523171,
                        "test": [
                          0.03577407686
                        ]
                      },
                      {
                        "learn": [
                          0.006075978963
                        ],
                        "iteration": 418,
                        "passed_time": 7.152359416,
                        "remaining_time": 0.5291721764,
                        "test": [
                          0.03578898625
                        ]
                      },
                      {
                        "learn": [
                          0.006055667922
                        ],
                        "iteration": 419,
                        "passed_time": 7.173919791,
                        "remaining_time": 0.5124228422,
                        "test": [
                          0.03576868323
                        ]
                      },
                      {
                        "learn": [
                          0.006043797378
                        ],
                        "iteration": 420,
                        "passed_time": 7.200174004,
                        "remaining_time": 0.4959739813,
                        "test": [
                          0.03578814974
                        ]
                      },
                      {
                        "learn": [
                          0.006012524554
                        ],
                        "iteration": 421,
                        "passed_time": 7.225196627,
                        "remaining_time": 0.4793969326,
                        "test": [
                          0.03579702981
                        ]
                      },
                      {
                        "learn": [
                          0.005998101736
                        ],
                        "iteration": 422,
                        "passed_time": 7.245783563,
                        "remaining_time": 0.4624968232,
                        "test": [
                          0.03580192376
                        ]
                      },
                      {
                        "learn": [
                          0.005984106488
                        ],
                        "iteration": 423,
                        "passed_time": 7.268195004,
                        "remaining_time": 0.4456912031,
                        "test": [
                          0.03581236106
                        ]
                      },
                      {
                        "learn": [
                          0.005975653191
                        ],
                        "iteration": 424,
                        "passed_time": 7.291725408,
                        "remaining_time": 0.428925024,
                        "test": [
                          0.03581181191
                        ]
                      },
                      {
                        "learn": [
                          0.005957686255
                        ],
                        "iteration": 425,
                        "passed_time": 7.317398267,
                        "remaining_time": 0.4122477897,
                        "test": [
                          0.03581951519
                        ]
                      },
                      {
                        "learn": [
                          0.005952560414
                        ],
                        "iteration": 426,
                        "passed_time": 7.33981364,
                        "remaining_time": 0.3953529595,
                        "test": [
                          0.03582091236
                        ]
                      },
                      {
                        "learn": [
                          0.005908117368
                        ],
                        "iteration": 427,
                        "passed_time": 7.363274806,
                        "remaining_time": 0.3784860881,
                        "test": [
                          0.03581417299
                        ]
                      },
                      {
                        "learn": [
                          0.005897402075
                        ],
                        "iteration": 428,
                        "passed_time": 7.384732653,
                        "remaining_time": 0.3614904096,
                        "test": [
                          0.03580589769
                        ]
                      },
                      {
                        "learn": [
                          0.005876352682
                        ],
                        "iteration": 429,
                        "passed_time": 7.410130489,
                        "remaining_time": 0.3446572321,
                        "test": [
                          0.03580440692
                        ]
                      },
                      {
                        "learn": [
                          0.005869155166
                        ],
                        "iteration": 430,
                        "passed_time": 7.431043352,
                        "remaining_time": 0.3275865979,
                        "test": [
                          0.03580824162
                        ]
                      },
                      {
                        "learn": [
                          0.005860017731
                        ],
                        "iteration": 431,
                        "passed_time": 7.454416437,
                        "remaining_time": 0.3106006849,
                        "test": [
                          0.03581743596
                        ]
                      },
                      {
                        "learn": [
                          0.005847372959
                        ],
                        "iteration": 432,
                        "passed_time": 7.483559732,
                        "remaining_time": 0.293811814,
                        "test": [
                          0.03581925598
                        ]
                      },
                      {
                        "learn": [
                          0.005824018504
                        ],
                        "iteration": 433,
                        "passed_time": 7.513962911,
                        "remaining_time": 0.2770124576,
                        "test": [
                          0.03582156808
                        ]
                      },
                      {
                        "learn": [
                          0.005788909694
                        ],
                        "iteration": 434,
                        "passed_time": 7.535562317,
                        "remaining_time": 0.2598469765,
                        "test": [
                          0.03580055654
                        ]
                      },
                      {
                        "learn": [
                          0.00577198517
                        ],
                        "iteration": 435,
                        "passed_time": 7.558126269,
                        "remaining_time": 0.2426921279,
                        "test": [
                          0.0357943225
                        ]
                      },
                      {
                        "learn": [
                          0.00576278561
                        ],
                        "iteration": 436,
                        "passed_time": 7.597924275,
                        "remaining_time": 0.2260252073,
                        "test": [
                          0.03579601422
                        ]
                      },
                      {
                        "learn": [
                          0.005750151595
                        ],
                        "iteration": 437,
                        "passed_time": 7.622640262,
                        "remaining_time": 0.2088394592,
                        "test": [
                          0.03579357127
                        ]
                      },
                      {
                        "learn": [
                          0.005740817582
                        ],
                        "iteration": 438,
                        "passed_time": 7.645253347,
                        "remaining_time": 0.1915667126,
                        "test": [
                          0.03580614854
                        ]
                      },
                      {
                        "learn": [
                          0.005723076069
                        ],
                        "iteration": 439,
                        "passed_time": 7.668560645,
                        "remaining_time": 0.1742854692,
                        "test": [
                          0.0357926724
                        ]
                      },
                      {
                        "learn": [
                          0.005717390768
                        ],
                        "iteration": 440,
                        "passed_time": 7.688858671,
                        "remaining_time": 0.1569154831,
                        "test": [
                          0.03579517794
                        ]
                      },
                      {
                        "learn": [
                          0.005700205458
                        ],
                        "iteration": 441,
                        "passed_time": 7.714293873,
                        "remaining_time": 0.1396252285,
                        "test": [
                          0.03580815769
                        ]
                      },
                      {
                        "learn": [
                          0.005683262335
                        ],
                        "iteration": 442,
                        "passed_time": 7.739493944,
                        "remaining_time": 0.1222944867,
                        "test": [
                          0.0357948807
                        ]
                      },
                      {
                        "learn": [
                          0.005676691551
                        ],
                        "iteration": 443,
                        "passed_time": 7.759251276,
                        "remaining_time": 0.104854747,
                        "test": [
                          0.03579078654
                        ]
                      },
                      {
                        "learn": [
                          0.005669950081
                        ],
                        "iteration": 444,
                        "passed_time": 7.786446461,
                        "remaining_time": 0.08748816249,
                        "test": [
                          0.03578570263
                        ]
                      },
                      {
                        "learn": [
                          0.005661496835
                        ],
                        "iteration": 445,
                        "passed_time": 7.811811415,
                        "remaining_time": 0.07006108892,
                        "test": [
                          0.03578818932
                        ]
                      },
                      {
                        "learn": [
                          0.0056511515
                        ],
                        "iteration": 446,
                        "passed_time": 7.828414749,
                        "remaining_time": 0.0525396963,
                        "test": [
                          0.03579734039
                        ]
                      },
                      {
                        "learn": [
                          0.005635688553
                        ],
                        "iteration": 447,
                        "passed_time": 7.851269141,
                        "remaining_time": 0.03505030867,
                        "test": [
                          0.03579980706
                        ]
                      },
                      {
                        "learn": [
                          0.005630468149
                        ],
                        "iteration": 448,
                        "passed_time": 7.871040787,
                        "remaining_time": 0.01753015765,
                        "test": [
                          0.03579804944
                        ]
                      },
                      {
                        "learn": [
                          0.005619526589
                        ],
                        "iteration": 449,
                        "passed_time": 7.889266153,
                        "remaining_time": 0,
                        "test": [
                          0.03580229574
                        ]
                      }
                    ],
                    "meta": {
                      "test_sets": [
                        "test"
                      ],
                      "test_metrics": [
                        {
                          "best_value": "Min",
                          "name": "MultiClass"
                        }
                      ],
                      "learn_metrics": [
                        {
                          "best_value": "Min",
                          "name": "MultiClass"
                        }
                      ],
                      "launch_mode": "Train",
                      "parameters": "",
                      "iteration_count": 450,
                      "learn_sets": [
                        "learn"
                      ],
                      "name": "experiment"
                    }
                  }
                }
              }
            },
            "layout": "IPY_MODEL_94f2958d376b4e0fbea2d0a6e51692fe"
          }
        }
      }
    }
  },
  "nbformat": 4,
  "nbformat_minor": 5
}